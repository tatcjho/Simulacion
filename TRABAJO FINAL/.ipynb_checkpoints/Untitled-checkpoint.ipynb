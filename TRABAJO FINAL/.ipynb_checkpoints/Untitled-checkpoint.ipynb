{
 "cells": [
  {
   "cell_type": "code",
   "execution_count": 15,
   "metadata": {},
   "outputs": [],
   "source": [
    "from bs4 import BeautifulSoup\n",
    "import pandas as pd\n",
    "import requests\n",
    "import urllib.request\n",
    "import time"
   ]
  },
  {
   "cell_type": "code",
   "execution_count": 16,
   "metadata": {},
   "outputs": [],
   "source": [
    "#Create lists to store the scraped data\n",
    "authors = []\n",
    "dates = []\n",
    "statements = []\n",
    "sources = []\n",
    "targets = []"
   ]
  },
  {
   "cell_type": "code",
   "execution_count": 17,
   "metadata": {},
   "outputs": [],
   "source": [
    "#Create a function to scrape the site\n",
    "def scrape_website(page_number):\n",
    "  page_num = str(page_number) #Convert the page number to a string\n",
    "  URL = 'https://www.politifact.com/factchecks/list/?page='+page_num #append the page number to complete the URL\n",
    "  webpage = requests.get(URL)  #Make a request to the website\n",
    "  #time.sleep(3)\n",
    "  soup = BeautifulSoup(webpage.text, \"html.parser\") #Parse the text from the website\n",
    "  #Get the tags and it's class\n",
    "  statement_footer =  soup.find_all('footer',attrs={'class':'m-statement__footer'})  #Get the tag and it's class\n",
    "  statement_quote = soup.find_all('div', attrs={'class':'m-statement__quote'}) #Get the tag and it's class\n",
    "  statement_meta = soup.find_all('div', attrs={'class':'m-statement__meta'})#Get the tag and it's class\n",
    "  target = soup.find_all('div', attrs={'class':'m-statement__meter'}) #Get the tag and it's class\n",
    "  #loop through the footer class m-statement__footer to get the date and author\n",
    "  for i in statement_footer:\n",
    "    link1 = i.text.strip()\n",
    "    name_and_date = link1.split()\n",
    "    first_name = name_and_date[1]\n",
    "    last_name = name_and_date[2]\n",
    "    full_name = first_name+' '+last_name\n",
    "    month = name_and_date[4]\n",
    "    day = name_and_date[5]\n",
    "    year = name_and_date[6]\n",
    "    date = month+' '+day+' '+year\n",
    "    dates.append(date)\n",
    "    authors.append(full_name)\n",
    "  #Loop through the div m-statement__quote to get the link\n",
    "  for i in statement_quote:\n",
    "    link2 = i.find_all('a')\n",
    "    statements.append(link2[0].text.strip())\n",
    " #Loop through the div m-statement__meta to get the source\n",
    "  for i in statement_meta:\n",
    "    link3 = i.find_all('a') #Source\n",
    "    source_text = link3[0].text.strip()\n",
    "    sources.append(source_text)\n",
    "  #Loop through the target or the div m-statement__meter to get the facts about the statement (True or False)\n",
    "  for i in target:\n",
    "    fact = i.find('div', attrs={'class':'c-image'}).find('img').get('alt')\n",
    "    targets.append(fact)"
   ]
  },
  {
   "cell_type": "code",
   "execution_count": 18,
   "metadata": {},
   "outputs": [],
   "source": [
    "#Loop through 'n-1' webpages to scrape the data\n",
    "n=10\n",
    "for i in range(1, n):\n",
    "    scrape_website(i)"
   ]
  },
  {
   "cell_type": "code",
   "execution_count": 19,
   "metadata": {},
   "outputs": [],
   "source": [
    "#Create a function to get a binary number from the target\n",
    "def getBinaryNumTarget(text):\n",
    "    if text == 'true':\n",
    "        return 1\n",
    "    else:\n",
    "        return 0"
   ]
  },
  {
   "cell_type": "code",
   "execution_count": 20,
   "metadata": {},
   "outputs": [],
   "source": [
    "#Create a function to get only true or false values from the target\n",
    "def getBinaryTarget(text):\n",
    "    if text == 'true':\n",
    "        return 'REAL'\n",
    "    else:\n",
    "        return 'FAKE'"
   ]
  },
  {
   "cell_type": "code",
   "execution_count": 21,
   "metadata": {},
   "outputs": [
    {
     "ename": "NameError",
     "evalue": "name 'data' is not defined",
     "output_type": "error",
     "traceback": [
      "\u001b[1;31m---------------------------------------------------------------------------\u001b[0m",
      "\u001b[1;31mNameError\u001b[0m                                 Traceback (most recent call last)",
      "\u001b[1;32m<ipython-input-21-96c6cefc3e35>\u001b[0m in \u001b[0;36m<module>\u001b[1;34m\u001b[0m\n\u001b[0;32m      1\u001b[0m \u001b[1;31m#Store the data in the dataframe\u001b[0m\u001b[1;33m\u001b[0m\u001b[1;33m\u001b[0m\u001b[1;33m\u001b[0m\u001b[0m\n\u001b[1;32m----> 2\u001b[1;33m \u001b[0mdata\u001b[0m\u001b[1;33m[\u001b[0m\u001b[1;34m'BinaryTarget'\u001b[0m\u001b[1;33m]\u001b[0m \u001b[1;33m=\u001b[0m \u001b[0mdata\u001b[0m\u001b[1;33m[\u001b[0m\u001b[1;34m'target'\u001b[0m\u001b[1;33m]\u001b[0m\u001b[1;33m.\u001b[0m\u001b[0mapply\u001b[0m\u001b[1;33m(\u001b[0m\u001b[0mgetBinaryTarget\u001b[0m\u001b[1;33m)\u001b[0m\u001b[1;33m\u001b[0m\u001b[1;33m\u001b[0m\u001b[0m\n\u001b[0m\u001b[0;32m      3\u001b[0m \u001b[0mdata\u001b[0m\u001b[1;33m[\u001b[0m\u001b[1;34m'BinaryNumTarget'\u001b[0m\u001b[1;33m]\u001b[0m \u001b[1;33m=\u001b[0m \u001b[0mdata\u001b[0m\u001b[1;33m[\u001b[0m\u001b[1;34m'target'\u001b[0m\u001b[1;33m]\u001b[0m\u001b[1;33m.\u001b[0m\u001b[0mapply\u001b[0m\u001b[1;33m(\u001b[0m\u001b[0mgetBinaryNumTarget\u001b[0m\u001b[1;33m)\u001b[0m\u001b[1;33m\u001b[0m\u001b[1;33m\u001b[0m\u001b[0m\n\u001b[0;32m      4\u001b[0m \u001b[0mdata\u001b[0m\u001b[1;33m\u001b[0m\u001b[1;33m\u001b[0m\u001b[0m\n",
      "\u001b[1;31mNameError\u001b[0m: name 'data' is not defined"
     ]
    }
   ],
   "source": [
    "#Store the data in the dataframe\n",
    "data['BinaryTarget'] = data['target'].apply(getBinaryTarget)\n",
    "data['BinaryNumTarget'] = data['target'].apply(getBinaryNumTarget)\n",
    "data"
   ]
  },
  {
   "cell_type": "code",
   "execution_count": 43,
   "metadata": {},
   "outputs": [],
   "source": [
    "data.to_csv('political_fact_checker.csv')"
   ]
  },
  {
   "cell_type": "code",
   "execution_count": null,
   "metadata": {},
   "outputs": [],
   "source": []
  }
 ],
 "metadata": {
  "kernelspec": {
   "display_name": "Python 3",
   "language": "python",
   "name": "python3"
  },
  "language_info": {
   "codemirror_mode": {
    "name": "ipython",
    "version": 3
   },
   "file_extension": ".py",
   "mimetype": "text/x-python",
   "name": "python",
   "nbconvert_exporter": "python",
   "pygments_lexer": "ipython3",
   "version": "3.8.8"
  }
 },
 "nbformat": 4,
 "nbformat_minor": 4
}
