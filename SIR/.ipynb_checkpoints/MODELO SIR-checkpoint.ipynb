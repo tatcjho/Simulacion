{
 "cells": [
  {
   "cell_type": "markdown",
   "metadata": {},
   "source": [
    "# Simulacion Modelo SIR\n",
    "Realizado por: Tatiana Cárdenas Jho"
   ]
  },
  {
   "cell_type": "markdown",
   "metadata": {},
   "source": [
    "# Análisis del modelo:"
   ]
  },
  {
   "cell_type": "markdown",
   "metadata": {},
   "source": [
    "Los modelos matemáticos se sirven de herramientas matemáticas para estudiar un fenómeno de la vida real de manera abstracta y simplificada. Para ello se expresan mediante una formulación matemática las relaciones entre las magnitudes que intervienen en el fenómeno. "
   ]
  },
  {
   "cell_type": "markdown",
   "metadata": {},
   "source": [
    "El modelo básico SIR (Susceptibles-Infectados-Recuperados) de Kermack y McKendrick, es un modelo de compartimentos donde la población bajo estudio se divide en clases epidemiológicas y se describe un flujo entre ellas. Un sistema sanitario robusto que proporcione al modelo datos confiables y aunados a políticas públicas de salud coherentes, contribuye a controlar los impactos de contingencias epidémicas. De ahí que el objetivo del presente estudio sea aplicar el modelo SIR, sin profundizar en el aparato matemático que lo acompaña, para conocer el impacto de la COVID-19 en Cuba, con énfasis en La Habana, como centro de la epidemia en el país en el período del 11 de marzo al 16 de julio de 2020."
   ]
  },
  {
   "cell_type": "markdown",
   "metadata": {},
   "source": [
    "De tal manera que se muestra el modelo con coeficientes variables en el tiempo y su utilidad como modelo dinámico para hacer proyecciones en situaciones epidémicas; se aplica a regiones locales específicas y se manifiestan sus potencialidades para analizar rebrotes por la aparición de eventos locales que se alejan de las predicciones previstas."
   ]
  },
  {
   "cell_type": "markdown",
   "metadata": {},
   "source": [
    "________________________________________________________________________"
   ]
  },
  {
   "cell_type": "markdown",
   "metadata": {},
   "source": [
    "#Importación de librerías\n",
    "import matplotlib.pyplot as plt\n",
    "import numpy as np\n",
    "import pandas as pd\n",
    "from datetime import datetime,timedelta\n",
    "import datetime as dt\n",
    "from sklearn.linear_model import LinearRegression\n",
    "\n",
    "from sklearn.pipeline import Pipeline\n",
    "from scipy.integrate import odeint\n",
    "import matplotlib.pyplot as plt\n",
    "from datetime import datetime, timedelta\n",
    "from sklearn.model_selection import train_test_split\n",
    "import time\n",
    "print('Importadas')"
   ]
  },
  {
   "cell_type": "code",
   "execution_count": 15,
   "metadata": {},
   "outputs": [],
   "source": [
    "#Variables\n",
    "# Total de la poblacion\n",
    "N = 17000000\n",
    "# Numero Inicial de Infectados\n",
    "I0 = 1\n",
    "# Numero de Recuperados\n",
    "R0 = 0\n",
    "# Todos los demás, S0, son susceptibles a la infección inicialmente.\n",
    "S0 = N - I0 - R0\n",
    "# Tasa de contacto, beta (nivel de repoductividad del virus) \n",
    "# La tasa de recuperación media, gamma,(1/días) Una persona se recupera alrededor en 15 días.\n",
    "beta, gamma = 0.24, 1/15\n",
    "# Una cuadrícula de puntos de tiempo (en días)\n",
    "t = np.linspace(0, 365, 365)"
   ]
  },
  {
   "cell_type": "markdown",
   "metadata": {},
   "source": [
    "Modelo SIR"
   ]
  },
  {
   "cell_type": "code",
   "execution_count": 16,
   "metadata": {},
   "outputs": [],
   "source": [
    "def deriv(y, t, N, beta, gamma):\n",
    "    S, I, R = y\n",
    "    dSdt = -beta * S * I / N \n",
    "    dIdt = beta * S * I / N - gamma * I\n",
    "    dRdt = gamma * I\n",
    "    return dSdt, dIdt, dRdt"
   ]
  },
  {
   "cell_type": "code",
   "execution_count": 17,
   "metadata": {},
   "outputs": [],
   "source": [
    "# Condicones principales\n",
    "y0 = S0, I0, R0\n",
    "ret = odeint(deriv, y0, t, args=(N, beta, gamma))\n",
    "S, I, R = ret.T # Obtenicion de resultados"
   ]
  },
  {
   "cell_type": "markdown",
   "metadata": {},
   "source": [
    "Representación gráfica:"
   ]
  },
  {
   "cell_type": "code",
   "execution_count": 19,
   "metadata": {},
   "outputs": [
    {
     "data": {
      "image/png": "[encoded data removed]",
      "text/plain": [
       "<Figure size 432x288 with 1 Axes>"
      ]
     },
     "metadata": {},
     "output_type": "display_data"
    },
    {
     "name": "stdout",
     "output_type": "stream",
     "text": [
      "3.6\n"
     ]
    }
   ],
   "source": [
    "fig = plt.figure(facecolor='w')\n",
    "ax = fig.add_subplot(111,  axisbelow=True)\n",
    "ax.plot(t, S, 'b', alpha=0.5, lw=2, label='Sustible de infeccion')\n",
    "ax.plot(t, I, 'r', alpha=0.5, lw=2, label='Infectados')\n",
    "ax.plot(t, R, 'g', alpha=0.5, lw=2, label='Recuperados')\n",
    "ax.set_xlabel('Tiempo en dias')\n",
    "ax.set_ylabel('Numero de Personas')\n",
    "ax.set_ylim(0,N*1.2)\n",
    "ax.yaxis.set_tick_params(length=0)\n",
    "ax.xaxis.set_tick_params(length=0)\n",
    "ax.grid(b=True, which='major', c='w', lw=2, ls='-')\n",
    "legend = ax.legend()\n",
    "legend.get_frame().set_alpha(0.5)\n",
    "for spine in ('top', 'right', 'bottom', 'left'):\n",
    "    ax.spines[spine].set_visible(False)\n",
    "plt.show()\n",
    "\n",
    "Ro = beta/gamma\n",
    "print(Ro)"
   ]
  },
  {
   "cell_type": "markdown",
   "metadata": {},
   "source": [
    "Conclusiones:\n",
    "* Un sistema de salud robusto y organizado es una ventaja muy importante para aprovechar las potencialidades de los modelos epidemiológicos, ya que el empleo de modelos matemáticos para enfermedades infecciosas ha crecido en grado significativo en los últimos años debido a que proporcionan información útil\n",
    "para tomar decisiones, e instituir medidas operativas en\n",
    "el control o erradicación de una enfermedad infecciosa.\n",
    "* La calidad en la estimación de parámetros depende en gran medida de la calidad de los datos que el sistema de salud pueda proporcionar. "
   ]
  },
  {
   "cell_type": "markdown",
   "metadata": {},
   "source": [
    "Referencias:\n",
    "* https://scielosp.org/article/rcsp/2020.v46suppl1/e2597/\n",
    "* https://pybonacci.org/2020/09/16/modelo-sir-modelo-epidemiologico-con-python/\n"
   ]
  },
  {
   "cell_type": "code",
   "execution_count": null,
   "metadata": {},
   "outputs": [],
   "source": []
  }
 ],
 "metadata": {
  "kernelspec": {
   "display_name": "Python 3",
   "language": "python",
   "name": "python3"
  },
  "language_info": {
   "codemirror_mode": {
    "name": "ipython",
    "version": 3
   },
   "file_extension": ".py",
   "mimetype": "text/x-python",
   "name": "python",
   "nbconvert_exporter": "python",
   "pygments_lexer": "ipython3",
   "version": "3.8.5"
  }
 },
 "nbformat": 4,
 "nbformat_minor": 4
}
