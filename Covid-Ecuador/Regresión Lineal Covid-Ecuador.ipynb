{
 "cells": [
  {
   "cell_type": "markdown",
   "metadata": {},
   "source": [
    "# Regresión Lineal COVID-19 Ecuador\n",
    "Realizado por: Tatiana Cárdenas Jho"
   ]
  },
  {
   "cell_type": "code",
   "execution_count": 73,
   "metadata": {},
   "outputs": [
    {
     "name": "stdout",
     "output_type": "stream",
     "text": [
      "Importadas\n"
     ]
    }
   ],
   "source": [
    "#Problema:\n",
    "#Generar un modelo de regresión de los casos confirmados de COVID dentro del Ecuador el mismo que permitirá predecir el comportamiento y/o predicción de la pandemia \n",
    "\n",
    "#Importación de librerías\n",
    "import matplotlib.pyplot as plt\n",
    "import numpy as np\n",
    "import pandas as pd\n",
    "from datetime import datetime,timedelta\n",
    "import datetime as dt\n",
    "from sklearn.linear_model import LinearRegression  \n",
    "print('Importadas')"
   ]
  },
  {
   "cell_type": "code",
   "execution_count": 74,
   "metadata": {},
   "outputs": [
    {
     "name": "stdout",
     "output_type": "stream",
     "text": [
      "(407, 59)\n"
     ]
    },
    {
     "data": {
      "text/html": [
       "<div>\n",
       "<style scoped>\n",
       "    .dataframe tbody tr th:only-of-type {\n",
       "        vertical-align: middle;\n",
       "    }\n",
       "\n",
       "    .dataframe tbody tr th {\n",
       "        vertical-align: top;\n",
       "    }\n",
       "\n",
       "    .dataframe thead th {\n",
       "        text-align: right;\n",
       "    }\n",
       "</style>\n",
       "<table border=\"1\" class=\"dataframe\">\n",
       "  <thead>\n",
       "    <tr style=\"text-align: right;\">\n",
       "      <th></th>\n",
       "      <th>iso_code</th>\n",
       "      <th>continent</th>\n",
       "      <th>location</th>\n",
       "      <th>date</th>\n",
       "      <th>total_cases</th>\n",
       "      <th>new_cases</th>\n",
       "      <th>new_cases_smoothed</th>\n",
       "      <th>total_deaths</th>\n",
       "      <th>new_deaths</th>\n",
       "      <th>new_deaths_smoothed</th>\n",
       "      <th>...</th>\n",
       "      <th>gdp_per_capita</th>\n",
       "      <th>extreme_poverty</th>\n",
       "      <th>cardiovasc_death_rate</th>\n",
       "      <th>diabetes_prevalence</th>\n",
       "      <th>female_smokers</th>\n",
       "      <th>male_smokers</th>\n",
       "      <th>handwashing_facilities</th>\n",
       "      <th>hospital_beds_per_thousand</th>\n",
       "      <th>life_expectancy</th>\n",
       "      <th>human_development_index</th>\n",
       "    </tr>\n",
       "  </thead>\n",
       "  <tbody>\n",
       "    <tr>\n",
       "      <th>38</th>\n",
       "      <td>ECU</td>\n",
       "      <td>South America</td>\n",
       "      <td>Ecuador</td>\n",
       "      <td>2020-04-08</td>\n",
       "      <td>4450</td>\n",
       "      <td>703</td>\n",
       "      <td>243.143</td>\n",
       "      <td>242.0</td>\n",
       "      <td>51.0</td>\n",
       "      <td>21.286</td>\n",
       "      <td>...</td>\n",
       "      <td>10581.936</td>\n",
       "      <td>3.6</td>\n",
       "      <td>140.448</td>\n",
       "      <td>5.55</td>\n",
       "      <td>2</td>\n",
       "      <td>12.3</td>\n",
       "      <td>80.635</td>\n",
       "      <td>1.5</td>\n",
       "      <td>77.01</td>\n",
       "      <td>0.759</td>\n",
       "    </tr>\n",
       "    <tr>\n",
       "      <th>386</th>\n",
       "      <td>ECU</td>\n",
       "      <td>South America</td>\n",
       "      <td>Ecuador</td>\n",
       "      <td>2021-03-22</td>\n",
       "      <td>312851</td>\n",
       "      <td>253</td>\n",
       "      <td>1479.000</td>\n",
       "      <td>16478.0</td>\n",
       "      <td>27.0</td>\n",
       "      <td>34.000</td>\n",
       "      <td>...</td>\n",
       "      <td>10581.936</td>\n",
       "      <td>3.6</td>\n",
       "      <td>140.448</td>\n",
       "      <td>5.55</td>\n",
       "      <td>2</td>\n",
       "      <td>12.3</td>\n",
       "      <td>80.635</td>\n",
       "      <td>1.5</td>\n",
       "      <td>77.01</td>\n",
       "      <td>0.759</td>\n",
       "    </tr>\n",
       "    <tr>\n",
       "      <th>133</th>\n",
       "      <td>ECU</td>\n",
       "      <td>South America</td>\n",
       "      <td>Ecuador</td>\n",
       "      <td>2020-07-12</td>\n",
       "      <td>67870</td>\n",
       "      <td>661</td>\n",
       "      <td>844.571</td>\n",
       "      <td>5047.0</td>\n",
       "      <td>16.0</td>\n",
       "      <td>38.000</td>\n",
       "      <td>...</td>\n",
       "      <td>10581.936</td>\n",
       "      <td>3.6</td>\n",
       "      <td>140.448</td>\n",
       "      <td>5.55</td>\n",
       "      <td>2</td>\n",
       "      <td>12.3</td>\n",
       "      <td>80.635</td>\n",
       "      <td>1.5</td>\n",
       "      <td>77.01</td>\n",
       "      <td>0.759</td>\n",
       "    </tr>\n",
       "    <tr>\n",
       "      <th>5</th>\n",
       "      <td>ECU</td>\n",
       "      <td>South America</td>\n",
       "      <td>Ecuador</td>\n",
       "      <td>2020-03-06</td>\n",
       "      <td>13</td>\n",
       "      <td>0</td>\n",
       "      <td>1.857</td>\n",
       "      <td>NaN</td>\n",
       "      <td>NaN</td>\n",
       "      <td>0.000</td>\n",
       "      <td>...</td>\n",
       "      <td>10581.936</td>\n",
       "      <td>3.6</td>\n",
       "      <td>140.448</td>\n",
       "      <td>5.55</td>\n",
       "      <td>2</td>\n",
       "      <td>12.3</td>\n",
       "      <td>80.635</td>\n",
       "      <td>1.5</td>\n",
       "      <td>77.01</td>\n",
       "      <td>0.759</td>\n",
       "    </tr>\n",
       "    <tr>\n",
       "      <th>179</th>\n",
       "      <td>ECU</td>\n",
       "      <td>South America</td>\n",
       "      <td>Ecuador</td>\n",
       "      <td>2020-08-27</td>\n",
       "      <td>111219</td>\n",
       "      <td>670</td>\n",
       "      <td>815.857</td>\n",
       "      <td>6471.0</td>\n",
       "      <td>61.0</td>\n",
       "      <td>38.714</td>\n",
       "      <td>...</td>\n",
       "      <td>10581.936</td>\n",
       "      <td>3.6</td>\n",
       "      <td>140.448</td>\n",
       "      <td>5.55</td>\n",
       "      <td>2</td>\n",
       "      <td>12.3</td>\n",
       "      <td>80.635</td>\n",
       "      <td>1.5</td>\n",
       "      <td>77.01</td>\n",
       "      <td>0.759</td>\n",
       "    </tr>\n",
       "  </tbody>\n",
       "</table>\n",
       "<p>5 rows × 59 columns</p>\n",
       "</div>"
      ],
      "text/plain": [
       "    iso_code      continent location        date  total_cases  new_cases  \\\n",
       "38       ECU  South America  Ecuador  2020-04-08         4450        703   \n",
       "386      ECU  South America  Ecuador  2021-03-22       312851        253   \n",
       "133      ECU  South America  Ecuador  2020-07-12        67870        661   \n",
       "5        ECU  South America  Ecuador  2020-03-06           13          0   \n",
       "179      ECU  South America  Ecuador  2020-08-27       111219        670   \n",
       "\n",
       "     new_cases_smoothed  total_deaths  new_deaths  new_deaths_smoothed  ...  \\\n",
       "38              243.143         242.0        51.0               21.286  ...   \n",
       "386            1479.000       16478.0        27.0               34.000  ...   \n",
       "133             844.571        5047.0        16.0               38.000  ...   \n",
       "5                 1.857           NaN         NaN                0.000  ...   \n",
       "179             815.857        6471.0        61.0               38.714  ...   \n",
       "\n",
       "     gdp_per_capita  extreme_poverty  cardiovasc_death_rate  \\\n",
       "38        10581.936              3.6                140.448   \n",
       "386       10581.936              3.6                140.448   \n",
       "133       10581.936              3.6                140.448   \n",
       "5         10581.936              3.6                140.448   \n",
       "179       10581.936              3.6                140.448   \n",
       "\n",
       "     diabetes_prevalence  female_smokers  male_smokers  \\\n",
       "38                  5.55               2          12.3   \n",
       "386                 5.55               2          12.3   \n",
       "133                 5.55               2          12.3   \n",
       "5                   5.55               2          12.3   \n",
       "179                 5.55               2          12.3   \n",
       "\n",
       "     handwashing_facilities  hospital_beds_per_thousand  life_expectancy  \\\n",
       "38                   80.635                         1.5            77.01   \n",
       "386                  80.635                         1.5            77.01   \n",
       "133                  80.635                         1.5            77.01   \n",
       "5                    80.635                         1.5            77.01   \n",
       "179                  80.635                         1.5            77.01   \n",
       "\n",
       "     human_development_index  \n",
       "38                     0.759  \n",
       "386                    0.759  \n",
       "133                    0.759  \n",
       "5                      0.759  \n",
       "179                    0.759  \n",
       "\n",
       "[5 rows x 59 columns]"
      ]
     },
     "execution_count": 74,
     "metadata": {},
     "output_type": "execute_result"
    }
   ],
   "source": [
    "#Carga de datos\n",
    "\n",
    "#Variables\n",
    "#dataset = pd.read_csv('dataset.csv')\n",
    "#print(dataset.head())\n",
    "\n",
    "df=pd.read_csv('dataset.csv') \n",
    "print(df.shape)\n",
    "df.sample(5)"
   ]
  },
  {
   "cell_type": "code",
   "execution_count": 75,
   "metadata": {},
   "outputs": [
    {
     "data": {
      "text/html": [
       "<div>\n",
       "<style scoped>\n",
       "    .dataframe tbody tr th:only-of-type {\n",
       "        vertical-align: middle;\n",
       "    }\n",
       "\n",
       "    .dataframe tbody tr th {\n",
       "        vertical-align: top;\n",
       "    }\n",
       "\n",
       "    .dataframe thead th {\n",
       "        text-align: right;\n",
       "    }\n",
       "</style>\n",
       "<table border=\"1\" class=\"dataframe\">\n",
       "  <thead>\n",
       "    <tr style=\"text-align: right;\">\n",
       "      <th></th>\n",
       "      <th>total_cases</th>\n",
       "      <th>new_cases</th>\n",
       "      <th>new_cases_smoothed</th>\n",
       "      <th>total_deaths</th>\n",
       "      <th>new_deaths</th>\n",
       "      <th>new_deaths_smoothed</th>\n",
       "      <th>total_cases_per_million</th>\n",
       "      <th>new_cases_per_million</th>\n",
       "      <th>new_cases_smoothed_per_million</th>\n",
       "      <th>total_deaths_per_million</th>\n",
       "      <th>...</th>\n",
       "      <th>gdp_per_capita</th>\n",
       "      <th>extreme_poverty</th>\n",
       "      <th>cardiovasc_death_rate</th>\n",
       "      <th>diabetes_prevalence</th>\n",
       "      <th>female_smokers</th>\n",
       "      <th>male_smokers</th>\n",
       "      <th>handwashing_facilities</th>\n",
       "      <th>hospital_beds_per_thousand</th>\n",
       "      <th>life_expectancy</th>\n",
       "      <th>human_development_index</th>\n",
       "    </tr>\n",
       "  </thead>\n",
       "  <tbody>\n",
       "    <tr>\n",
       "      <th>count</th>\n",
       "      <td>407.000</td>\n",
       "      <td>407.000</td>\n",
       "      <td>402.000</td>\n",
       "      <td>394.000</td>\n",
       "      <td>394.000</td>\n",
       "      <td>402.000</td>\n",
       "      <td>407.000</td>\n",
       "      <td>407.000</td>\n",
       "      <td>402.000</td>\n",
       "      <td>394.000</td>\n",
       "      <td>...</td>\n",
       "      <td>407.000</td>\n",
       "      <td>407.0</td>\n",
       "      <td>407.000</td>\n",
       "      <td>407.00</td>\n",
       "      <td>407.0</td>\n",
       "      <td>407.0</td>\n",
       "      <td>407.000</td>\n",
       "      <td>407.0</td>\n",
       "      <td>407.00</td>\n",
       "      <td>407.000</td>\n",
       "    </tr>\n",
       "    <tr>\n",
       "      <th>mean</th>\n",
       "      <td>137704.005</td>\n",
       "      <td>852.130</td>\n",
       "      <td>849.336</td>\n",
       "      <td>9215.898</td>\n",
       "      <td>43.891</td>\n",
       "      <td>42.604</td>\n",
       "      <td>7804.996</td>\n",
       "      <td>48.298</td>\n",
       "      <td>48.140</td>\n",
       "      <td>522.353</td>\n",
       "      <td>...</td>\n",
       "      <td>10581.936</td>\n",
       "      <td>3.6</td>\n",
       "      <td>140.448</td>\n",
       "      <td>5.55</td>\n",
       "      <td>2.0</td>\n",
       "      <td>12.3</td>\n",
       "      <td>80.635</td>\n",
       "      <td>1.5</td>\n",
       "      <td>77.01</td>\n",
       "      <td>0.759</td>\n",
       "    </tr>\n",
       "    <tr>\n",
       "      <th>std</th>\n",
       "      <td>100545.657</td>\n",
       "      <td>967.507</td>\n",
       "      <td>468.354</td>\n",
       "      <td>5646.413</td>\n",
       "      <td>196.902</td>\n",
       "      <td>75.717</td>\n",
       "      <td>5698.879</td>\n",
       "      <td>54.838</td>\n",
       "      <td>26.546</td>\n",
       "      <td>320.036</td>\n",
       "      <td>...</td>\n",
       "      <td>0.000</td>\n",
       "      <td>0.0</td>\n",
       "      <td>0.000</td>\n",
       "      <td>0.00</td>\n",
       "      <td>0.0</td>\n",
       "      <td>0.0</td>\n",
       "      <td>0.000</td>\n",
       "      <td>0.0</td>\n",
       "      <td>0.00</td>\n",
       "      <td>0.000</td>\n",
       "    </tr>\n",
       "    <tr>\n",
       "      <th>min</th>\n",
       "      <td>6.000</td>\n",
       "      <td>-7953.000</td>\n",
       "      <td>-525.000</td>\n",
       "      <td>2.000</td>\n",
       "      <td>0.000</td>\n",
       "      <td>0.000</td>\n",
       "      <td>0.340</td>\n",
       "      <td>-450.772</td>\n",
       "      <td>-29.757</td>\n",
       "      <td>0.113</td>\n",
       "      <td>...</td>\n",
       "      <td>10581.936</td>\n",
       "      <td>3.6</td>\n",
       "      <td>140.448</td>\n",
       "      <td>5.55</td>\n",
       "      <td>2.0</td>\n",
       "      <td>12.3</td>\n",
       "      <td>80.635</td>\n",
       "      <td>1.5</td>\n",
       "      <td>77.01</td>\n",
       "      <td>0.759</td>\n",
       "    </tr>\n",
       "    <tr>\n",
       "      <th>25%</th>\n",
       "      <td>44440.000</td>\n",
       "      <td>353.000</td>\n",
       "      <td>562.572</td>\n",
       "      <td>4172.750</td>\n",
       "      <td>12.000</td>\n",
       "      <td>21.179</td>\n",
       "      <td>2518.837</td>\n",
       "      <td>20.008</td>\n",
       "      <td>31.886</td>\n",
       "      <td>236.510</td>\n",
       "      <td>...</td>\n",
       "      <td>10581.936</td>\n",
       "      <td>3.6</td>\n",
       "      <td>140.448</td>\n",
       "      <td>5.55</td>\n",
       "      <td>2.0</td>\n",
       "      <td>12.3</td>\n",
       "      <td>80.635</td>\n",
       "      <td>1.5</td>\n",
       "      <td>77.01</td>\n",
       "      <td>0.759</td>\n",
       "    </tr>\n",
       "    <tr>\n",
       "      <th>50%</th>\n",
       "      <td>126419.000</td>\n",
       "      <td>765.000</td>\n",
       "      <td>869.143</td>\n",
       "      <td>11276.000</td>\n",
       "      <td>27.000</td>\n",
       "      <td>31.143</td>\n",
       "      <td>7165.367</td>\n",
       "      <td>43.360</td>\n",
       "      <td>49.262</td>\n",
       "      <td>639.118</td>\n",
       "      <td>...</td>\n",
       "      <td>10581.936</td>\n",
       "      <td>3.6</td>\n",
       "      <td>140.448</td>\n",
       "      <td>5.55</td>\n",
       "      <td>2.0</td>\n",
       "      <td>12.3</td>\n",
       "      <td>80.635</td>\n",
       "      <td>1.5</td>\n",
       "      <td>77.01</td>\n",
       "      <td>0.759</td>\n",
       "    </tr>\n",
       "    <tr>\n",
       "      <th>75%</th>\n",
       "      <td>212012.000</td>\n",
       "      <td>1202.000</td>\n",
       "      <td>1123.750</td>\n",
       "      <td>14059.000</td>\n",
       "      <td>43.000</td>\n",
       "      <td>39.964</td>\n",
       "      <td>12016.736</td>\n",
       "      <td>68.128</td>\n",
       "      <td>63.694</td>\n",
       "      <td>796.857</td>\n",
       "      <td>...</td>\n",
       "      <td>10581.936</td>\n",
       "      <td>3.6</td>\n",
       "      <td>140.448</td>\n",
       "      <td>5.55</td>\n",
       "      <td>2.0</td>\n",
       "      <td>12.3</td>\n",
       "      <td>80.635</td>\n",
       "      <td>1.5</td>\n",
       "      <td>77.01</td>\n",
       "      <td>0.759</td>\n",
       "    </tr>\n",
       "    <tr>\n",
       "      <th>max</th>\n",
       "      <td>346817.000</td>\n",
       "      <td>11536.000</td>\n",
       "      <td>2038.429</td>\n",
       "      <td>17293.000</td>\n",
       "      <td>3852.000</td>\n",
       "      <td>597.000</td>\n",
       "      <td>19657.418</td>\n",
       "      <td>653.855</td>\n",
       "      <td>115.537</td>\n",
       "      <td>980.159</td>\n",
       "      <td>...</td>\n",
       "      <td>10581.936</td>\n",
       "      <td>3.6</td>\n",
       "      <td>140.448</td>\n",
       "      <td>5.55</td>\n",
       "      <td>2.0</td>\n",
       "      <td>12.3</td>\n",
       "      <td>80.635</td>\n",
       "      <td>1.5</td>\n",
       "      <td>77.01</td>\n",
       "      <td>0.759</td>\n",
       "    </tr>\n",
       "  </tbody>\n",
       "</table>\n",
       "<p>8 rows × 54 columns</p>\n",
       "</div>"
      ],
      "text/plain": [
       "       total_cases  new_cases  new_cases_smoothed  total_deaths  new_deaths  \\\n",
       "count      407.000    407.000             402.000       394.000     394.000   \n",
       "mean    137704.005    852.130             849.336      9215.898      43.891   \n",
       "std     100545.657    967.507             468.354      5646.413     196.902   \n",
       "min          6.000  -7953.000            -525.000         2.000       0.000   \n",
       "25%      44440.000    353.000             562.572      4172.750      12.000   \n",
       "50%     126419.000    765.000             869.143     11276.000      27.000   \n",
       "75%     212012.000   1202.000            1123.750     14059.000      43.000   \n",
       "max     346817.000  11536.000            2038.429     17293.000    3852.000   \n",
       "\n",
       "       new_deaths_smoothed  total_cases_per_million  new_cases_per_million  \\\n",
       "count              402.000                  407.000                407.000   \n",
       "mean                42.604                 7804.996                 48.298   \n",
       "std                 75.717                 5698.879                 54.838   \n",
       "min                  0.000                    0.340               -450.772   \n",
       "25%                 21.179                 2518.837                 20.008   \n",
       "50%                 31.143                 7165.367                 43.360   \n",
       "75%                 39.964                12016.736                 68.128   \n",
       "max                597.000                19657.418                653.855   \n",
       "\n",
       "       new_cases_smoothed_per_million  total_deaths_per_million  ...  \\\n",
       "count                         402.000                   394.000  ...   \n",
       "mean                           48.140                   522.353  ...   \n",
       "std                            26.546                   320.036  ...   \n",
       "min                           -29.757                     0.113  ...   \n",
       "25%                            31.886                   236.510  ...   \n",
       "50%                            49.262                   639.118  ...   \n",
       "75%                            63.694                   796.857  ...   \n",
       "max                           115.537                   980.159  ...   \n",
       "\n",
       "       gdp_per_capita  extreme_poverty  cardiovasc_death_rate  \\\n",
       "count         407.000            407.0                407.000   \n",
       "mean        10581.936              3.6                140.448   \n",
       "std             0.000              0.0                  0.000   \n",
       "min         10581.936              3.6                140.448   \n",
       "25%         10581.936              3.6                140.448   \n",
       "50%         10581.936              3.6                140.448   \n",
       "75%         10581.936              3.6                140.448   \n",
       "max         10581.936              3.6                140.448   \n",
       "\n",
       "       diabetes_prevalence  female_smokers  male_smokers  \\\n",
       "count               407.00           407.0         407.0   \n",
       "mean                  5.55             2.0          12.3   \n",
       "std                   0.00             0.0           0.0   \n",
       "min                   5.55             2.0          12.3   \n",
       "25%                   5.55             2.0          12.3   \n",
       "50%                   5.55             2.0          12.3   \n",
       "75%                   5.55             2.0          12.3   \n",
       "max                   5.55             2.0          12.3   \n",
       "\n",
       "       handwashing_facilities  hospital_beds_per_thousand  life_expectancy  \\\n",
       "count                 407.000                       407.0           407.00   \n",
       "mean                   80.635                         1.5            77.01   \n",
       "std                     0.000                         0.0             0.00   \n",
       "min                    80.635                         1.5            77.01   \n",
       "25%                    80.635                         1.5            77.01   \n",
       "50%                    80.635                         1.5            77.01   \n",
       "75%                    80.635                         1.5            77.01   \n",
       "max                    80.635                         1.5            77.01   \n",
       "\n",
       "       human_development_index  \n",
       "count                  407.000  \n",
       "mean                     0.759  \n",
       "std                      0.000  \n",
       "min                      0.759  \n",
       "25%                      0.759  \n",
       "50%                      0.759  \n",
       "75%                      0.759  \n",
       "max                      0.759  \n",
       "\n",
       "[8 rows x 54 columns]"
      ]
     },
     "execution_count": 75,
     "metadata": {},
     "output_type": "execute_result"
    }
   ],
   "source": [
    "df.describe().round(3)"
   ]
  },
  {
   "cell_type": "code",
   "execution_count": 76,
   "metadata": {},
   "outputs": [
    {
     "data": {
      "text/plain": [
       "Index(['iso_code', 'continent', 'location', 'date', 'total_cases', 'new_cases',\n",
       "       'new_cases_smoothed', 'total_deaths', 'new_deaths',\n",
       "       'new_deaths_smoothed', 'total_cases_per_million',\n",
       "       'new_cases_per_million', 'new_cases_smoothed_per_million',\n",
       "       'total_deaths_per_million', 'new_deaths_per_million',\n",
       "       'new_deaths_smoothed_per_million', 'reproduction_rate', 'icu_patients',\n",
       "       'icu_patients_per_million', 'hosp_patients',\n",
       "       'hosp_patients_per_million', 'weekly_icu_admissions',\n",
       "       'weekly_icu_admissions_per_million', 'weekly_hosp_admissions',\n",
       "       'weekly_hosp_admissions_per_million', 'new_tests', 'total_tests',\n",
       "       'total_tests_per_thousand', 'new_tests_per_thousand',\n",
       "       'new_tests_smoothed', 'new_tests_smoothed_per_thousand',\n",
       "       'positive_rate', 'tests_per_case', 'tests_units', 'total_vaccinations',\n",
       "       'people_vaccinated', 'people_fully_vaccinated', 'new_vaccinations',\n",
       "       'new_vaccinations_smoothed', 'total_vaccinations_per_hundred',\n",
       "       'people_vaccinated_per_hundred', 'people_fully_vaccinated_per_hundred',\n",
       "       'new_vaccinations_smoothed_per_million', 'stringency_index',\n",
       "       'population', 'population_density', 'median_age', 'aged_65_older',\n",
       "       'aged_70_older', 'gdp_per_capita', 'extreme_poverty',\n",
       "       'cardiovasc_death_rate', 'diabetes_prevalence', 'female_smokers',\n",
       "       'male_smokers', 'handwashing_facilities', 'hospital_beds_per_thousand',\n",
       "       'life_expectancy', 'human_development_index'],\n",
       "      dtype='object')"
      ]
     },
     "execution_count": 76,
     "metadata": {},
     "output_type": "execute_result"
    }
   ],
   "source": [
    "df.keys()"
   ]
  },
  {
   "cell_type": "code",
   "execution_count": 77,
   "metadata": {},
   "outputs": [
    {
     "data": {
      "text/plain": [
       "iso_code                                  object\n",
       "continent                                 object\n",
       "location                                  object\n",
       "date                                      object\n",
       "total_cases                                int64\n",
       "new_cases                                  int64\n",
       "new_cases_smoothed                       float64\n",
       "total_deaths                             float64\n",
       "new_deaths                               float64\n",
       "new_deaths_smoothed                      float64\n",
       "total_cases_per_million                  float64\n",
       "new_cases_per_million                    float64\n",
       "new_cases_smoothed_per_million           float64\n",
       "total_deaths_per_million                 float64\n",
       "new_deaths_per_million                   float64\n",
       "new_deaths_smoothed_per_million          float64\n",
       "reproduction_rate                        float64\n",
       "icu_patients                             float64\n",
       "icu_patients_per_million                 float64\n",
       "hosp_patients                            float64\n",
       "hosp_patients_per_million                float64\n",
       "weekly_icu_admissions                    float64\n",
       "weekly_icu_admissions_per_million        float64\n",
       "weekly_hosp_admissions                   float64\n",
       "weekly_hosp_admissions_per_million       float64\n",
       "new_tests                                float64\n",
       "total_tests                              float64\n",
       "total_tests_per_thousand                 float64\n",
       "new_tests_per_thousand                   float64\n",
       "new_tests_smoothed                       float64\n",
       "new_tests_smoothed_per_thousand          float64\n",
       "positive_rate                            float64\n",
       "tests_per_case                           float64\n",
       "tests_units                               object\n",
       "total_vaccinations                       float64\n",
       "people_vaccinated                        float64\n",
       "people_fully_vaccinated                  float64\n",
       "new_vaccinations                         float64\n",
       "new_vaccinations_smoothed                float64\n",
       "total_vaccinations_per_hundred           float64\n",
       "people_vaccinated_per_hundred            float64\n",
       "people_fully_vaccinated_per_hundred      float64\n",
       "new_vaccinations_smoothed_per_million    float64\n",
       "stringency_index                         float64\n",
       "population                                 int64\n",
       "population_density                       float64\n",
       "median_age                               float64\n",
       "aged_65_older                            float64\n",
       "aged_70_older                            float64\n",
       "gdp_per_capita                           float64\n",
       "extreme_poverty                          float64\n",
       "cardiovasc_death_rate                    float64\n",
       "diabetes_prevalence                      float64\n",
       "female_smokers                             int64\n",
       "male_smokers                             float64\n",
       "handwashing_facilities                   float64\n",
       "hospital_beds_per_thousand               float64\n",
       "life_expectancy                          float64\n",
       "human_development_index                  float64\n",
       "dtype: object"
      ]
     },
     "execution_count": 77,
     "metadata": {},
     "output_type": "execute_result"
    }
   ],
   "source": [
    "#Analizamos el tipo de dato que tiene el dataset en caso de que tengamos que convertir algún valor\n",
    "df.dtypes"
   ]
  },
  {
   "cell_type": "code",
   "execution_count": 79,
   "metadata": {},
   "outputs": [],
   "source": [
    "# Expresar las fechas en numero de dias desde el 01 Enero del 2020\n",
    "FMT = '%Y-%m-%d'\n",
    "date = df['date']\n",
    "df['date'] = date.map(lambda x : (datetime.strptime(x, FMT) - datetime.strptime(\"2020-01-01\", FMT)).days)"
   ]
  },
  {
   "cell_type": "code",
   "execution_count": 80,
   "metadata": {},
   "outputs": [
    {
     "data": {
      "text/html": [
       "<div>\n",
       "<style scoped>\n",
       "    .dataframe tbody tr th:only-of-type {\n",
       "        vertical-align: middle;\n",
       "    }\n",
       "\n",
       "    .dataframe tbody tr th {\n",
       "        vertical-align: top;\n",
       "    }\n",
       "\n",
       "    .dataframe thead th {\n",
       "        text-align: right;\n",
       "    }\n",
       "</style>\n",
       "<table border=\"1\" class=\"dataframe\">\n",
       "  <thead>\n",
       "    <tr style=\"text-align: right;\">\n",
       "      <th></th>\n",
       "      <th>iso_code</th>\n",
       "      <th>continent</th>\n",
       "      <th>location</th>\n",
       "      <th>date</th>\n",
       "      <th>total_cases</th>\n",
       "      <th>new_cases</th>\n",
       "      <th>new_cases_smoothed</th>\n",
       "      <th>total_deaths</th>\n",
       "      <th>new_deaths</th>\n",
       "      <th>new_deaths_smoothed</th>\n",
       "      <th>...</th>\n",
       "      <th>gdp_per_capita</th>\n",
       "      <th>extreme_poverty</th>\n",
       "      <th>cardiovasc_death_rate</th>\n",
       "      <th>diabetes_prevalence</th>\n",
       "      <th>female_smokers</th>\n",
       "      <th>male_smokers</th>\n",
       "      <th>handwashing_facilities</th>\n",
       "      <th>hospital_beds_per_thousand</th>\n",
       "      <th>life_expectancy</th>\n",
       "      <th>human_development_index</th>\n",
       "    </tr>\n",
       "  </thead>\n",
       "  <tbody>\n",
       "    <tr>\n",
       "      <th>0</th>\n",
       "      <td>ECU</td>\n",
       "      <td>South America</td>\n",
       "      <td>Ecuador</td>\n",
       "      <td>60</td>\n",
       "      <td>6</td>\n",
       "      <td>6</td>\n",
       "      <td>NaN</td>\n",
       "      <td>NaN</td>\n",
       "      <td>NaN</td>\n",
       "      <td>NaN</td>\n",
       "      <td>...</td>\n",
       "      <td>10581.936</td>\n",
       "      <td>3.6</td>\n",
       "      <td>140.448</td>\n",
       "      <td>5.55</td>\n",
       "      <td>2</td>\n",
       "      <td>12.3</td>\n",
       "      <td>80.635</td>\n",
       "      <td>1.5</td>\n",
       "      <td>77.01</td>\n",
       "      <td>0.759</td>\n",
       "    </tr>\n",
       "    <tr>\n",
       "      <th>1</th>\n",
       "      <td>ECU</td>\n",
       "      <td>South America</td>\n",
       "      <td>Ecuador</td>\n",
       "      <td>61</td>\n",
       "      <td>6</td>\n",
       "      <td>0</td>\n",
       "      <td>NaN</td>\n",
       "      <td>NaN</td>\n",
       "      <td>NaN</td>\n",
       "      <td>NaN</td>\n",
       "      <td>...</td>\n",
       "      <td>10581.936</td>\n",
       "      <td>3.6</td>\n",
       "      <td>140.448</td>\n",
       "      <td>5.55</td>\n",
       "      <td>2</td>\n",
       "      <td>12.3</td>\n",
       "      <td>80.635</td>\n",
       "      <td>1.5</td>\n",
       "      <td>77.01</td>\n",
       "      <td>0.759</td>\n",
       "    </tr>\n",
       "    <tr>\n",
       "      <th>2</th>\n",
       "      <td>ECU</td>\n",
       "      <td>South America</td>\n",
       "      <td>Ecuador</td>\n",
       "      <td>62</td>\n",
       "      <td>7</td>\n",
       "      <td>1</td>\n",
       "      <td>NaN</td>\n",
       "      <td>NaN</td>\n",
       "      <td>NaN</td>\n",
       "      <td>NaN</td>\n",
       "      <td>...</td>\n",
       "      <td>10581.936</td>\n",
       "      <td>3.6</td>\n",
       "      <td>140.448</td>\n",
       "      <td>5.55</td>\n",
       "      <td>2</td>\n",
       "      <td>12.3</td>\n",
       "      <td>80.635</td>\n",
       "      <td>1.5</td>\n",
       "      <td>77.01</td>\n",
       "      <td>0.759</td>\n",
       "    </tr>\n",
       "    <tr>\n",
       "      <th>3</th>\n",
       "      <td>ECU</td>\n",
       "      <td>South America</td>\n",
       "      <td>Ecuador</td>\n",
       "      <td>63</td>\n",
       "      <td>10</td>\n",
       "      <td>3</td>\n",
       "      <td>NaN</td>\n",
       "      <td>NaN</td>\n",
       "      <td>NaN</td>\n",
       "      <td>NaN</td>\n",
       "      <td>...</td>\n",
       "      <td>10581.936</td>\n",
       "      <td>3.6</td>\n",
       "      <td>140.448</td>\n",
       "      <td>5.55</td>\n",
       "      <td>2</td>\n",
       "      <td>12.3</td>\n",
       "      <td>80.635</td>\n",
       "      <td>1.5</td>\n",
       "      <td>77.01</td>\n",
       "      <td>0.759</td>\n",
       "    </tr>\n",
       "    <tr>\n",
       "      <th>4</th>\n",
       "      <td>ECU</td>\n",
       "      <td>South America</td>\n",
       "      <td>Ecuador</td>\n",
       "      <td>64</td>\n",
       "      <td>13</td>\n",
       "      <td>3</td>\n",
       "      <td>NaN</td>\n",
       "      <td>NaN</td>\n",
       "      <td>NaN</td>\n",
       "      <td>NaN</td>\n",
       "      <td>...</td>\n",
       "      <td>10581.936</td>\n",
       "      <td>3.6</td>\n",
       "      <td>140.448</td>\n",
       "      <td>5.55</td>\n",
       "      <td>2</td>\n",
       "      <td>12.3</td>\n",
       "      <td>80.635</td>\n",
       "      <td>1.5</td>\n",
       "      <td>77.01</td>\n",
       "      <td>0.759</td>\n",
       "    </tr>\n",
       "  </tbody>\n",
       "</table>\n",
       "<p>5 rows × 59 columns</p>\n",
       "</div>"
      ],
      "text/plain": [
       "  iso_code      continent location  date  total_cases  new_cases  \\\n",
       "0      ECU  South America  Ecuador    60            6          6   \n",
       "1      ECU  South America  Ecuador    61            6          0   \n",
       "2      ECU  South America  Ecuador    62            7          1   \n",
       "3      ECU  South America  Ecuador    63           10          3   \n",
       "4      ECU  South America  Ecuador    64           13          3   \n",
       "\n",
       "   new_cases_smoothed  total_deaths  new_deaths  new_deaths_smoothed  ...  \\\n",
       "0                 NaN           NaN         NaN                  NaN  ...   \n",
       "1                 NaN           NaN         NaN                  NaN  ...   \n",
       "2                 NaN           NaN         NaN                  NaN  ...   \n",
       "3                 NaN           NaN         NaN                  NaN  ...   \n",
       "4                 NaN           NaN         NaN                  NaN  ...   \n",
       "\n",
       "   gdp_per_capita  extreme_poverty  cardiovasc_death_rate  \\\n",
       "0       10581.936              3.6                140.448   \n",
       "1       10581.936              3.6                140.448   \n",
       "2       10581.936              3.6                140.448   \n",
       "3       10581.936              3.6                140.448   \n",
       "4       10581.936              3.6                140.448   \n",
       "\n",
       "   diabetes_prevalence  female_smokers  male_smokers  handwashing_facilities  \\\n",
       "0                 5.55               2          12.3                  80.635   \n",
       "1                 5.55               2          12.3                  80.635   \n",
       "2                 5.55               2          12.3                  80.635   \n",
       "3                 5.55               2          12.3                  80.635   \n",
       "4                 5.55               2          12.3                  80.635   \n",
       "\n",
       "   hospital_beds_per_thousand  life_expectancy  human_development_index  \n",
       "0                         1.5            77.01                    0.759  \n",
       "1                         1.5            77.01                    0.759  \n",
       "2                         1.5            77.01                    0.759  \n",
       "3                         1.5            77.01                    0.759  \n",
       "4                         1.5            77.01                    0.759  \n",
       "\n",
       "[5 rows x 59 columns]"
      ]
     },
     "execution_count": 80,
     "metadata": {},
     "output_type": "execute_result"
    }
   ],
   "source": [
    "df.head()"
   ]
  },
  {
   "cell_type": "code",
   "execution_count": 81,
   "metadata": {},
   "outputs": [],
   "source": [
    "#Variables\n",
    "totaldate = df['date'].values.reshape(-1,1)\n",
    "totalcases = df['total_cases'].values.reshape(-1,1)"
   ]
  },
  {
   "cell_type": "code",
   "execution_count": 82,
   "metadata": {},
   "outputs": [],
   "source": [
    "#Entrenamiento\n",
    "linear_regressor = LinearRegression()\n",
    "linear_regressor.fit(totaldate, totalcases)\n",
    "date_predicted = linear_regressor.predict(totaldate)"
   ]
  },
  {
   "cell_type": "code",
   "execution_count": 83,
   "metadata": {},
   "outputs": [
    {
     "name": "stdout",
     "output_type": "stream",
     "text": [
      "Pentiende: [[848.29342989]]\n",
      "Intersección\": [-85397.16714594]\n"
     ]
    }
   ],
   "source": [
    "print('Pentiende:', linear_regressor.coef_)\n",
    "print('Intersección\":',  linear_regressor.intercept_)"
   ]
  },
  {
   "cell_type": "markdown",
   "metadata": {},
   "source": [
    "Pruebas:"
   ]
  },
  {
   "cell_type": "code",
   "execution_count": 84,
   "metadata": {},
   "outputs": [
    {
     "name": "stdout",
     "output_type": "stream",
     "text": [
      "Numero de casos a los  700  de la fecha inicial del dataset, se obtiene una prediccion de :  679202.5680659452\n"
     ]
    }
   ],
   "source": [
    "#PRUEBA 1\n",
    "\n",
    "m = linear_regressor.coef_[0][0]\n",
    "c = linear_regressor.intercept_[0]\n",
    "#Prediccion de x dias desde la fecha inicial del Dataset 2020-03-01\n",
    "dias=700\n",
    "label1 = m*dias-c\n",
    "print(\"Numero de casos a los \",dias,\" de la fecha inicial del dataset, se obtiene una prediccion de : \",label1)"
   ]
  },
  {
   "cell_type": "code",
   "execution_count": 85,
   "metadata": {},
   "outputs": [
    {
     "name": "stdout",
     "output_type": "stream",
     "text": [
      "Numero de casos a los  750  de la fecha inicial del dataset, se obtiene una prediccion de :  721617.2395602312\n"
     ]
    }
   ],
   "source": [
    "#PRUEBA 2\n",
    "\n",
    "m = linear_regressor.coef_[0][0]\n",
    "c = linear_regressor.intercept_[0]\n",
    "#Prediccion de x dias desde la fecha inicial del Dataset 2020-03-01\n",
    "dias=750\n",
    "label2 = m*dias-c\n",
    "print(\"Numero de casos a los \",dias,\" de la fecha inicial del dataset, se obtiene una prediccion de : \",label2)"
   ]
  },
  {
   "cell_type": "code",
   "execution_count": 86,
   "metadata": {},
   "outputs": [
    {
     "name": "stdout",
     "output_type": "stream",
     "text": [
      "Numero de casos a los  800  de la fecha inicial del dataset, se obtiene una prediccion de :  764031.9110545174\n"
     ]
    }
   ],
   "source": [
    "#PRUEBA 3\n",
    "\n",
    "m = linear_regressor.coef_[0][0]\n",
    "c = linear_regressor.intercept_[0]\n",
    "#Prediccion de x dias desde la fecha inicial del Dataset 2020-03-01\n",
    "dias=800\n",
    "label3 = m*dias-c\n",
    "print(\"Numero de casos a los \",dias,\" de la fecha inicial del dataset, se obtiene una prediccion de : \",label3)"
   ]
  },
  {
   "cell_type": "code",
   "execution_count": 87,
   "metadata": {},
   "outputs": [
    {
     "name": "stdout",
     "output_type": "stream",
     "text": [
      "Numero de casos a los  900  de la fecha inicial del dataset, se obtiene una prediccion de :  848861.2540430896\n"
     ]
    }
   ],
   "source": [
    "#PRUEBA 4\n",
    "\n",
    "m = linear_regressor.coef_[0][0]\n",
    "c = linear_regressor.intercept_[0]\n",
    "#Prediccion de x dias desde la fecha inicial del Dataset 2020-03-01\n",
    "dias=900\n",
    "label4 = m*dias-c\n",
    "print(\"Numero de casos a los \",dias,\" de la fecha inicial del dataset, se obtiene una prediccion de : \",label4)"
   ]
  },
  {
   "cell_type": "code",
   "execution_count": 88,
   "metadata": {},
   "outputs": [
    {
     "name": "stdout",
     "output_type": "stream",
     "text": [
      "Numero de casos a los  968  de la fecha inicial del dataset, se obtiene una prediccion de :  906545.2072753186\n"
     ]
    }
   ],
   "source": [
    "#PRUEBA 5\n",
    "\n",
    "m = linear_regressor.coef_[0][0]\n",
    "c = linear_regressor.intercept_[0]\n",
    "#Prediccion de x dias desde la fecha inicial del Dataset 2020-03-01\n",
    "dias=968\n",
    "label5 = m*dias-c\n",
    "print(\"Numero de casos a los \",dias,\" de la fecha inicial del dataset, se obtiene una prediccion de : \",label5)"
   ]
  },
  {
   "cell_type": "markdown",
   "metadata": {},
   "source": [
    "Grafica:"
   ]
  },
  {
   "cell_type": "code",
   "execution_count": 96,
   "metadata": {},
   "outputs": [
    {
     "data": {
      "text/plain": [
       "<matplotlib.legend.Legend at 0x201c846ef70>"
      ]
     },
     "execution_count": 96,
     "metadata": {},
     "output_type": "execute_result"
    },
    {
     "data": {
      "image/png": "[encoded data removed]",
      "text/plain": [
       "<Figure size 576x576 with 1 Axes>"
      ]
     },
     "metadata": {
      "needs_background": "light"
     },
     "output_type": "display_data"
    }
   ],
   "source": [
    "#Grafica 1\n",
    "\n",
    "fig = plt.figure(figsize=(8,8))\n",
    "plt.title('Regresión Lineal')\n",
    "plt.plot(df['date'],df['total_cases'], label='total de casos', color='green',)\n",
    "plt.plot(totaldate, date_predicted, color='purple', label=label1)\n",
    "plt.xlabel('Fecha')\n",
    "plt.ylabel('Contagios')\n",
    "plt.legend()"
   ]
  },
  {
   "cell_type": "code",
   "execution_count": 97,
   "metadata": {},
   "outputs": [
    {
     "data": {
      "text/plain": [
       "<matplotlib.legend.Legend at 0x201c853a3d0>"
      ]
     },
     "execution_count": 97,
     "metadata": {},
     "output_type": "execute_result"
    },
    {
     "data": {
      "image/png": "[encoded data removed]",
      "text/plain": [
       "<Figure size 576x576 with 1 Axes>"
      ]
     },
     "metadata": {
      "needs_background": "light"
     },
     "output_type": "display_data"
    }
   ],
   "source": [
    "#Grafica 2\n",
    "fig = plt.figure(figsize=(8,8))\n",
    "plt.title('Regresión Lineal')\n",
    "plt.plot(df['date'],df['total_cases'], label='total de casos', color='green',)\n",
    "plt.plot(totaldate, date_predicted, color='purple', label=label2)\n",
    "plt.xlabel('Fecha')\n",
    "plt.ylabel('Contagios')\n",
    "plt.legend()"
   ]
  },
  {
   "cell_type": "code",
   "execution_count": 91,
   "metadata": {},
   "outputs": [
    {
     "data": {
      "text/plain": [
       "<matplotlib.legend.Legend at 0x201c827c970>"
      ]
     },
     "execution_count": 91,
     "metadata": {},
     "output_type": "execute_result"
    },
    {
     "data": {
      "image/png": "[encoded data removed]",
      "text/plain": [
       "<Figure size 576x576 with 1 Axes>"
      ]
     },
     "metadata": {
      "needs_background": "light"
     },
     "output_type": "display_data"
    }
   ],
   "source": [
    "#Grafica 3\n",
    "\n",
    "fig = plt.figure(figsize=(8,8))\n",
    "plt.title('Regresión Lineal')\n",
    "plt.plot(df['date'],df['total_cases'], label='total de casos', color='green',)\n",
    "plt.plot(totaldate, date_predicted, color='purple', label=label3)\n",
    "plt.xlabel('Fecha')\n",
    "plt.ylabel('Contagios')\n",
    "plt.legend()"
   ]
  },
  {
   "cell_type": "code",
   "execution_count": 98,
   "metadata": {},
   "outputs": [
    {
     "data": {
      "text/plain": [
       "<matplotlib.legend.Legend at 0x201c87448b0>"
      ]
     },
     "execution_count": 98,
     "metadata": {},
     "output_type": "execute_result"
    },
    {
     "data": {
      "image/png": "[encoded data removed]",
      "text/plain": [
       "<Figure size 576x576 with 1 Axes>"
      ]
     },
     "metadata": {
      "needs_background": "light"
     },
     "output_type": "display_data"
    }
   ],
   "source": [
    "#Grafica 4\n",
    "\n",
    "fig = plt.figure(figsize=(8,8))\n",
    "plt.title('Regresión Lineal')\n",
    "plt.plot(df['date'],df['total_cases'], label='total de casos', color='green',)\n",
    "plt.plot(totaldate, date_predicted, color='purple', label=label4)\n",
    "plt.xlabel('Fecha')\n",
    "plt.ylabel('Contagios')\n",
    "plt.legend()"
   ]
  },
  {
   "cell_type": "code",
   "execution_count": 99,
   "metadata": {},
   "outputs": [
    {
     "data": {
      "text/plain": [
       "<matplotlib.legend.Legend at 0x201c86298b0>"
      ]
     },
     "execution_count": 99,
     "metadata": {},
     "output_type": "execute_result"
    },
    {
     "data": {
      "image/png": "[encoded data removed]",
      "text/plain": [
       "<Figure size 576x576 with 1 Axes>"
      ]
     },
     "metadata": {
      "needs_background": "light"
     },
     "output_type": "display_data"
    }
   ],
   "source": [
    "#Grafica 5\n",
    "\n",
    "fig = plt.figure(figsize=(8,8))\n",
    "plt.title('Regresión Lineal')\n",
    "plt.plot(df['date'],df['total_cases'], label='total de casos', color='green',)\n",
    "plt.plot(totaldate, date_predicted, color='purple', label=label5)\n",
    "plt.xlabel('Fecha')\n",
    "plt.ylabel('Contagios')\n",
    "plt.legend()"
   ]
  },
  {
   "cell_type": "code",
   "execution_count": null,
   "metadata": {},
   "outputs": [],
   "source": []
  },
  {
   "cell_type": "code",
   "execution_count": null,
   "metadata": {},
   "outputs": [],
   "source": []
  },
  {
   "cell_type": "code",
   "execution_count": null,
   "metadata": {},
   "outputs": [],
   "source": []
  }
 ],
 "metadata": {
  "kernelspec": {
   "display_name": "Python 3",
   "language": "python",
   "name": "python3"
  },
  "language_info": {
   "codemirror_mode": {
    "name": "ipython",
    "version": 3
   },
   "file_extension": ".py",
   "mimetype": "text/x-python",
   "name": "python",
   "nbconvert_exporter": "python",
   "pygments_lexer": "ipython3",
   "version": "3.8.5"
  }
 },
 "nbformat": 4,
 "nbformat_minor": 4
}
