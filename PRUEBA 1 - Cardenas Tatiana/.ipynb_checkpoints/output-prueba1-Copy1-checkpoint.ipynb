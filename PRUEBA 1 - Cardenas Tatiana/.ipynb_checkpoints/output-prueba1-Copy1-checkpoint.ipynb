{
 "cells": [
  {
   "cell_type": "code",
   "execution_count": 1,
   "metadata": {
    "papermill": {
     "duration": null,
     "end_time": null,
     "exception": null,
     "start_time": null,
     "status": "completed"
    },
    "tags": [
     "injected-parameters"
    ]
   },
   "outputs": [],
   "source": [
    "# Parameters\n",
    "first_date = \"2021-02-11\"\n",
    "end_date = \"2021-04-11\"\n"
   ]
  },
  {
   "cell_type": "markdown",
   "metadata": {
    "papermill": {
     "duration": null,
     "end_time": null,
     "exception": null,
     "start_time": null,
     "status": "completed"
    },
    "tags": []
   },
   "source": [
    "# Prueba interciclo #1\n",
    "Realizado por: Tatiana Cárdenas Jho"
   ]
  },
  {
   "cell_type": "code",
   "execution_count": 2,
   "metadata": {
    "papermill": {
     "duration": null,
     "end_time": null,
     "exception": null,
     "start_time": null,
     "status": "completed"
    },
    "tags": []
   },
   "outputs": [
    {
     "name": "stdout",
     "output_type": "stream",
     "text": [
      "Importadas\n"
     ]
    }
   ],
   "source": [
    "#Problema:\n",
    "#Diseñe y desarrolle un modelo y/o script que permita simular el siguiente caso real expuesto en el documento del docente.\n",
    "\n",
    "#Importación de librerías\n",
    "import matplotlib.pyplot as plt\n",
    "import numpy as np\n",
    "import pandas as pd\n",
    "from datetime import datetime,timedelta\n",
    "import datetime as dt\n",
    "from sklearn.linear_model import LinearRegression\n",
    "from sklearn.pipeline import Pipeline\n",
    "from datetime import datetime, timedelta\n",
    "from sklearn.model_selection import train_test_split\n",
    "import time\n",
    "from sklearn.ensemble import RandomForestRegressor\n",
    "from sklearn.model_selection import train_test_split \n",
    "print('Importadas')"
   ]
  },
  {
   "cell_type": "code",
   "execution_count": 3,
   "metadata": {
    "papermill": {
     "duration": null,
     "end_time": null,
     "exception": null,
     "start_time": null,
     "status": "completed"
    },
    "tags": []
   },
   "outputs": [
    {
     "name": "stdout",
     "output_type": "stream",
     "text": [
      "Importadas csv vacunas\n",
      "Importadas csv fabricantes\n"
     ]
    }
   ],
   "source": [
    "#Carga de datos\n",
    "\n",
    "#Vacunas\n",
    "df=pd.read_csv('in/vacunas.csv', sep = ',') \n",
    "print('Importadas csv vacunas')\n",
    "\n",
    "#Fabricantes\n",
    "df_prov=pd.read_csv('in/fabricantes.csv')\n",
    "print('Importadas csv fabricantes', sep = ',')"
   ]
  },
  {
   "cell_type": "code",
   "execution_count": 4,
   "metadata": {
    "papermill": {
     "duration": null,
     "end_time": null,
     "exception": null,
     "start_time": null,
     "status": "completed"
    },
    "tags": []
   },
   "outputs": [
    {
     "name": "stdout",
     "output_type": "stream",
     "text": [
      "<class 'pandas.core.frame.DataFrame'>\n",
      "RangeIndex: 49 entries, 0 to 48\n",
      "Data columns (total 4 columns):\n",
      " #   Column         Non-Null Count  Dtype \n",
      "---  ------         --------------  ----- \n",
      " 0   fecha          49 non-null     object\n",
      " 1   dosis_total    49 non-null     int64 \n",
      " 2   primera_dosis  49 non-null     int64 \n",
      " 3   segunda_dosis  49 non-null     int64 \n",
      "dtypes: int64(3), object(1)\n",
      "memory usage: 1.7+ KB\n"
     ]
    },
    {
     "data": {
      "text/plain": [
       "Index(['fecha', 'dosis_total', 'primera_dosis', 'segunda_dosis'], dtype='object')"
      ]
     },
     "execution_count": 4,
     "metadata": {},
     "output_type": "execute_result"
    }
   ],
   "source": [
    "#Info y keys de CSV-Vacunas\n",
    "df.info()\n",
    "df.keys()"
   ]
  },
  {
   "cell_type": "code",
   "execution_count": 5,
   "metadata": {
    "papermill": {
     "duration": null,
     "end_time": null,
     "exception": null,
     "start_time": null,
     "status": "completed"
    },
    "tags": []
   },
   "outputs": [
    {
     "name": "stdout",
     "output_type": "stream",
     "text": [
      "<class 'pandas.core.frame.DataFrame'>\n",
      "RangeIndex: 18 entries, 0 to 17\n",
      "Data columns (total 3 columns):\n",
      " #   Column      Non-Null Count  Dtype \n",
      "---  ------      --------------  ----- \n",
      " 0   vaccine     18 non-null     object\n",
      " 1   total       18 non-null     int64 \n",
      " 2   arrived_at  18 non-null     object\n",
      "dtypes: int64(1), object(2)\n",
      "memory usage: 560.0+ bytes\n"
     ]
    },
    {
     "data": {
      "text/plain": [
       "Index(['vaccine', 'total', 'arrived_at'], dtype='object')"
      ]
     },
     "execution_count": 5,
     "metadata": {},
     "output_type": "execute_result"
    }
   ],
   "source": [
    "#Info y keys de CSV-Fabricante\n",
    "df_prov.info()\n",
    "df_prov.keys()"
   ]
  },
  {
   "cell_type": "code",
   "execution_count": 6,
   "metadata": {
    "papermill": {
     "duration": null,
     "end_time": null,
     "exception": null,
     "start_time": null,
     "status": "completed"
    },
    "tags": []
   },
   "outputs": [
    {
     "data": {
      "text/html": [
       "<div>\n",
       "<style scoped>\n",
       "    .dataframe tbody tr th:only-of-type {\n",
       "        vertical-align: middle;\n",
       "    }\n",
       "\n",
       "    .dataframe tbody tr th {\n",
       "        vertical-align: top;\n",
       "    }\n",
       "\n",
       "    .dataframe thead th {\n",
       "        text-align: right;\n",
       "    }\n",
       "</style>\n",
       "<table border=\"1\" class=\"dataframe\">\n",
       "  <thead>\n",
       "    <tr style=\"text-align: right;\">\n",
       "      <th></th>\n",
       "      <th>fecha</th>\n",
       "      <th>dosis_total</th>\n",
       "      <th>primera_dosis</th>\n",
       "      <th>segunda_dosis</th>\n",
       "    </tr>\n",
       "  </thead>\n",
       "  <tbody>\n",
       "    <tr>\n",
       "      <th>0</th>\n",
       "      <td>21/01/2021</td>\n",
       "      <td>0</td>\n",
       "      <td>0</td>\n",
       "      <td>0</td>\n",
       "    </tr>\n",
       "    <tr>\n",
       "      <th>1</th>\n",
       "      <td>22/01/2021</td>\n",
       "      <td>108</td>\n",
       "      <td>108</td>\n",
       "      <td>0</td>\n",
       "    </tr>\n",
       "    <tr>\n",
       "      <th>2</th>\n",
       "      <td>27/01/2021</td>\n",
       "      <td>2982</td>\n",
       "      <td>2982</td>\n",
       "      <td>0</td>\n",
       "    </tr>\n",
       "    <tr>\n",
       "      <th>3</th>\n",
       "      <td>04/02/2021</td>\n",
       "      <td>6228</td>\n",
       "      <td>6228</td>\n",
       "      <td>0</td>\n",
       "    </tr>\n",
       "    <tr>\n",
       "      <th>4</th>\n",
       "      <td>17/02/2021</td>\n",
       "      <td>8190</td>\n",
       "      <td>6228</td>\n",
       "      <td>1962</td>\n",
       "    </tr>\n",
       "  </tbody>\n",
       "</table>\n",
       "</div>"
      ],
      "text/plain": [
       "        fecha  dosis_total  primera_dosis  segunda_dosis\n",
       "0  21/01/2021            0              0              0\n",
       "1  22/01/2021          108            108              0\n",
       "2  27/01/2021         2982           2982              0\n",
       "3  04/02/2021         6228           6228              0\n",
       "4  17/02/2021         8190           6228           1962"
      ]
     },
     "execution_count": 6,
     "metadata": {},
     "output_type": "execute_result"
    }
   ],
   "source": [
    "df.head()"
   ]
  },
  {
   "cell_type": "code",
   "execution_count": 7,
   "metadata": {
    "papermill": {
     "duration": null,
     "end_time": null,
     "exception": null,
     "start_time": null,
     "status": "completed"
    },
    "tags": []
   },
   "outputs": [],
   "source": [
    "# Expresar las fechas en numero de dias\n",
    "#Transformacion formato fecha-Vacunas\n",
    "#df['fecha'] = pd.to_datetime(df['fecha'],format='%d/%m/%Y')\n",
    "\n",
    "#FMT = '%d/%m/%Y'\n",
    "#df['fecha'] = df['fecha'].map(lambda x : (datetime.strptime(x, FMT) - datetime.strptime(\"01/01/2021\", FMT)).days)dfab['arrived_at'] =  pd.to_datetime(dfab['arrived_at'], infer_datetime_format=True)\n",
    "\n",
    "df['fecha'] =  pd.to_datetime(df['fecha'], infer_datetime_format=True)\n"
   ]
  },
  {
   "cell_type": "code",
   "execution_count": 8,
   "metadata": {
    "papermill": {
     "duration": null,
     "end_time": null,
     "exception": null,
     "start_time": null,
     "status": "completed"
    },
    "tags": []
   },
   "outputs": [
    {
     "data": {
      "text/html": [
       "<div>\n",
       "<style scoped>\n",
       "    .dataframe tbody tr th:only-of-type {\n",
       "        vertical-align: middle;\n",
       "    }\n",
       "\n",
       "    .dataframe tbody tr th {\n",
       "        vertical-align: top;\n",
       "    }\n",
       "\n",
       "    .dataframe thead th {\n",
       "        text-align: right;\n",
       "    }\n",
       "</style>\n",
       "<table border=\"1\" class=\"dataframe\">\n",
       "  <thead>\n",
       "    <tr style=\"text-align: right;\">\n",
       "      <th></th>\n",
       "      <th>fecha</th>\n",
       "      <th>dosis_total</th>\n",
       "      <th>primera_dosis</th>\n",
       "      <th>segunda_dosis</th>\n",
       "    </tr>\n",
       "  </thead>\n",
       "  <tbody>\n",
       "    <tr>\n",
       "      <th>0</th>\n",
       "      <td>2021-01-21</td>\n",
       "      <td>0</td>\n",
       "      <td>0</td>\n",
       "      <td>0</td>\n",
       "    </tr>\n",
       "    <tr>\n",
       "      <th>1</th>\n",
       "      <td>2021-01-22</td>\n",
       "      <td>108</td>\n",
       "      <td>108</td>\n",
       "      <td>0</td>\n",
       "    </tr>\n",
       "    <tr>\n",
       "      <th>2</th>\n",
       "      <td>2021-01-27</td>\n",
       "      <td>2982</td>\n",
       "      <td>2982</td>\n",
       "      <td>0</td>\n",
       "    </tr>\n",
       "    <tr>\n",
       "      <th>3</th>\n",
       "      <td>2021-02-04</td>\n",
       "      <td>6228</td>\n",
       "      <td>6228</td>\n",
       "      <td>0</td>\n",
       "    </tr>\n",
       "    <tr>\n",
       "      <th>4</th>\n",
       "      <td>2021-02-17</td>\n",
       "      <td>8190</td>\n",
       "      <td>6228</td>\n",
       "      <td>1962</td>\n",
       "    </tr>\n",
       "  </tbody>\n",
       "</table>\n",
       "</div>"
      ],
      "text/plain": [
       "       fecha  dosis_total  primera_dosis  segunda_dosis\n",
       "0 2021-01-21            0              0              0\n",
       "1 2021-01-22          108            108              0\n",
       "2 2021-01-27         2982           2982              0\n",
       "3 2021-02-04         6228           6228              0\n",
       "4 2021-02-17         8190           6228           1962"
      ]
     },
     "execution_count": 8,
     "metadata": {},
     "output_type": "execute_result"
    }
   ],
   "source": [
    "#Cabecera csv vacuna con la transformacion de fecha\n",
    "df.head()"
   ]
  },
  {
   "cell_type": "code",
   "execution_count": 9,
   "metadata": {
    "papermill": {
     "duration": null,
     "end_time": null,
     "exception": null,
     "start_time": null,
     "status": "completed"
    },
    "scrolled": true,
    "tags": []
   },
   "outputs": [
    {
     "data": {
      "text/html": [
       "<div>\n",
       "<style scoped>\n",
       "    .dataframe tbody tr th:only-of-type {\n",
       "        vertical-align: middle;\n",
       "    }\n",
       "\n",
       "    .dataframe tbody tr th {\n",
       "        vertical-align: top;\n",
       "    }\n",
       "\n",
       "    .dataframe thead th {\n",
       "        text-align: right;\n",
       "    }\n",
       "</style>\n",
       "<table border=\"1\" class=\"dataframe\">\n",
       "  <thead>\n",
       "    <tr style=\"text-align: right;\">\n",
       "      <th></th>\n",
       "      <th>vaccine</th>\n",
       "      <th>total</th>\n",
       "      <th>arrived_at</th>\n",
       "    </tr>\n",
       "  </thead>\n",
       "  <tbody>\n",
       "    <tr>\n",
       "      <th>0</th>\n",
       "      <td>Pfizer/BioNTech</td>\n",
       "      <td>8190</td>\n",
       "      <td>20/01/2021</td>\n",
       "    </tr>\n",
       "    <tr>\n",
       "      <th>1</th>\n",
       "      <td>Pfizer/BioNTech</td>\n",
       "      <td>16380</td>\n",
       "      <td>17/02/2021</td>\n",
       "    </tr>\n",
       "    <tr>\n",
       "      <th>2</th>\n",
       "      <td>Pfizer/BioNTech</td>\n",
       "      <td>17550</td>\n",
       "      <td>24/02/2021</td>\n",
       "    </tr>\n",
       "    <tr>\n",
       "      <th>3</th>\n",
       "      <td>Pfizer/BioNTech</td>\n",
       "      <td>31590</td>\n",
       "      <td>03/03/2021</td>\n",
       "    </tr>\n",
       "    <tr>\n",
       "      <th>4</th>\n",
       "      <td>Sinovac</td>\n",
       "      <td>20000</td>\n",
       "      <td>06/03/2021</td>\n",
       "    </tr>\n",
       "  </tbody>\n",
       "</table>\n",
       "</div>"
      ],
      "text/plain": [
       "           vaccine  total  arrived_at\n",
       "0  Pfizer/BioNTech   8190  20/01/2021\n",
       "1  Pfizer/BioNTech  16380  17/02/2021\n",
       "2  Pfizer/BioNTech  17550  24/02/2021\n",
       "3  Pfizer/BioNTech  31590  03/03/2021\n",
       "4          Sinovac  20000  06/03/2021"
      ]
     },
     "execution_count": 9,
     "metadata": {},
     "output_type": "execute_result"
    }
   ],
   "source": [
    "#Cabecera csv fabricante con la transformacion de fecha\n",
    "df_prov.head()\n"
   ]
  },
  {
   "cell_type": "code",
   "execution_count": 10,
   "metadata": {
    "papermill": {
     "duration": null,
     "end_time": null,
     "exception": null,
     "start_time": null,
     "status": "completed"
    },
    "tags": []
   },
   "outputs": [
    {
     "data": {
      "text/html": [
       "<div>\n",
       "<style scoped>\n",
       "    .dataframe tbody tr th:only-of-type {\n",
       "        vertical-align: middle;\n",
       "    }\n",
       "\n",
       "    .dataframe tbody tr th {\n",
       "        vertical-align: top;\n",
       "    }\n",
       "\n",
       "    .dataframe thead th {\n",
       "        text-align: right;\n",
       "    }\n",
       "</style>\n",
       "<table border=\"1\" class=\"dataframe\">\n",
       "  <thead>\n",
       "    <tr style=\"text-align: right;\">\n",
       "      <th></th>\n",
       "      <th>vaccine</th>\n",
       "      <th>total</th>\n",
       "      <th>arrived_at</th>\n",
       "    </tr>\n",
       "  </thead>\n",
       "  <tbody>\n",
       "    <tr>\n",
       "      <th>0</th>\n",
       "      <td>Pfizer/BioNTech</td>\n",
       "      <td>8190</td>\n",
       "      <td>2021-01-20</td>\n",
       "    </tr>\n",
       "    <tr>\n",
       "      <th>1</th>\n",
       "      <td>Pfizer/BioNTech</td>\n",
       "      <td>16380</td>\n",
       "      <td>2021-02-17</td>\n",
       "    </tr>\n",
       "    <tr>\n",
       "      <th>2</th>\n",
       "      <td>Pfizer/BioNTech</td>\n",
       "      <td>17550</td>\n",
       "      <td>2021-02-24</td>\n",
       "    </tr>\n",
       "    <tr>\n",
       "      <th>3</th>\n",
       "      <td>Pfizer/BioNTech</td>\n",
       "      <td>31590</td>\n",
       "      <td>2021-03-03</td>\n",
       "    </tr>\n",
       "    <tr>\n",
       "      <th>4</th>\n",
       "      <td>Sinovac</td>\n",
       "      <td>20000</td>\n",
       "      <td>2021-03-06</td>\n",
       "    </tr>\n",
       "    <tr>\n",
       "      <th>5</th>\n",
       "      <td>Pfizer/BioNTech</td>\n",
       "      <td>73710</td>\n",
       "      <td>2021-03-10</td>\n",
       "    </tr>\n",
       "    <tr>\n",
       "      <th>6</th>\n",
       "      <td>Oxford/AstraZeneca</td>\n",
       "      <td>84000</td>\n",
       "      <td>2021-03-17</td>\n",
       "    </tr>\n",
       "    <tr>\n",
       "      <th>7</th>\n",
       "      <td>Pfizer/BioNTech</td>\n",
       "      <td>62010</td>\n",
       "      <td>2021-03-17</td>\n",
       "    </tr>\n",
       "    <tr>\n",
       "      <th>8</th>\n",
       "      <td>Pfizer/BioNTech</td>\n",
       "      <td>65520</td>\n",
       "      <td>2021-03-24</td>\n",
       "    </tr>\n",
       "    <tr>\n",
       "      <th>9</th>\n",
       "      <td>Pfizer/BioNTech</td>\n",
       "      <td>66690</td>\n",
       "      <td>2021-03-31</td>\n",
       "    </tr>\n",
       "    <tr>\n",
       "      <th>10</th>\n",
       "      <td>Pfizer/BioNTech</td>\n",
       "      <td>53820</td>\n",
       "      <td>2021-04-05</td>\n",
       "    </tr>\n",
       "    <tr>\n",
       "      <th>11</th>\n",
       "      <td>Sinovac</td>\n",
       "      <td>300000</td>\n",
       "      <td>2021-04-07</td>\n",
       "    </tr>\n",
       "    <tr>\n",
       "      <th>12</th>\n",
       "      <td>Sinovac</td>\n",
       "      <td>700000</td>\n",
       "      <td>2021-04-10</td>\n",
       "    </tr>\n",
       "    <tr>\n",
       "      <th>13</th>\n",
       "      <td>Pfizer/BioNTech</td>\n",
       "      <td>53820</td>\n",
       "      <td>2021-04-14</td>\n",
       "    </tr>\n",
       "    <tr>\n",
       "      <th>14</th>\n",
       "      <td>Pfizer/BioNTech</td>\n",
       "      <td>54990</td>\n",
       "      <td>2021-04-21</td>\n",
       "    </tr>\n",
       "    <tr>\n",
       "      <th>15</th>\n",
       "      <td>Oxford/AstraZeneca</td>\n",
       "      <td>336000</td>\n",
       "      <td>2021-04-24</td>\n",
       "    </tr>\n",
       "    <tr>\n",
       "      <th>16</th>\n",
       "      <td>Pfizer/BioNTech</td>\n",
       "      <td>54990</td>\n",
       "      <td>2021-04-28</td>\n",
       "    </tr>\n",
       "    <tr>\n",
       "      <th>17</th>\n",
       "      <td>Pfizer/BioNTech</td>\n",
       "      <td>100620</td>\n",
       "      <td>2021-05-04</td>\n",
       "    </tr>\n",
       "  </tbody>\n",
       "</table>\n",
       "</div>"
      ],
      "text/plain": [
       "               vaccine   total arrived_at\n",
       "0      Pfizer/BioNTech    8190 2021-01-20\n",
       "1      Pfizer/BioNTech   16380 2021-02-17\n",
       "2      Pfizer/BioNTech   17550 2021-02-24\n",
       "3      Pfizer/BioNTech   31590 2021-03-03\n",
       "4              Sinovac   20000 2021-03-06\n",
       "5      Pfizer/BioNTech   73710 2021-03-10\n",
       "6   Oxford/AstraZeneca   84000 2021-03-17\n",
       "7      Pfizer/BioNTech   62010 2021-03-17\n",
       "8      Pfizer/BioNTech   65520 2021-03-24\n",
       "9      Pfizer/BioNTech   66690 2021-03-31\n",
       "10     Pfizer/BioNTech   53820 2021-04-05\n",
       "11             Sinovac  300000 2021-04-07\n",
       "12             Sinovac  700000 2021-04-10\n",
       "13     Pfizer/BioNTech   53820 2021-04-14\n",
       "14     Pfizer/BioNTech   54990 2021-04-21\n",
       "15  Oxford/AstraZeneca  336000 2021-04-24\n",
       "16     Pfizer/BioNTech   54990 2021-04-28\n",
       "17     Pfizer/BioNTech  100620 2021-05-04"
      ]
     },
     "execution_count": 10,
     "metadata": {},
     "output_type": "execute_result"
    }
   ],
   "source": [
    "df_prov['arrived_at'] =  pd.to_datetime(df_prov['arrived_at'], infer_datetime_format=True)\n",
    "df_prov"
   ]
  },
  {
   "cell_type": "markdown",
   "metadata": {
    "papermill": {
     "duration": null,
     "end_time": null,
     "exception": null,
     "start_time": null,
     "status": "completed"
    },
    "tags": []
   },
   "source": [
    "# Generar gráficas:"
   ]
  },
  {
   "cell_type": "markdown",
   "metadata": {
    "papermill": {
     "duration": null,
     "end_time": null,
     "exception": null,
     "start_time": null,
     "status": "completed"
    },
    "tags": []
   },
   "source": [
    "1. Personas vacunadas en Ecuador:"
   ]
  },
  {
   "cell_type": "code",
   "execution_count": 11,
   "metadata": {
    "papermill": {
     "duration": null,
     "end_time": null,
     "exception": null,
     "start_time": null,
     "status": "completed"
    },
    "tags": []
   },
   "outputs": [
    {
     "data": {
      "text/html": [
       "<div>\n",
       "<style scoped>\n",
       "    .dataframe tbody tr th:only-of-type {\n",
       "        vertical-align: middle;\n",
       "    }\n",
       "\n",
       "    .dataframe tbody tr th {\n",
       "        vertical-align: top;\n",
       "    }\n",
       "\n",
       "    .dataframe thead th {\n",
       "        text-align: right;\n",
       "    }\n",
       "</style>\n",
       "<table border=\"1\" class=\"dataframe\">\n",
       "  <thead>\n",
       "    <tr style=\"text-align: right;\">\n",
       "      <th></th>\n",
       "      <th>fecha</th>\n",
       "      <th>dosis_total</th>\n",
       "      <th>primera_dosis</th>\n",
       "      <th>segunda_dosis</th>\n",
       "    </tr>\n",
       "  </thead>\n",
       "  <tbody>\n",
       "    <tr>\n",
       "      <th>0</th>\n",
       "      <td>2021-01-21</td>\n",
       "      <td>0</td>\n",
       "      <td>0</td>\n",
       "      <td>0</td>\n",
       "    </tr>\n",
       "    <tr>\n",
       "      <th>1</th>\n",
       "      <td>2021-01-22</td>\n",
       "      <td>108</td>\n",
       "      <td>108</td>\n",
       "      <td>0</td>\n",
       "    </tr>\n",
       "    <tr>\n",
       "      <th>2</th>\n",
       "      <td>2021-01-27</td>\n",
       "      <td>2982</td>\n",
       "      <td>2982</td>\n",
       "      <td>0</td>\n",
       "    </tr>\n",
       "    <tr>\n",
       "      <th>3</th>\n",
       "      <td>2021-02-04</td>\n",
       "      <td>6228</td>\n",
       "      <td>6228</td>\n",
       "      <td>0</td>\n",
       "    </tr>\n",
       "    <tr>\n",
       "      <th>4</th>\n",
       "      <td>2021-02-17</td>\n",
       "      <td>8190</td>\n",
       "      <td>6228</td>\n",
       "      <td>1962</td>\n",
       "    </tr>\n",
       "  </tbody>\n",
       "</table>\n",
       "</div>"
      ],
      "text/plain": [
       "       fecha  dosis_total  primera_dosis  segunda_dosis\n",
       "0 2021-01-21            0              0              0\n",
       "1 2021-01-22          108            108              0\n",
       "2 2021-01-27         2982           2982              0\n",
       "3 2021-02-04         6228           6228              0\n",
       "4 2021-02-17         8190           6228           1962"
      ]
     },
     "execution_count": 11,
     "metadata": {},
     "output_type": "execute_result"
    }
   ],
   "source": [
    "df.head()"
   ]
  },
  {
   "cell_type": "code",
   "execution_count": 12,
   "metadata": {
    "papermill": {
     "duration": null,
     "end_time": null,
     "exception": null,
     "start_time": null,
     "status": "completed"
    },
    "tags": []
   },
   "outputs": [
    {
     "data": {
      "text/plain": [
       "Text(0, 0.5, 'Total de vacunados')"
      ]
     },
     "execution_count": 12,
     "metadata": {},
     "output_type": "execute_result"
    },
    {
     "data": {
      "image/png": "[encoded data removed]",
      "text/plain": [
       "<Figure size 1080x576 with 1 Axes>"
      ]
     },
     "metadata": {
      "needs_background": "light"
     },
     "output_type": "display_data"
    }
   ],
   "source": [
    "fig = plt.figure(figsize=(15,8))\n",
    "plt.title('Total de vacunados Ecuador - COVID 19')\n",
    "plt.plot(df['fecha'],df['dosis_total'], label='Vacunas COVID Ecuador', color='green',)\n",
    "plt.xlabel('Fecha en días')\n",
    "plt.ylabel('Total de vacunados')\n"
   ]
  },
  {
   "cell_type": "markdown",
   "metadata": {
    "papermill": {
     "duration": null,
     "end_time": null,
     "exception": null,
     "start_time": null,
     "status": "completed"
    },
    "tags": []
   },
   "source": [
    "A continuación se realizará la gráfica de acuerdo a los datos ingresados en cuanto a fecha de inicio y fecha final tanto para la primera dosis como la segunda dosis"
   ]
  },
  {
   "cell_type": "code",
   "execution_count": 13,
   "metadata": {
    "papermill": {
     "duration": null,
     "end_time": null,
     "exception": null,
     "start_time": null,
     "status": "completed"
    },
    "tags": []
   },
   "outputs": [],
   "source": [
    "df=df.loc[(df['fecha'] >= first_date) & (df['fecha'] <= end_date)]\n",
    "date = df['fecha'].tolist()\n",
    "total=df['dosis_total'].tolist()"
   ]
  },
  {
   "cell_type": "code",
   "execution_count": null,
   "metadata": {
    "papermill": {
     "duration": null,
     "end_time": null,
     "exception": null,
     "start_time": null,
     "status": "completed"
    },
    "tags": []
   },
   "outputs": [],
   "source": []
  },
  {
   "cell_type": "code",
   "execution_count": 14,
   "metadata": {
    "papermill": {
     "duration": null,
     "end_time": null,
     "exception": null,
     "start_time": null,
     "status": "completed"
    },
    "tags": []
   },
   "outputs": [
    {
     "data": {
      "text/plain": [
       "Text(0, 0.5, 'Total de vacunados')"
      ]
     },
     "execution_count": 14,
     "metadata": {},
     "output_type": "execute_result"
    },
    {
     "data": {
      "image/png": "[encoded data removed]",
      "text/plain": [
       "<Figure size 1080x576 with 1 Axes>"
      ]
     },
     "metadata": {
      "needs_background": "light"
     },
     "output_type": "display_data"
    }
   ],
   "source": [
    "fig = plt.figure(figsize=(15,8))\n",
    "plt.title('Total de vacunados Ecuador - COVID 19')\n",
    "plt.plot(date,total, label='Vacunas COVID Ecuador', color='orange')\n",
    "plt.xlabel('Fecha')\n",
    "plt.ylabel('Total de vacunados')"
   ]
  },
  {
   "cell_type": "markdown",
   "metadata": {
    "papermill": {
     "duration": null,
     "end_time": null,
     "exception": null,
     "start_time": null,
     "status": "completed"
    },
    "tags": []
   },
   "source": [
    "2. Fabricante de la vacuna"
   ]
  },
  {
   "cell_type": "code",
   "execution_count": 15,
   "metadata": {
    "papermill": {
     "duration": null,
     "end_time": null,
     "exception": null,
     "start_time": null,
     "status": "completed"
    },
    "tags": []
   },
   "outputs": [
    {
     "name": "stdout",
     "output_type": "stream",
     "text": [
      "(3, 2)\n"
     ]
    }
   ],
   "source": [
    "df_prov_ = df_prov\n",
    "df_perc = df_prov_.groupby(['vaccine'])[['total']].sum()\n",
    "df_perc['%']=(df_perc['total']/df_perc['total'].sum())*100\n",
    "\n",
    "#Readondear el porcentaje obtenido\n",
    "df_perc_r = round(df_perc)\n",
    "print(df_perc_r.shape)"
   ]
  },
  {
   "cell_type": "code",
   "execution_count": 16,
   "metadata": {
    "papermill": {
     "duration": null,
     "end_time": null,
     "exception": null,
     "start_time": null,
     "status": "completed"
    },
    "tags": []
   },
   "outputs": [
    {
     "data": {
      "text/html": [
       "<div>\n",
       "<style scoped>\n",
       "    .dataframe tbody tr th:only-of-type {\n",
       "        vertical-align: middle;\n",
       "    }\n",
       "\n",
       "    .dataframe tbody tr th {\n",
       "        vertical-align: top;\n",
       "    }\n",
       "\n",
       "    .dataframe thead th {\n",
       "        text-align: right;\n",
       "    }\n",
       "</style>\n",
       "<table border=\"1\" class=\"dataframe\">\n",
       "  <thead>\n",
       "    <tr style=\"text-align: right;\">\n",
       "      <th></th>\n",
       "      <th>total</th>\n",
       "      <th>%</th>\n",
       "    </tr>\n",
       "    <tr>\n",
       "      <th>vaccine</th>\n",
       "      <th></th>\n",
       "      <th></th>\n",
       "    </tr>\n",
       "  </thead>\n",
       "  <tbody>\n",
       "    <tr>\n",
       "      <th>Oxford/AstraZeneca</th>\n",
       "      <td>420000</td>\n",
       "      <td>20.0</td>\n",
       "    </tr>\n",
       "    <tr>\n",
       "      <th>Pfizer/BioNTech</th>\n",
       "      <td>659880</td>\n",
       "      <td>31.0</td>\n",
       "    </tr>\n",
       "    <tr>\n",
       "      <th>Sinovac</th>\n",
       "      <td>1020000</td>\n",
       "      <td>49.0</td>\n",
       "    </tr>\n",
       "  </tbody>\n",
       "</table>\n",
       "</div>"
      ],
      "text/plain": [
       "                      total     %\n",
       "vaccine                          \n",
       "Oxford/AstraZeneca   420000  20.0\n",
       "Pfizer/BioNTech      659880  31.0\n",
       "Sinovac             1020000  49.0"
      ]
     },
     "execution_count": 16,
     "metadata": {},
     "output_type": "execute_result"
    }
   ],
   "source": [
    "#Total de vacunas por fabricante\n",
    "df_perc_r"
   ]
  },
  {
   "cell_type": "code",
   "execution_count": 17,
   "metadata": {
    "papermill": {
     "duration": null,
     "end_time": null,
     "exception": null,
     "start_time": null,
     "status": "completed"
    },
    "tags": []
   },
   "outputs": [
    {
     "name": "stdout",
     "output_type": "stream",
     "text": [
      "(3, 2)\n"
     ]
    }
   ],
   "source": [
    "df_prov_ = df_prov\n",
    "df_perc = df_prov_.groupby(['vaccine'])[['total']].sum()\n",
    "df_perc['%']=(df_perc['total']/df_perc['total'].sum())*100\n",
    "\n",
    "#Readondear el porcentaje obtenido\n",
    "df_perc_r = round(df_perc)\n",
    "print(df_perc_r.shape)"
   ]
  },
  {
   "cell_type": "code",
   "execution_count": 18,
   "metadata": {
    "papermill": {
     "duration": null,
     "end_time": null,
     "exception": null,
     "start_time": null,
     "status": "completed"
    },
    "tags": []
   },
   "outputs": [
    {
     "data": {
      "text/plain": [
       "<AxesSubplot:title={'center':'Total de vacunas por fabricante'}, ylabel='%'>"
      ]
     },
     "execution_count": 18,
     "metadata": {},
     "output_type": "execute_result"
    },
    {
     "data": {
      "image/png": "[encoded data removed]",
      "text/plain": [
       "<Figure size 1080x576 with 1 Axes>"
      ]
     },
     "metadata": {},
     "output_type": "display_data"
    }
   ],
   "source": [
    "#Grafica total de vacunas por fabricante\n",
    "fig = plt.figure(figsize=(15,8))\n",
    "plt.title(\"Total de vacunas por fabricante\")\n",
    "graph = df_perc_r['%'].head()\n",
    "graph.plot.pie()"
   ]
  },
  {
   "cell_type": "markdown",
   "metadata": {
    "papermill": {
     "duration": null,
     "end_time": null,
     "exception": null,
     "start_time": null,
     "status": "completed"
    },
    "tags": []
   },
   "source": [
    "A continuación se realizará la gráfica de acuerdo a la cantidad de fabricantes de vacunas de manera parametrizada:"
   ]
  },
  {
   "cell_type": "code",
   "execution_count": 19,
   "metadata": {
    "papermill": {
     "duration": null,
     "end_time": null,
     "exception": null,
     "start_time": null,
     "status": "completed"
    },
    "tags": []
   },
   "outputs": [],
   "source": [
    "df_prov_pie = df_prov\n",
    "df_prov_pie=df_prov_pie.loc[(df_prov_pie['arrived_at'] >= first_date) & (df_prov_pie['arrived_at'] <= end_date)]\n",
    "df_prov_pie = df_prov_pie.groupby(('vaccine')).total.sum()"
   ]
  },
  {
   "cell_type": "code",
   "execution_count": 21,
   "metadata": {
    "papermill": {
     "duration": null,
     "end_time": null,
     "exception": null,
     "start_time": null,
     "status": "completed"
    },
    "tags": []
   },
   "outputs": [
    {
     "data": {
      "text/plain": [
       "<AxesSubplot:title={'center':'Total de vacunas por fabricante'}, ylabel='total'>"
      ]
     },
     "execution_count": 21,
     "metadata": {},
     "output_type": "execute_result"
    },
    {
     "data": {
      "image/png": "[encoded data removed]",
      "text/plain": [
       "<Figure size 1080x576 with 1 Axes>"
      ]
     },
     "metadata": {},
     "output_type": "display_data"
    }
   ],
   "source": [
    "#Grafica total de vacunas por fabricante parametrizado\n",
    "fig = plt.figure(figsize=(15,8))\n",
    "plt.title(\"Total de vacunas por fabricante\")\n",
    "graph = df_prov_pie\n",
    "graph.plot.pie()"
   ]
  },
  {
   "cell_type": "markdown",
   "metadata": {
    "papermill": {
     "duration": null,
     "end_time": null,
     "exception": null,
     "start_time": null,
     "status": "completed"
    },
    "tags": []
   },
   "source": [
    "Vacunas por mes de llegada y fabricante"
   ]
  },
  {
   "cell_type": "code",
   "execution_count": 22,
   "metadata": {
    "papermill": {
     "duration": null,
     "end_time": null,
     "exception": null,
     "start_time": null,
     "status": "completed"
    },
    "tags": []
   },
   "outputs": [
    {
     "data": {
      "text/html": [
       "<div>\n",
       "<style scoped>\n",
       "    .dataframe tbody tr th:only-of-type {\n",
       "        vertical-align: middle;\n",
       "    }\n",
       "\n",
       "    .dataframe tbody tr th {\n",
       "        vertical-align: top;\n",
       "    }\n",
       "\n",
       "    .dataframe thead th {\n",
       "        text-align: right;\n",
       "    }\n",
       "</style>\n",
       "<table border=\"1\" class=\"dataframe\">\n",
       "  <thead>\n",
       "    <tr style=\"text-align: right;\">\n",
       "      <th></th>\n",
       "      <th>vaccine</th>\n",
       "      <th>arrived_at</th>\n",
       "      <th>total</th>\n",
       "    </tr>\n",
       "  </thead>\n",
       "  <tbody>\n",
       "    <tr>\n",
       "      <th>0</th>\n",
       "      <td>Oxford/AstraZeneca</td>\n",
       "      <td>2021-03-17</td>\n",
       "      <td>84000</td>\n",
       "    </tr>\n",
       "    <tr>\n",
       "      <th>1</th>\n",
       "      <td>Pfizer/BioNTech</td>\n",
       "      <td>2021-02-17</td>\n",
       "      <td>16380</td>\n",
       "    </tr>\n",
       "    <tr>\n",
       "      <th>2</th>\n",
       "      <td>Pfizer/BioNTech</td>\n",
       "      <td>2021-02-24</td>\n",
       "      <td>17550</td>\n",
       "    </tr>\n",
       "    <tr>\n",
       "      <th>3</th>\n",
       "      <td>Pfizer/BioNTech</td>\n",
       "      <td>2021-03-03</td>\n",
       "      <td>31590</td>\n",
       "    </tr>\n",
       "    <tr>\n",
       "      <th>4</th>\n",
       "      <td>Pfizer/BioNTech</td>\n",
       "      <td>2021-03-10</td>\n",
       "      <td>73710</td>\n",
       "    </tr>\n",
       "    <tr>\n",
       "      <th>5</th>\n",
       "      <td>Pfizer/BioNTech</td>\n",
       "      <td>2021-03-17</td>\n",
       "      <td>62010</td>\n",
       "    </tr>\n",
       "    <tr>\n",
       "      <th>6</th>\n",
       "      <td>Pfizer/BioNTech</td>\n",
       "      <td>2021-03-24</td>\n",
       "      <td>65520</td>\n",
       "    </tr>\n",
       "    <tr>\n",
       "      <th>7</th>\n",
       "      <td>Pfizer/BioNTech</td>\n",
       "      <td>2021-03-31</td>\n",
       "      <td>66690</td>\n",
       "    </tr>\n",
       "    <tr>\n",
       "      <th>8</th>\n",
       "      <td>Pfizer/BioNTech</td>\n",
       "      <td>2021-04-05</td>\n",
       "      <td>53820</td>\n",
       "    </tr>\n",
       "    <tr>\n",
       "      <th>9</th>\n",
       "      <td>Sinovac</td>\n",
       "      <td>2021-03-06</td>\n",
       "      <td>20000</td>\n",
       "    </tr>\n",
       "    <tr>\n",
       "      <th>10</th>\n",
       "      <td>Sinovac</td>\n",
       "      <td>2021-04-07</td>\n",
       "      <td>300000</td>\n",
       "    </tr>\n",
       "    <tr>\n",
       "      <th>11</th>\n",
       "      <td>Sinovac</td>\n",
       "      <td>2021-04-10</td>\n",
       "      <td>700000</td>\n",
       "    </tr>\n",
       "  </tbody>\n",
       "</table>\n",
       "</div>"
      ],
      "text/plain": [
       "               vaccine arrived_at   total\n",
       "0   Oxford/AstraZeneca 2021-03-17   84000\n",
       "1      Pfizer/BioNTech 2021-02-17   16380\n",
       "2      Pfizer/BioNTech 2021-02-24   17550\n",
       "3      Pfizer/BioNTech 2021-03-03   31590\n",
       "4      Pfizer/BioNTech 2021-03-10   73710\n",
       "5      Pfizer/BioNTech 2021-03-17   62010\n",
       "6      Pfizer/BioNTech 2021-03-24   65520\n",
       "7      Pfizer/BioNTech 2021-03-31   66690\n",
       "8      Pfizer/BioNTech 2021-04-05   53820\n",
       "9              Sinovac 2021-03-06   20000\n",
       "10             Sinovac 2021-04-07  300000\n",
       "11             Sinovac 2021-04-10  700000"
      ]
     },
     "execution_count": 22,
     "metadata": {},
     "output_type": "execute_result"
    }
   ],
   "source": [
    "#Cantidad de vacunas por fabricante que llegaron al Ecuador cada mes\n",
    "\n",
    "#Realizamos una copia del dataframe del fabricante\n",
    "df_prov_hist = df_prov\n",
    "df_prov_hist=df_prov_hist.loc[(df_prov_hist['arrived_at'] >= first_date) & (df_prov_hist['arrived_at'] <= end_date)]\n",
    "df_prov_hist_graph = df_prov_hist.groupby(['vaccine','arrived_at'],as_index=False)[['total']].sum()\n",
    "df_prov_hist_graph"
   ]
  },
  {
   "cell_type": "code",
   "execution_count": 23,
   "metadata": {
    "papermill": {
     "duration": null,
     "end_time": null,
     "exception": null,
     "start_time": null,
     "status": "completed"
    },
    "tags": []
   },
   "outputs": [
    {
     "data": {
      "text/plain": [
       "Text(0, 0.5, 'Total de vacunas')"
      ]
     },
     "execution_count": 23,
     "metadata": {},
     "output_type": "execute_result"
    },
    {
     "data": {
      "image/png": "[encoded data removed]",
      "text/plain": [
       "<Figure size 576x576 with 1 Axes>"
      ]
     },
     "metadata": {
      "needs_background": "light"
     },
     "output_type": "display_data"
    }
   ],
   "source": [
    "#Grafica total de vacunas por fecha\n",
    "date = df_prov_hist['arrived_at'].tolist()\n",
    "vaccine=df_prov_hist_graph['total'].tolist()\n",
    "fig = plt.figure(figsize=(8,8))\n",
    "plt.title('Histograma de cantidad de vacunas por fecha')\n",
    "plt.bar(date, vaccine)\n",
    "plt.xlabel('Fecha')\n",
    "plt.xticks(rotation=90)\n",
    "plt.ylabel('Total de vacunas')"
   ]
  },
  {
   "cell_type": "code",
   "execution_count": 24,
   "metadata": {
    "papermill": {
     "duration": null,
     "end_time": null,
     "exception": null,
     "start_time": null,
     "status": "completed"
    },
    "tags": []
   },
   "outputs": [
    {
     "data": {
      "text/plain": [
       "Text(0, 0.5, 'Total de vacunas')"
      ]
     },
     "execution_count": 24,
     "metadata": {},
     "output_type": "execute_result"
    },
    {
     "data": {
      "image/png": "[encoded data removed]",
      "text/plain": [
       "<Figure size 576x576 with 1 Axes>"
      ]
     },
     "metadata": {
      "needs_background": "light"
     },
     "output_type": "display_data"
    }
   ],
   "source": [
    "#Cantidad de vacunas por la fabrica de Sinovac\n",
    "df_prov_s=df_prov_hist_graph.loc[(df_prov_hist_graph['vaccine'] == 'Sinovac')]\n",
    "date = df_prov_s['arrived_at'].tolist()\n",
    "vaccine=df_prov_s['total'].tolist()\n",
    "fig = plt.figure(figsize=(8,8))\n",
    "plt.title('Histograma de cantidad de vacunas por fecha')\n",
    "plt.bar(date, vaccine)\n",
    "plt.xlabel('Fecha')\n",
    "plt.xticks(rotation=90)\n",
    "plt.ylabel('Total de vacunas')"
   ]
  },
  {
   "cell_type": "code",
   "execution_count": 25,
   "metadata": {
    "papermill": {
     "duration": null,
     "end_time": null,
     "exception": null,
     "start_time": null,
     "status": "completed"
    },
    "tags": []
   },
   "outputs": [
    {
     "data": {
      "text/plain": [
       "Text(0, 0.5, 'Total de vacunas')"
      ]
     },
     "execution_count": 25,
     "metadata": {},
     "output_type": "execute_result"
    },
    {
     "data": {
      "image/png": "[encoded data removed]",
      "text/plain": [
       "<Figure size 576x576 with 1 Axes>"
      ]
     },
     "metadata": {
      "needs_background": "light"
     },
     "output_type": "display_data"
    }
   ],
   "source": [
    "#Cantidad de vacunas por la fabrica de Pfizer\n",
    "df_prov_p=df_prov_hist_graph.loc[(df_prov_hist_graph['vaccine'] == 'Pfizer/BioNTech')]\n",
    "date = df_prov_p['arrived_at'].tolist()\n",
    "vaccine=df_prov_p['total'].tolist()\n",
    "fig = plt.figure(figsize=(8,8))\n",
    "plt.title('Histograma de cantidad de vacunas por fecha')\n",
    "plt.bar(date, vaccine)\n",
    "plt.xlabel('Fecha')\n",
    "plt.xticks(rotation=90)\n",
    "plt.ylabel('Total de vacunas')"
   ]
  },
  {
   "cell_type": "code",
   "execution_count": 26,
   "metadata": {
    "papermill": {
     "duration": null,
     "end_time": null,
     "exception": null,
     "start_time": null,
     "status": "completed"
    },
    "tags": []
   },
   "outputs": [
    {
     "data": {
      "text/plain": [
       "Text(0, 0.5, 'Total de vacunas')"
      ]
     },
     "execution_count": 26,
     "metadata": {},
     "output_type": "execute_result"
    },
    {
     "data": {
      "image/png": "[encoded data removed]",
      "text/plain": [
       "<Figure size 576x576 with 1 Axes>"
      ]
     },
     "metadata": {
      "needs_background": "light"
     },
     "output_type": "display_data"
    }
   ],
   "source": [
    "#Cantidad de vacunas por la fabrica de Astrazeneca\n",
    "df_prov_o=df_prov_hist_graph.loc[(df_prov_hist_graph['vaccine'] == 'Oxford/AstraZeneca')]\n",
    "date = df_prov_o['arrived_at'].tolist()\n",
    "vaccine=df_prov_o['total'].tolist()\n",
    "fig = plt.figure(figsize=(8,8))\n",
    "plt.title('Histograma de cantidad de vacunas por fecha')\n",
    "plt.bar(date, vaccine)\n",
    "plt.xlabel('Fecha')\n",
    "plt.xticks(rotation=90)\n",
    "plt.ylabel('Total de vacunas')"
   ]
  },
  {
   "cell_type": "markdown",
   "metadata": {
    "papermill": {
     "duration": null,
     "end_time": null,
     "exception": null,
     "start_time": null,
     "status": "completed"
    },
    "tags": []
   },
   "source": [
    "# Modelo de predicción por regresión"
   ]
  },
  {
   "cell_type": "markdown",
   "metadata": {
    "papermill": {
     "duration": null,
     "end_time": null,
     "exception": null,
     "start_time": null,
     "status": "completed"
    },
    "tags": []
   },
   "source": [
    "Primera dosis:"
   ]
  },
  {
   "cell_type": "code",
   "execution_count": 27,
   "metadata": {
    "papermill": {
     "duration": null,
     "end_time": null,
     "exception": null,
     "start_time": null,
     "status": "completed"
    },
    "tags": []
   },
   "outputs": [],
   "source": [
    "#Variables\n",
    "totaldate = df['fecha'].values.reshape(-1,1)\n",
    "primera_dosis = df['primera_dosis'].values.reshape(-1,1)"
   ]
  },
  {
   "cell_type": "code",
   "execution_count": 28,
   "metadata": {
    "papermill": {
     "duration": null,
     "end_time": null,
     "exception": null,
     "start_time": null,
     "status": "completed"
    },
    "tags": []
   },
   "outputs": [],
   "source": [
    "#Split de datos\n",
    "X_train, X_test, y_train, y_test = train_test_split(totaldate, primera_dosis, test_size=0.2, random_state=42) "
   ]
  },
  {
   "cell_type": "code",
   "execution_count": 29,
   "metadata": {
    "papermill": {
     "duration": null,
     "end_time": null,
     "exception": null,
     "start_time": null,
     "status": "completed"
    },
    "tags": []
   },
   "outputs": [
    {
     "data": {
      "text/plain": [
       "LinearRegression()"
      ]
     },
     "execution_count": 29,
     "metadata": {},
     "output_type": "execute_result"
    }
   ],
   "source": [
    "#Entrenamiento\n",
    "linear_regressor = LinearRegression()  \n",
    "linear_regressor.fit(X_train, y_train) "
   ]
  },
  {
   "cell_type": "code",
   "execution_count": 30,
   "metadata": {
    "papermill": {
     "duration": null,
     "end_time": null,
     "exception": null,
     "start_time": null,
     "status": "completed"
    },
    "tags": []
   },
   "outputs": [
    {
     "name": "stdout",
     "output_type": "stream",
     "text": [
      "Pentiende: [[6.32599515e-11]]\n",
      "Intersección\": [-1.02100732e+08]\n"
     ]
    }
   ],
   "source": [
    "print('Pentiende:', linear_regressor.coef_)\n",
    "print('Intersección\":',  linear_regressor.intercept_)"
   ]
  },
  {
   "cell_type": "code",
   "execution_count": 31,
   "metadata": {
    "papermill": {
     "duration": null,
     "end_time": null,
     "exception": null,
     "start_time": null,
     "status": "completed"
    },
    "tags": []
   },
   "outputs": [],
   "source": [
    "#prediccion1_dosis = linear_regressor.predict(X_test)"
   ]
  },
  {
   "cell_type": "code",
   "execution_count": 32,
   "metadata": {
    "papermill": {
     "duration": null,
     "end_time": null,
     "exception": null,
     "start_time": null,
     "status": "completed"
    },
    "tags": []
   },
   "outputs": [
    {
     "name": "stdout",
     "output_type": "stream",
     "text": [
      "Numero de casos a los  700  de la fecha inicial del dataset, se obtiene una prediccion de :  102100732.1242712\n"
     ]
    }
   ],
   "source": [
    "#PRUEBA 1\n",
    "\n",
    "m = linear_regressor.coef_[0][0]\n",
    "c = linear_regressor.intercept_[0]\n",
    "#Prediccion de x dias desde la fecha inicial del Dataset 2020-03-01\n",
    "dias=700\n",
    "label1 = m*dias-c\n",
    "print(\"Numero de casos a los \",dias,\" de la fecha inicial del dataset, se obtiene una prediccion de : \",label1)"
   ]
  },
  {
   "cell_type": "code",
   "execution_count": 33,
   "metadata": {
    "papermill": {
     "duration": null,
     "end_time": null,
     "exception": null,
     "start_time": null,
     "status": "completed"
    },
    "tags": []
   },
   "outputs": [
    {
     "name": "stdout",
     "output_type": "stream",
     "text": [
      "Numero de casos a los  750  de la fecha inicial del dataset, se obtiene una prediccion de :  102100732.1242712\n"
     ]
    }
   ],
   "source": [
    "#PRUEBA 2\n",
    "\n",
    "m = linear_regressor.coef_[0][0]\n",
    "c = linear_regressor.intercept_[0]\n",
    "#Prediccion de x dias desde la fecha inicial del Dataset 2020-03-01\n",
    "dias=750\n",
    "label2 = m*dias-c\n",
    "print(\"Numero de casos a los \",dias,\" de la fecha inicial del dataset, se obtiene una prediccion de : \",label2)"
   ]
  },
  {
   "cell_type": "code",
   "execution_count": 34,
   "metadata": {
    "papermill": {
     "duration": null,
     "end_time": null,
     "exception": null,
     "start_time": null,
     "status": "completed"
    },
    "tags": []
   },
   "outputs": [
    {
     "name": "stdout",
     "output_type": "stream",
     "text": [
      "Numero de casos a los  800  de la fecha inicial del dataset, se obtiene una prediccion de :  102100732.1242712\n"
     ]
    }
   ],
   "source": [
    "#PRUEBA 3\n",
    "\n",
    "m = linear_regressor.coef_[0][0]\n",
    "c = linear_regressor.intercept_[0]\n",
    "#Prediccion de x dias desde la fecha inicial del Dataset 2020-03-01\n",
    "dias=800\n",
    "label3 = m*dias-c\n",
    "print(\"Numero de casos a los \",dias,\" de la fecha inicial del dataset, se obtiene una prediccion de : \",label3)"
   ]
  },
  {
   "cell_type": "markdown",
   "metadata": {
    "papermill": {
     "duration": null,
     "end_time": null,
     "exception": null,
     "start_time": null,
     "status": "completed"
    },
    "tags": []
   },
   "source": [
    "Segunda dosis:"
   ]
  },
  {
   "cell_type": "code",
   "execution_count": 35,
   "metadata": {
    "papermill": {
     "duration": null,
     "end_time": null,
     "exception": null,
     "start_time": null,
     "status": "completed"
    },
    "tags": []
   },
   "outputs": [],
   "source": [
    "#Variables\n",
    "totaldate = df['fecha'].values.reshape(-1,1)\n",
    "segunda_dosis = df['segunda_dosis'].values.reshape(-1,1)"
   ]
  },
  {
   "cell_type": "code",
   "execution_count": 36,
   "metadata": {
    "papermill": {
     "duration": null,
     "end_time": null,
     "exception": null,
     "start_time": null,
     "status": "completed"
    },
    "tags": []
   },
   "outputs": [],
   "source": [
    "#Split de datos\n",
    "X_train2, X_test2, y_train2, y_test2 = train_test_split(totaldate, segunda_dosis, test_size=0.2, random_state=42)"
   ]
  },
  {
   "cell_type": "code",
   "execution_count": 37,
   "metadata": {
    "papermill": {
     "duration": null,
     "end_time": null,
     "exception": null,
     "start_time": null,
     "status": "completed"
    },
    "tags": []
   },
   "outputs": [
    {
     "data": {
      "text/plain": [
       "LinearRegression()"
      ]
     },
     "execution_count": 37,
     "metadata": {},
     "output_type": "execute_result"
    }
   ],
   "source": [
    "#Entrenamiento\n",
    "linear_regressor2 = LinearRegression()  \n",
    "linear_regressor2.fit(X_train2, y_train2)"
   ]
  },
  {
   "cell_type": "code",
   "execution_count": 38,
   "metadata": {
    "papermill": {
     "duration": null,
     "end_time": null,
     "exception": null,
     "start_time": null,
     "status": "completed"
    },
    "tags": []
   },
   "outputs": [
    {
     "name": "stdout",
     "output_type": "stream",
     "text": [
      "Pentiende: [[3.55126789e-11]]\n",
      "Intersección\": [-57350681.62325501]\n"
     ]
    }
   ],
   "source": [
    "print('Pentiende:', linear_regressor2.coef_)\n",
    "print('Intersección\":',  linear_regressor2.intercept_)"
   ]
  },
  {
   "cell_type": "code",
   "execution_count": 39,
   "metadata": {
    "papermill": {
     "duration": null,
     "end_time": null,
     "exception": null,
     "start_time": null,
     "status": "completed"
    },
    "tags": []
   },
   "outputs": [],
   "source": [
    "#prediccion2_dosis = linear_regressor2.predict(X_test2)"
   ]
  },
  {
   "cell_type": "code",
   "execution_count": 40,
   "metadata": {
    "papermill": {
     "duration": null,
     "end_time": null,
     "exception": null,
     "start_time": null,
     "status": "completed"
    },
    "tags": []
   },
   "outputs": [
    {
     "name": "stdout",
     "output_type": "stream",
     "text": [
      "Numero de casos a los  700  de la fecha inicial del dataset, se obtiene una prediccion de :  57350681.62325504\n"
     ]
    }
   ],
   "source": [
    "#PRUEBA 1\n",
    "\n",
    "m = linear_regressor2.coef_[0][0]\n",
    "c = linear_regressor2.intercept_[0]\n",
    "#Prediccion de x dias desde la fecha inicial del Dataset 2020-03-01\n",
    "dias=700\n",
    "label1 = m*dias-c\n",
    "print(\"Numero de casos a los \",dias,\" de la fecha inicial del dataset, se obtiene una prediccion de : \",label1)"
   ]
  },
  {
   "cell_type": "code",
   "execution_count": 41,
   "metadata": {
    "papermill": {
     "duration": null,
     "end_time": null,
     "exception": null,
     "start_time": null,
     "status": "completed"
    },
    "tags": []
   },
   "outputs": [
    {
     "name": "stdout",
     "output_type": "stream",
     "text": [
      "Numero de casos a los  750  de la fecha inicial del dataset, se obtiene una prediccion de :  57350681.623255044\n"
     ]
    }
   ],
   "source": [
    "#PRUEBA 2\n",
    "\n",
    "m = linear_regressor2.coef_[0][0]\n",
    "c = linear_regressor2.intercept_[0]\n",
    "#Prediccion de x dias desde la fecha inicial del Dataset 2020-03-01\n",
    "dias=750\n",
    "label2 = m*dias-c\n",
    "print(\"Numero de casos a los \",dias,\" de la fecha inicial del dataset, se obtiene una prediccion de : \",label2)"
   ]
  },
  {
   "cell_type": "code",
   "execution_count": 42,
   "metadata": {
    "papermill": {
     "duration": null,
     "end_time": null,
     "exception": null,
     "start_time": null,
     "status": "completed"
    },
    "tags": []
   },
   "outputs": [
    {
     "name": "stdout",
     "output_type": "stream",
     "text": [
      "Numero de casos a los  800  de la fecha inicial del dataset, se obtiene una prediccion de :  57350681.623255044\n"
     ]
    }
   ],
   "source": [
    "#PRUEBA 3\n",
    "\n",
    "m = linear_regressor2.coef_[0][0]\n",
    "c = linear_regressor2.intercept_[0]\n",
    "#Prediccion de x dias desde la fecha inicial del Dataset 2020-03-01\n",
    "dias=800\n",
    "label3 = m*dias-c\n",
    "print(\"Numero de casos a los \",dias,\" de la fecha inicial del dataset, se obtiene una prediccion de : \",label3)"
   ]
  },
  {
   "cell_type": "markdown",
   "metadata": {
    "papermill": {
     "duration": null,
     "end_time": null,
     "exception": null,
     "start_time": null,
     "status": "completed"
    },
    "tags": []
   },
   "source": [
    "Como se puede apreciar en la prueba 1 de \"PRIMERA DOSIS\" vs \"SEGUNDA DOSIS\" existe una gran diferencia de predicción de cantidad de contagios con una dosis y con dos dosis en el Ecuador. De igual manera se puede apreciar este cambio con la prueba 2 y 3 tanto de primera dosis como de segunda dosis"
   ]
  },
  {
   "cell_type": "markdown",
   "metadata": {
    "papermill": {
     "duration": null,
     "end_time": null,
     "exception": null,
     "start_time": null,
     "status": "completed"
    },
    "tags": []
   },
   "source": [
    "# Ecuador vs otros paises"
   ]
  },
  {
   "cell_type": "markdown",
   "metadata": {
    "papermill": {
     "duration": null,
     "end_time": null,
     "exception": null,
     "start_time": null,
     "status": "completed"
    },
    "tags": []
   },
   "source": [
    "Para poder generar un proceso de comparación de los datos de COVID 19 entre los distintos paises del mundo se ha escogido a Alemania y Grecia como paises de Europa y como representante de Latinoamérica se trabajará con Brasil"
   ]
  },
  {
   "cell_type": "code",
   "execution_count": 43,
   "metadata": {
    "papermill": {
     "duration": null,
     "end_time": null,
     "exception": null,
     "start_time": null,
     "status": "completed"
    },
    "tags": []
   },
   "outputs": [
    {
     "data": {
      "text/html": [
       "<div>\n",
       "<style scoped>\n",
       "    .dataframe tbody tr th:only-of-type {\n",
       "        vertical-align: middle;\n",
       "    }\n",
       "\n",
       "    .dataframe tbody tr th {\n",
       "        vertical-align: top;\n",
       "    }\n",
       "\n",
       "    .dataframe thead th {\n",
       "        text-align: right;\n",
       "    }\n",
       "</style>\n",
       "<table border=\"1\" class=\"dataframe\">\n",
       "  <thead>\n",
       "    <tr style=\"text-align: right;\">\n",
       "      <th></th>\n",
       "      <th>location</th>\n",
       "      <th>iso_code</th>\n",
       "      <th>date</th>\n",
       "      <th>total_vaccinations</th>\n",
       "      <th>people_vaccinated</th>\n",
       "      <th>people_fully_vaccinated</th>\n",
       "      <th>daily_vaccinations_raw</th>\n",
       "      <th>daily_vaccinations</th>\n",
       "      <th>total_vaccinations_per_hundred</th>\n",
       "      <th>people_vaccinated_per_hundred</th>\n",
       "      <th>people_fully_vaccinated_per_hundred</th>\n",
       "      <th>daily_vaccinations_per_million</th>\n",
       "    </tr>\n",
       "  </thead>\n",
       "  <tbody>\n",
       "    <tr>\n",
       "      <th>0</th>\n",
       "      <td>Brazil</td>\n",
       "      <td>BRA</td>\n",
       "      <td>2021-01-16</td>\n",
       "      <td>0.0</td>\n",
       "      <td>0.0</td>\n",
       "      <td>NaN</td>\n",
       "      <td>NaN</td>\n",
       "      <td>NaN</td>\n",
       "      <td>0.00</td>\n",
       "      <td>0.00</td>\n",
       "      <td>NaN</td>\n",
       "      <td>NaN</td>\n",
       "    </tr>\n",
       "    <tr>\n",
       "      <th>1</th>\n",
       "      <td>Brazil</td>\n",
       "      <td>BRA</td>\n",
       "      <td>2021-01-17</td>\n",
       "      <td>112.0</td>\n",
       "      <td>112.0</td>\n",
       "      <td>NaN</td>\n",
       "      <td>112.0</td>\n",
       "      <td>112.0</td>\n",
       "      <td>0.00</td>\n",
       "      <td>0.00</td>\n",
       "      <td>NaN</td>\n",
       "      <td>1.0</td>\n",
       "    </tr>\n",
       "    <tr>\n",
       "      <th>2</th>\n",
       "      <td>Brazil</td>\n",
       "      <td>BRA</td>\n",
       "      <td>2021-01-18</td>\n",
       "      <td>1109.0</td>\n",
       "      <td>1109.0</td>\n",
       "      <td>NaN</td>\n",
       "      <td>997.0</td>\n",
       "      <td>554.0</td>\n",
       "      <td>0.00</td>\n",
       "      <td>0.00</td>\n",
       "      <td>NaN</td>\n",
       "      <td>3.0</td>\n",
       "    </tr>\n",
       "    <tr>\n",
       "      <th>3</th>\n",
       "      <td>Brazil</td>\n",
       "      <td>BRA</td>\n",
       "      <td>2021-01-19</td>\n",
       "      <td>11470.0</td>\n",
       "      <td>11470.0</td>\n",
       "      <td>NaN</td>\n",
       "      <td>10361.0</td>\n",
       "      <td>3823.0</td>\n",
       "      <td>0.01</td>\n",
       "      <td>0.01</td>\n",
       "      <td>NaN</td>\n",
       "      <td>18.0</td>\n",
       "    </tr>\n",
       "    <tr>\n",
       "      <th>4</th>\n",
       "      <td>Brazil</td>\n",
       "      <td>BRA</td>\n",
       "      <td>2021-01-20</td>\n",
       "      <td>28543.0</td>\n",
       "      <td>28543.0</td>\n",
       "      <td>NaN</td>\n",
       "      <td>17073.0</td>\n",
       "      <td>7136.0</td>\n",
       "      <td>0.01</td>\n",
       "      <td>0.01</td>\n",
       "      <td>NaN</td>\n",
       "      <td>34.0</td>\n",
       "    </tr>\n",
       "    <tr>\n",
       "      <th>...</th>\n",
       "      <td>...</td>\n",
       "      <td>...</td>\n",
       "      <td>...</td>\n",
       "      <td>...</td>\n",
       "      <td>...</td>\n",
       "      <td>...</td>\n",
       "      <td>...</td>\n",
       "      <td>...</td>\n",
       "      <td>...</td>\n",
       "      <td>...</td>\n",
       "      <td>...</td>\n",
       "      <td>...</td>\n",
       "    </tr>\n",
       "    <tr>\n",
       "      <th>110</th>\n",
       "      <td>Brazil</td>\n",
       "      <td>BRA</td>\n",
       "      <td>2021-05-06</td>\n",
       "      <td>46542392.0</td>\n",
       "      <td>31504414.0</td>\n",
       "      <td>15037978.0</td>\n",
       "      <td>356703.0</td>\n",
       "      <td>650348.0</td>\n",
       "      <td>21.90</td>\n",
       "      <td>14.82</td>\n",
       "      <td>7.07</td>\n",
       "      <td>3060.0</td>\n",
       "    </tr>\n",
       "    <tr>\n",
       "      <th>111</th>\n",
       "      <td>Brazil</td>\n",
       "      <td>BRA</td>\n",
       "      <td>2021-05-07</td>\n",
       "      <td>46875460.0</td>\n",
       "      <td>31722544.0</td>\n",
       "      <td>15152916.0</td>\n",
       "      <td>333068.0</td>\n",
       "      <td>596657.0</td>\n",
       "      <td>22.05</td>\n",
       "      <td>14.92</td>\n",
       "      <td>7.13</td>\n",
       "      <td>2807.0</td>\n",
       "    </tr>\n",
       "    <tr>\n",
       "      <th>112</th>\n",
       "      <td>Brazil</td>\n",
       "      <td>BRA</td>\n",
       "      <td>2021-05-08</td>\n",
       "      <td>NaN</td>\n",
       "      <td>NaN</td>\n",
       "      <td>NaN</td>\n",
       "      <td>NaN</td>\n",
       "      <td>571797.0</td>\n",
       "      <td>NaN</td>\n",
       "      <td>NaN</td>\n",
       "      <td>NaN</td>\n",
       "      <td>2690.0</td>\n",
       "    </tr>\n",
       "    <tr>\n",
       "      <th>113</th>\n",
       "      <td>Brazil</td>\n",
       "      <td>BRA</td>\n",
       "      <td>2021-05-09</td>\n",
       "      <td>NaN</td>\n",
       "      <td>NaN</td>\n",
       "      <td>NaN</td>\n",
       "      <td>NaN</td>\n",
       "      <td>575528.0</td>\n",
       "      <td>NaN</td>\n",
       "      <td>NaN</td>\n",
       "      <td>NaN</td>\n",
       "      <td>2708.0</td>\n",
       "    </tr>\n",
       "    <tr>\n",
       "      <th>114</th>\n",
       "      <td>Brazil</td>\n",
       "      <td>BRA</td>\n",
       "      <td>2021-05-10</td>\n",
       "      <td>47365348.0</td>\n",
       "      <td>32101075.0</td>\n",
       "      <td>15264273.0</td>\n",
       "      <td>NaN</td>\n",
       "      <td>486170.0</td>\n",
       "      <td>22.28</td>\n",
       "      <td>15.10</td>\n",
       "      <td>7.18</td>\n",
       "      <td>2287.0</td>\n",
       "    </tr>\n",
       "  </tbody>\n",
       "</table>\n",
       "<p>115 rows × 12 columns</p>\n",
       "</div>"
      ],
      "text/plain": [
       "    location iso_code        date  total_vaccinations  people_vaccinated  \\\n",
       "0     Brazil      BRA  2021-01-16                 0.0                0.0   \n",
       "1     Brazil      BRA  2021-01-17               112.0              112.0   \n",
       "2     Brazil      BRA  2021-01-18              1109.0             1109.0   \n",
       "3     Brazil      BRA  2021-01-19             11470.0            11470.0   \n",
       "4     Brazil      BRA  2021-01-20             28543.0            28543.0   \n",
       "..       ...      ...         ...                 ...                ...   \n",
       "110   Brazil      BRA  2021-05-06          46542392.0         31504414.0   \n",
       "111   Brazil      BRA  2021-05-07          46875460.0         31722544.0   \n",
       "112   Brazil      BRA  2021-05-08                 NaN                NaN   \n",
       "113   Brazil      BRA  2021-05-09                 NaN                NaN   \n",
       "114   Brazil      BRA  2021-05-10          47365348.0         32101075.0   \n",
       "\n",
       "     people_fully_vaccinated  daily_vaccinations_raw  daily_vaccinations  \\\n",
       "0                        NaN                     NaN                 NaN   \n",
       "1                        NaN                   112.0               112.0   \n",
       "2                        NaN                   997.0               554.0   \n",
       "3                        NaN                 10361.0              3823.0   \n",
       "4                        NaN                 17073.0              7136.0   \n",
       "..                       ...                     ...                 ...   \n",
       "110               15037978.0                356703.0            650348.0   \n",
       "111               15152916.0                333068.0            596657.0   \n",
       "112                      NaN                     NaN            571797.0   \n",
       "113                      NaN                     NaN            575528.0   \n",
       "114               15264273.0                     NaN            486170.0   \n",
       "\n",
       "     total_vaccinations_per_hundred  people_vaccinated_per_hundred  \\\n",
       "0                              0.00                           0.00   \n",
       "1                              0.00                           0.00   \n",
       "2                              0.00                           0.00   \n",
       "3                              0.01                           0.01   \n",
       "4                              0.01                           0.01   \n",
       "..                              ...                            ...   \n",
       "110                           21.90                          14.82   \n",
       "111                           22.05                          14.92   \n",
       "112                             NaN                            NaN   \n",
       "113                             NaN                            NaN   \n",
       "114                           22.28                          15.10   \n",
       "\n",
       "     people_fully_vaccinated_per_hundred  daily_vaccinations_per_million  \n",
       "0                                    NaN                             NaN  \n",
       "1                                    NaN                             1.0  \n",
       "2                                    NaN                             3.0  \n",
       "3                                    NaN                            18.0  \n",
       "4                                    NaN                            34.0  \n",
       "..                                   ...                             ...  \n",
       "110                                 7.07                          3060.0  \n",
       "111                                 7.13                          2807.0  \n",
       "112                                  NaN                          2690.0  \n",
       "113                                  NaN                          2708.0  \n",
       "114                                 7.18                          2287.0  \n",
       "\n",
       "[115 rows x 12 columns]"
      ]
     },
     "execution_count": 43,
     "metadata": {},
     "output_type": "execute_result"
    }
   ],
   "source": [
    "#Carga de datos\n",
    "\n",
    "#Ecuador\n",
    "df_ECU = pd.read_csv('in/vacunas.csv', sep = ',')\n",
    "\n",
    "#Alemania\n",
    "df_DEU =  pd.read_csv('in/germany.csv', sep = ',')\n",
    "\n",
    "#Brasil\n",
    "df_BRA = pd.read_csv('in/BRAZIL.csv', sep = ',')\n",
    "df_BRA"
   ]
  },
  {
   "cell_type": "markdown",
   "metadata": {
    "papermill": {
     "duration": null,
     "end_time": null,
     "exception": null,
     "start_time": null,
     "status": "completed"
    },
    "tags": []
   },
   "source": [
    "Alemania"
   ]
  },
  {
   "cell_type": "code",
   "execution_count": 44,
   "metadata": {
    "papermill": {
     "duration": null,
     "end_time": null,
     "exception": null,
     "start_time": null,
     "status": "completed"
    },
    "tags": []
   },
   "outputs": [
    {
     "data": {
      "text/html": [
       "<div>\n",
       "<style scoped>\n",
       "    .dataframe tbody tr th:only-of-type {\n",
       "        vertical-align: middle;\n",
       "    }\n",
       "\n",
       "    .dataframe tbody tr th {\n",
       "        vertical-align: top;\n",
       "    }\n",
       "\n",
       "    .dataframe thead th {\n",
       "        text-align: right;\n",
       "    }\n",
       "</style>\n",
       "<table border=\"1\" class=\"dataframe\">\n",
       "  <thead>\n",
       "    <tr style=\"text-align: right;\">\n",
       "      <th></th>\n",
       "      <th>location</th>\n",
       "      <th>iso_code</th>\n",
       "      <th>date</th>\n",
       "      <th>total_vaccinations</th>\n",
       "      <th>people_vaccinated</th>\n",
       "      <th>people_fully_vaccinated</th>\n",
       "      <th>daily_vaccinations_raw</th>\n",
       "      <th>daily_vaccinations</th>\n",
       "      <th>total_vaccinations_per_hundred</th>\n",
       "      <th>people_vaccinated_per_hundred</th>\n",
       "      <th>people_fully_vaccinated_per_hundred</th>\n",
       "      <th>daily_vaccinations_per_million</th>\n",
       "    </tr>\n",
       "  </thead>\n",
       "  <tbody>\n",
       "    <tr>\n",
       "      <th>0</th>\n",
       "      <td>Germany</td>\n",
       "      <td>DEU</td>\n",
       "      <td>2020-12-27</td>\n",
       "      <td>23999</td>\n",
       "      <td>23986</td>\n",
       "      <td>13</td>\n",
       "      <td>NaN</td>\n",
       "      <td>NaN</td>\n",
       "      <td>0.03</td>\n",
       "      <td>0.03</td>\n",
       "      <td>0.0</td>\n",
       "      <td>NaN</td>\n",
       "    </tr>\n",
       "    <tr>\n",
       "      <th>1</th>\n",
       "      <td>Germany</td>\n",
       "      <td>DEU</td>\n",
       "      <td>2020-12-28</td>\n",
       "      <td>42485</td>\n",
       "      <td>42435</td>\n",
       "      <td>50</td>\n",
       "      <td>18486.0</td>\n",
       "      <td>18486.0</td>\n",
       "      <td>0.05</td>\n",
       "      <td>0.05</td>\n",
       "      <td>0.0</td>\n",
       "      <td>221.0</td>\n",
       "    </tr>\n",
       "    <tr>\n",
       "      <th>2</th>\n",
       "      <td>Germany</td>\n",
       "      <td>DEU</td>\n",
       "      <td>2020-12-29</td>\n",
       "      <td>93221</td>\n",
       "      <td>92446</td>\n",
       "      <td>775</td>\n",
       "      <td>50736.0</td>\n",
       "      <td>34611.0</td>\n",
       "      <td>0.11</td>\n",
       "      <td>0.11</td>\n",
       "      <td>0.0</td>\n",
       "      <td>413.0</td>\n",
       "    </tr>\n",
       "    <tr>\n",
       "      <th>3</th>\n",
       "      <td>Germany</td>\n",
       "      <td>DEU</td>\n",
       "      <td>2020-12-30</td>\n",
       "      <td>155893</td>\n",
       "      <td>154998</td>\n",
       "      <td>895</td>\n",
       "      <td>62672.0</td>\n",
       "      <td>43965.0</td>\n",
       "      <td>0.19</td>\n",
       "      <td>0.18</td>\n",
       "      <td>0.0</td>\n",
       "      <td>525.0</td>\n",
       "    </tr>\n",
       "    <tr>\n",
       "      <th>4</th>\n",
       "      <td>Germany</td>\n",
       "      <td>DEU</td>\n",
       "      <td>2020-12-31</td>\n",
       "      <td>205912</td>\n",
       "      <td>204868</td>\n",
       "      <td>1044</td>\n",
       "      <td>50019.0</td>\n",
       "      <td>45478.0</td>\n",
       "      <td>0.25</td>\n",
       "      <td>0.24</td>\n",
       "      <td>0.0</td>\n",
       "      <td>543.0</td>\n",
       "    </tr>\n",
       "  </tbody>\n",
       "</table>\n",
       "</div>"
      ],
      "text/plain": [
       "  location iso_code        date  total_vaccinations  people_vaccinated  \\\n",
       "0  Germany      DEU  2020-12-27               23999              23986   \n",
       "1  Germany      DEU  2020-12-28               42485              42435   \n",
       "2  Germany      DEU  2020-12-29               93221              92446   \n",
       "3  Germany      DEU  2020-12-30              155893             154998   \n",
       "4  Germany      DEU  2020-12-31              205912             204868   \n",
       "\n",
       "   people_fully_vaccinated  daily_vaccinations_raw  daily_vaccinations  \\\n",
       "0                       13                     NaN                 NaN   \n",
       "1                       50                 18486.0             18486.0   \n",
       "2                      775                 50736.0             34611.0   \n",
       "3                      895                 62672.0             43965.0   \n",
       "4                     1044                 50019.0             45478.0   \n",
       "\n",
       "   total_vaccinations_per_hundred  people_vaccinated_per_hundred  \\\n",
       "0                            0.03                           0.03   \n",
       "1                            0.05                           0.05   \n",
       "2                            0.11                           0.11   \n",
       "3                            0.19                           0.18   \n",
       "4                            0.25                           0.24   \n",
       "\n",
       "   people_fully_vaccinated_per_hundred  daily_vaccinations_per_million  \n",
       "0                                  0.0                             NaN  \n",
       "1                                  0.0                           221.0  \n",
       "2                                  0.0                           413.0  \n",
       "3                                  0.0                           525.0  \n",
       "4                                  0.0                           543.0  "
      ]
     },
     "execution_count": 44,
     "metadata": {},
     "output_type": "execute_result"
    }
   ],
   "source": [
    "df_DEU.head()"
   ]
  },
  {
   "cell_type": "code",
   "execution_count": 45,
   "metadata": {
    "papermill": {
     "duration": null,
     "end_time": null,
     "exception": null,
     "start_time": null,
     "status": "completed"
    },
    "tags": []
   },
   "outputs": [
    {
     "data": {
      "text/html": [
       "<div>\n",
       "<style scoped>\n",
       "    .dataframe tbody tr th:only-of-type {\n",
       "        vertical-align: middle;\n",
       "    }\n",
       "\n",
       "    .dataframe tbody tr th {\n",
       "        vertical-align: top;\n",
       "    }\n",
       "\n",
       "    .dataframe thead th {\n",
       "        text-align: right;\n",
       "    }\n",
       "</style>\n",
       "<table border=\"1\" class=\"dataframe\">\n",
       "  <thead>\n",
       "    <tr style=\"text-align: right;\">\n",
       "      <th></th>\n",
       "      <th>date</th>\n",
       "      <th>total_vaccinations</th>\n",
       "    </tr>\n",
       "  </thead>\n",
       "  <tbody>\n",
       "    <tr>\n",
       "      <th>0</th>\n",
       "      <td>2020-12-27</td>\n",
       "      <td>23999</td>\n",
       "    </tr>\n",
       "    <tr>\n",
       "      <th>1</th>\n",
       "      <td>2020-12-28</td>\n",
       "      <td>42485</td>\n",
       "    </tr>\n",
       "    <tr>\n",
       "      <th>2</th>\n",
       "      <td>2020-12-29</td>\n",
       "      <td>93221</td>\n",
       "    </tr>\n",
       "    <tr>\n",
       "      <th>3</th>\n",
       "      <td>2020-12-30</td>\n",
       "      <td>155893</td>\n",
       "    </tr>\n",
       "    <tr>\n",
       "      <th>4</th>\n",
       "      <td>2020-12-31</td>\n",
       "      <td>205912</td>\n",
       "    </tr>\n",
       "    <tr>\n",
       "      <th>...</th>\n",
       "      <td>...</td>\n",
       "      <td>...</td>\n",
       "    </tr>\n",
       "    <tr>\n",
       "      <th>130</th>\n",
       "      <td>2021-05-06</td>\n",
       "      <td>33634276</td>\n",
       "    </tr>\n",
       "    <tr>\n",
       "      <th>131</th>\n",
       "      <td>2021-05-07</td>\n",
       "      <td>34471826</td>\n",
       "    </tr>\n",
       "    <tr>\n",
       "      <th>132</th>\n",
       "      <td>2021-05-08</td>\n",
       "      <td>34880369</td>\n",
       "    </tr>\n",
       "    <tr>\n",
       "      <th>133</th>\n",
       "      <td>2021-05-09</td>\n",
       "      <td>35152143</td>\n",
       "    </tr>\n",
       "    <tr>\n",
       "      <th>134</th>\n",
       "      <td>2021-05-10</td>\n",
       "      <td>35709755</td>\n",
       "    </tr>\n",
       "  </tbody>\n",
       "</table>\n",
       "<p>135 rows × 2 columns</p>\n",
       "</div>"
      ],
      "text/plain": [
       "           date  total_vaccinations\n",
       "0    2020-12-27               23999\n",
       "1    2020-12-28               42485\n",
       "2    2020-12-29               93221\n",
       "3    2020-12-30              155893\n",
       "4    2020-12-31              205912\n",
       "..          ...                 ...\n",
       "130  2021-05-06            33634276\n",
       "131  2021-05-07            34471826\n",
       "132  2021-05-08            34880369\n",
       "133  2021-05-09            35152143\n",
       "134  2021-05-10            35709755\n",
       "\n",
       "[135 rows x 2 columns]"
      ]
     },
     "execution_count": 45,
     "metadata": {},
     "output_type": "execute_result"
    }
   ],
   "source": [
    "df_DEU_new = df_DEU.loc[:,['date','total_vaccinations']] #Seleccionar la columna correspondiente a la información de Alemania\n",
    "df_DEU_new "
   ]
  },
  {
   "cell_type": "code",
   "execution_count": 46,
   "metadata": {
    "papermill": {
     "duration": null,
     "end_time": null,
     "exception": null,
     "start_time": null,
     "status": "completed"
    },
    "tags": []
   },
   "outputs": [],
   "source": [
    "# Expresar las fechas en numero de dias\n",
    "FMT = '%Y-%m-%d'\n",
    "df_DEU_new['date'] = df_DEU_new['date'].map(lambda x : (datetime.strptime(x, FMT) - datetime.strptime(\"2020-12-27\", FMT)).days)"
   ]
  },
  {
   "cell_type": "code",
   "execution_count": 47,
   "metadata": {
    "papermill": {
     "duration": null,
     "end_time": null,
     "exception": null,
     "start_time": null,
     "status": "completed"
    },
    "tags": []
   },
   "outputs": [
    {
     "data": {
      "text/html": [
       "<div>\n",
       "<style scoped>\n",
       "    .dataframe tbody tr th:only-of-type {\n",
       "        vertical-align: middle;\n",
       "    }\n",
       "\n",
       "    .dataframe tbody tr th {\n",
       "        vertical-align: top;\n",
       "    }\n",
       "\n",
       "    .dataframe thead th {\n",
       "        text-align: right;\n",
       "    }\n",
       "</style>\n",
       "<table border=\"1\" class=\"dataframe\">\n",
       "  <thead>\n",
       "    <tr style=\"text-align: right;\">\n",
       "      <th></th>\n",
       "      <th>date</th>\n",
       "      <th>total_vaccinations</th>\n",
       "    </tr>\n",
       "  </thead>\n",
       "  <tbody>\n",
       "    <tr>\n",
       "      <th>0</th>\n",
       "      <td>0</td>\n",
       "      <td>23999</td>\n",
       "    </tr>\n",
       "    <tr>\n",
       "      <th>1</th>\n",
       "      <td>1</td>\n",
       "      <td>42485</td>\n",
       "    </tr>\n",
       "    <tr>\n",
       "      <th>2</th>\n",
       "      <td>2</td>\n",
       "      <td>93221</td>\n",
       "    </tr>\n",
       "    <tr>\n",
       "      <th>3</th>\n",
       "      <td>3</td>\n",
       "      <td>155893</td>\n",
       "    </tr>\n",
       "    <tr>\n",
       "      <th>4</th>\n",
       "      <td>4</td>\n",
       "      <td>205912</td>\n",
       "    </tr>\n",
       "    <tr>\n",
       "      <th>...</th>\n",
       "      <td>...</td>\n",
       "      <td>...</td>\n",
       "    </tr>\n",
       "    <tr>\n",
       "      <th>130</th>\n",
       "      <td>130</td>\n",
       "      <td>33634276</td>\n",
       "    </tr>\n",
       "    <tr>\n",
       "      <th>131</th>\n",
       "      <td>131</td>\n",
       "      <td>34471826</td>\n",
       "    </tr>\n",
       "    <tr>\n",
       "      <th>132</th>\n",
       "      <td>132</td>\n",
       "      <td>34880369</td>\n",
       "    </tr>\n",
       "    <tr>\n",
       "      <th>133</th>\n",
       "      <td>133</td>\n",
       "      <td>35152143</td>\n",
       "    </tr>\n",
       "    <tr>\n",
       "      <th>134</th>\n",
       "      <td>134</td>\n",
       "      <td>35709755</td>\n",
       "    </tr>\n",
       "  </tbody>\n",
       "</table>\n",
       "<p>135 rows × 2 columns</p>\n",
       "</div>"
      ],
      "text/plain": [
       "     date  total_vaccinations\n",
       "0       0               23999\n",
       "1       1               42485\n",
       "2       2               93221\n",
       "3       3              155893\n",
       "4       4              205912\n",
       "..    ...                 ...\n",
       "130   130            33634276\n",
       "131   131            34471826\n",
       "132   132            34880369\n",
       "133   133            35152143\n",
       "134   134            35709755\n",
       "\n",
       "[135 rows x 2 columns]"
      ]
     },
     "execution_count": 47,
     "metadata": {},
     "output_type": "execute_result"
    }
   ],
   "source": [
    "df_DEU_new"
   ]
  },
  {
   "cell_type": "code",
   "execution_count": 48,
   "metadata": {
    "papermill": {
     "duration": null,
     "end_time": null,
     "exception": null,
     "start_time": null,
     "status": "completed"
    },
    "tags": []
   },
   "outputs": [
    {
     "data": {
      "text/plain": [
       "RandomForestRegressor(n_estimators=10, random_state=0)"
      ]
     },
     "execution_count": 48,
     "metadata": {},
     "output_type": "execute_result"
    }
   ],
   "source": [
    "#Modelo regresion\n",
    "X_DEU = df_DEU_new['date'].values.reshape(-1,1)\n",
    "y_DEU = df_DEU_new['total_vaccinations'].values.reshape(-1,1)\n",
    "reg_DEU = RandomForestRegressor(n_estimators=10, random_state=0)\n",
    "reg_DEU.fit(X_DEU, y_DEU.ravel())"
   ]
  },
  {
   "cell_type": "code",
   "execution_count": 49,
   "metadata": {
    "papermill": {
     "duration": null,
     "end_time": null,
     "exception": null,
     "start_time": null,
     "status": "completed"
    },
    "tags": []
   },
   "outputs": [
    {
     "data": {
      "image/png": "[encoded data removed]",
      "text/plain": [
       "<Figure size 576x504 with 1 Axes>"
      ]
     },
     "metadata": {
      "needs_background": "light"
     },
     "output_type": "display_data"
    }
   ],
   "source": [
    "plt.figure(figsize = (8,7))\n",
    "plt.plot(X_DEU, y_DEU, '-', label ='TOTAL DE VACUNAS EN ALEMANIA',color='purple')\n",
    "plt.title('Vacunacion Alemania')\n",
    "plt.xlabel('Fecha ')\n",
    "plt.ylabel('# Vacunados')\n",
    "plt.legend()\n",
    "plt.show()"
   ]
  },
  {
   "cell_type": "markdown",
   "metadata": {
    "papermill": {
     "duration": null,
     "end_time": null,
     "exception": null,
     "start_time": null,
     "status": "completed"
    },
    "tags": []
   },
   "source": [
    "Brasil"
   ]
  },
  {
   "cell_type": "code",
   "execution_count": 50,
   "metadata": {
    "papermill": {
     "duration": null,
     "end_time": null,
     "exception": null,
     "start_time": null,
     "status": "completed"
    },
    "scrolled": true,
    "tags": []
   },
   "outputs": [
    {
     "data": {
      "text/html": [
       "<div>\n",
       "<style scoped>\n",
       "    .dataframe tbody tr th:only-of-type {\n",
       "        vertical-align: middle;\n",
       "    }\n",
       "\n",
       "    .dataframe tbody tr th {\n",
       "        vertical-align: top;\n",
       "    }\n",
       "\n",
       "    .dataframe thead th {\n",
       "        text-align: right;\n",
       "    }\n",
       "</style>\n",
       "<table border=\"1\" class=\"dataframe\">\n",
       "  <thead>\n",
       "    <tr style=\"text-align: right;\">\n",
       "      <th></th>\n",
       "      <th>location</th>\n",
       "      <th>iso_code</th>\n",
       "      <th>date</th>\n",
       "      <th>total_vaccinations</th>\n",
       "      <th>people_vaccinated</th>\n",
       "      <th>people_fully_vaccinated</th>\n",
       "      <th>daily_vaccinations_raw</th>\n",
       "      <th>daily_vaccinations</th>\n",
       "      <th>total_vaccinations_per_hundred</th>\n",
       "      <th>people_vaccinated_per_hundred</th>\n",
       "      <th>people_fully_vaccinated_per_hundred</th>\n",
       "      <th>daily_vaccinations_per_million</th>\n",
       "    </tr>\n",
       "  </thead>\n",
       "  <tbody>\n",
       "    <tr>\n",
       "      <th>0</th>\n",
       "      <td>Brazil</td>\n",
       "      <td>BRA</td>\n",
       "      <td>2021-01-16</td>\n",
       "      <td>0.0</td>\n",
       "      <td>0.0</td>\n",
       "      <td>NaN</td>\n",
       "      <td>NaN</td>\n",
       "      <td>NaN</td>\n",
       "      <td>0.00</td>\n",
       "      <td>0.00</td>\n",
       "      <td>NaN</td>\n",
       "      <td>NaN</td>\n",
       "    </tr>\n",
       "    <tr>\n",
       "      <th>1</th>\n",
       "      <td>Brazil</td>\n",
       "      <td>BRA</td>\n",
       "      <td>2021-01-17</td>\n",
       "      <td>112.0</td>\n",
       "      <td>112.0</td>\n",
       "      <td>NaN</td>\n",
       "      <td>112.0</td>\n",
       "      <td>112.0</td>\n",
       "      <td>0.00</td>\n",
       "      <td>0.00</td>\n",
       "      <td>NaN</td>\n",
       "      <td>1.0</td>\n",
       "    </tr>\n",
       "    <tr>\n",
       "      <th>2</th>\n",
       "      <td>Brazil</td>\n",
       "      <td>BRA</td>\n",
       "      <td>2021-01-18</td>\n",
       "      <td>1109.0</td>\n",
       "      <td>1109.0</td>\n",
       "      <td>NaN</td>\n",
       "      <td>997.0</td>\n",
       "      <td>554.0</td>\n",
       "      <td>0.00</td>\n",
       "      <td>0.00</td>\n",
       "      <td>NaN</td>\n",
       "      <td>3.0</td>\n",
       "    </tr>\n",
       "    <tr>\n",
       "      <th>3</th>\n",
       "      <td>Brazil</td>\n",
       "      <td>BRA</td>\n",
       "      <td>2021-01-19</td>\n",
       "      <td>11470.0</td>\n",
       "      <td>11470.0</td>\n",
       "      <td>NaN</td>\n",
       "      <td>10361.0</td>\n",
       "      <td>3823.0</td>\n",
       "      <td>0.01</td>\n",
       "      <td>0.01</td>\n",
       "      <td>NaN</td>\n",
       "      <td>18.0</td>\n",
       "    </tr>\n",
       "    <tr>\n",
       "      <th>4</th>\n",
       "      <td>Brazil</td>\n",
       "      <td>BRA</td>\n",
       "      <td>2021-01-20</td>\n",
       "      <td>28543.0</td>\n",
       "      <td>28543.0</td>\n",
       "      <td>NaN</td>\n",
       "      <td>17073.0</td>\n",
       "      <td>7136.0</td>\n",
       "      <td>0.01</td>\n",
       "      <td>0.01</td>\n",
       "      <td>NaN</td>\n",
       "      <td>34.0</td>\n",
       "    </tr>\n",
       "  </tbody>\n",
       "</table>\n",
       "</div>"
      ],
      "text/plain": [
       "  location iso_code        date  total_vaccinations  people_vaccinated  \\\n",
       "0   Brazil      BRA  2021-01-16                 0.0                0.0   \n",
       "1   Brazil      BRA  2021-01-17               112.0              112.0   \n",
       "2   Brazil      BRA  2021-01-18              1109.0             1109.0   \n",
       "3   Brazil      BRA  2021-01-19             11470.0            11470.0   \n",
       "4   Brazil      BRA  2021-01-20             28543.0            28543.0   \n",
       "\n",
       "   people_fully_vaccinated  daily_vaccinations_raw  daily_vaccinations  \\\n",
       "0                      NaN                     NaN                 NaN   \n",
       "1                      NaN                   112.0               112.0   \n",
       "2                      NaN                   997.0               554.0   \n",
       "3                      NaN                 10361.0              3823.0   \n",
       "4                      NaN                 17073.0              7136.0   \n",
       "\n",
       "   total_vaccinations_per_hundred  people_vaccinated_per_hundred  \\\n",
       "0                            0.00                           0.00   \n",
       "1                            0.00                           0.00   \n",
       "2                            0.00                           0.00   \n",
       "3                            0.01                           0.01   \n",
       "4                            0.01                           0.01   \n",
       "\n",
       "   people_fully_vaccinated_per_hundred  daily_vaccinations_per_million  \n",
       "0                                  NaN                             NaN  \n",
       "1                                  NaN                             1.0  \n",
       "2                                  NaN                             3.0  \n",
       "3                                  NaN                            18.0  \n",
       "4                                  NaN                            34.0  "
      ]
     },
     "execution_count": 50,
     "metadata": {},
     "output_type": "execute_result"
    }
   ],
   "source": [
    "df_BRA.head()"
   ]
  },
  {
   "cell_type": "code",
   "execution_count": 51,
   "metadata": {
    "papermill": {
     "duration": null,
     "end_time": null,
     "exception": null,
     "start_time": null,
     "status": "completed"
    },
    "tags": []
   },
   "outputs": [
    {
     "data": {
      "text/html": [
       "<div>\n",
       "<style scoped>\n",
       "    .dataframe tbody tr th:only-of-type {\n",
       "        vertical-align: middle;\n",
       "    }\n",
       "\n",
       "    .dataframe tbody tr th {\n",
       "        vertical-align: top;\n",
       "    }\n",
       "\n",
       "    .dataframe thead th {\n",
       "        text-align: right;\n",
       "    }\n",
       "</style>\n",
       "<table border=\"1\" class=\"dataframe\">\n",
       "  <thead>\n",
       "    <tr style=\"text-align: right;\">\n",
       "      <th></th>\n",
       "      <th>date</th>\n",
       "      <th>total_vaccinations</th>\n",
       "    </tr>\n",
       "  </thead>\n",
       "  <tbody>\n",
       "    <tr>\n",
       "      <th>0</th>\n",
       "      <td>2021-01-16</td>\n",
       "      <td>0.0</td>\n",
       "    </tr>\n",
       "    <tr>\n",
       "      <th>1</th>\n",
       "      <td>2021-01-17</td>\n",
       "      <td>112.0</td>\n",
       "    </tr>\n",
       "    <tr>\n",
       "      <th>2</th>\n",
       "      <td>2021-01-18</td>\n",
       "      <td>1109.0</td>\n",
       "    </tr>\n",
       "    <tr>\n",
       "      <th>3</th>\n",
       "      <td>2021-01-19</td>\n",
       "      <td>11470.0</td>\n",
       "    </tr>\n",
       "    <tr>\n",
       "      <th>4</th>\n",
       "      <td>2021-01-20</td>\n",
       "      <td>28543.0</td>\n",
       "    </tr>\n",
       "    <tr>\n",
       "      <th>...</th>\n",
       "      <td>...</td>\n",
       "      <td>...</td>\n",
       "    </tr>\n",
       "    <tr>\n",
       "      <th>110</th>\n",
       "      <td>2021-05-06</td>\n",
       "      <td>46542392.0</td>\n",
       "    </tr>\n",
       "    <tr>\n",
       "      <th>111</th>\n",
       "      <td>2021-05-07</td>\n",
       "      <td>46875460.0</td>\n",
       "    </tr>\n",
       "    <tr>\n",
       "      <th>112</th>\n",
       "      <td>2021-05-08</td>\n",
       "      <td>NaN</td>\n",
       "    </tr>\n",
       "    <tr>\n",
       "      <th>113</th>\n",
       "      <td>2021-05-09</td>\n",
       "      <td>NaN</td>\n",
       "    </tr>\n",
       "    <tr>\n",
       "      <th>114</th>\n",
       "      <td>2021-05-10</td>\n",
       "      <td>47365348.0</td>\n",
       "    </tr>\n",
       "  </tbody>\n",
       "</table>\n",
       "<p>115 rows × 2 columns</p>\n",
       "</div>"
      ],
      "text/plain": [
       "           date  total_vaccinations\n",
       "0    2021-01-16                 0.0\n",
       "1    2021-01-17               112.0\n",
       "2    2021-01-18              1109.0\n",
       "3    2021-01-19             11470.0\n",
       "4    2021-01-20             28543.0\n",
       "..          ...                 ...\n",
       "110  2021-05-06          46542392.0\n",
       "111  2021-05-07          46875460.0\n",
       "112  2021-05-08                 NaN\n",
       "113  2021-05-09                 NaN\n",
       "114  2021-05-10          47365348.0\n",
       "\n",
       "[115 rows x 2 columns]"
      ]
     },
     "execution_count": 51,
     "metadata": {},
     "output_type": "execute_result"
    }
   ],
   "source": [
    "df_BRA_new = df_BRA.loc[:,['date','total_vaccinations']] #Seleccionar la columna correspondiente a la información de Alemania\n",
    "df_BRA_new "
   ]
  },
  {
   "cell_type": "code",
   "execution_count": 52,
   "metadata": {
    "papermill": {
     "duration": null,
     "end_time": null,
     "exception": null,
     "start_time": null,
     "status": "completed"
    },
    "tags": []
   },
   "outputs": [],
   "source": [
    "# Expresar las fechas en numero de dias\n",
    "FMT = '%Y-%m-%d'\n",
    "df_BRA_new['date'] = df_BRA_new['date'].map(lambda x : (datetime.strptime(x, FMT) - datetime.strptime(\"2021-01-16\", FMT)).days)"
   ]
  },
  {
   "cell_type": "code",
   "execution_count": 53,
   "metadata": {
    "papermill": {
     "duration": null,
     "end_time": null,
     "exception": null,
     "start_time": null,
     "status": "completed"
    },
    "tags": []
   },
   "outputs": [
    {
     "data": {
      "text/html": [
       "<div>\n",
       "<style scoped>\n",
       "    .dataframe tbody tr th:only-of-type {\n",
       "        vertical-align: middle;\n",
       "    }\n",
       "\n",
       "    .dataframe tbody tr th {\n",
       "        vertical-align: top;\n",
       "    }\n",
       "\n",
       "    .dataframe thead th {\n",
       "        text-align: right;\n",
       "    }\n",
       "</style>\n",
       "<table border=\"1\" class=\"dataframe\">\n",
       "  <thead>\n",
       "    <tr style=\"text-align: right;\">\n",
       "      <th></th>\n",
       "      <th>date</th>\n",
       "      <th>total_vaccinations</th>\n",
       "    </tr>\n",
       "  </thead>\n",
       "  <tbody>\n",
       "    <tr>\n",
       "      <th>0</th>\n",
       "      <td>0</td>\n",
       "      <td>0.0</td>\n",
       "    </tr>\n",
       "    <tr>\n",
       "      <th>1</th>\n",
       "      <td>1</td>\n",
       "      <td>112.0</td>\n",
       "    </tr>\n",
       "    <tr>\n",
       "      <th>2</th>\n",
       "      <td>2</td>\n",
       "      <td>1109.0</td>\n",
       "    </tr>\n",
       "    <tr>\n",
       "      <th>3</th>\n",
       "      <td>3</td>\n",
       "      <td>11470.0</td>\n",
       "    </tr>\n",
       "    <tr>\n",
       "      <th>4</th>\n",
       "      <td>4</td>\n",
       "      <td>28543.0</td>\n",
       "    </tr>\n",
       "    <tr>\n",
       "      <th>...</th>\n",
       "      <td>...</td>\n",
       "      <td>...</td>\n",
       "    </tr>\n",
       "    <tr>\n",
       "      <th>110</th>\n",
       "      <td>110</td>\n",
       "      <td>46542392.0</td>\n",
       "    </tr>\n",
       "    <tr>\n",
       "      <th>111</th>\n",
       "      <td>111</td>\n",
       "      <td>46875460.0</td>\n",
       "    </tr>\n",
       "    <tr>\n",
       "      <th>112</th>\n",
       "      <td>112</td>\n",
       "      <td>NaN</td>\n",
       "    </tr>\n",
       "    <tr>\n",
       "      <th>113</th>\n",
       "      <td>113</td>\n",
       "      <td>NaN</td>\n",
       "    </tr>\n",
       "    <tr>\n",
       "      <th>114</th>\n",
       "      <td>114</td>\n",
       "      <td>47365348.0</td>\n",
       "    </tr>\n",
       "  </tbody>\n",
       "</table>\n",
       "<p>115 rows × 2 columns</p>\n",
       "</div>"
      ],
      "text/plain": [
       "     date  total_vaccinations\n",
       "0       0                 0.0\n",
       "1       1               112.0\n",
       "2       2              1109.0\n",
       "3       3             11470.0\n",
       "4       4             28543.0\n",
       "..    ...                 ...\n",
       "110   110          46542392.0\n",
       "111   111          46875460.0\n",
       "112   112                 NaN\n",
       "113   113                 NaN\n",
       "114   114          47365348.0\n",
       "\n",
       "[115 rows x 2 columns]"
      ]
     },
     "execution_count": 53,
     "metadata": {},
     "output_type": "execute_result"
    }
   ],
   "source": [
    "df_BRA_new"
   ]
  },
  {
   "cell_type": "code",
   "execution_count": 54,
   "metadata": {
    "papermill": {
     "duration": null,
     "end_time": null,
     "exception": null,
     "start_time": null,
     "status": "completed"
    },
    "tags": []
   },
   "outputs": [],
   "source": [
    "df_BRA_CLEAN = df_BRA_new.fillna(0)"
   ]
  },
  {
   "cell_type": "code",
   "execution_count": 55,
   "metadata": {
    "papermill": {
     "duration": null,
     "end_time": null,
     "exception": null,
     "start_time": null,
     "status": "completed"
    },
    "tags": []
   },
   "outputs": [
    {
     "data": {
      "text/html": [
       "<div>\n",
       "<style scoped>\n",
       "    .dataframe tbody tr th:only-of-type {\n",
       "        vertical-align: middle;\n",
       "    }\n",
       "\n",
       "    .dataframe tbody tr th {\n",
       "        vertical-align: top;\n",
       "    }\n",
       "\n",
       "    .dataframe thead th {\n",
       "        text-align: right;\n",
       "    }\n",
       "</style>\n",
       "<table border=\"1\" class=\"dataframe\">\n",
       "  <thead>\n",
       "    <tr style=\"text-align: right;\">\n",
       "      <th></th>\n",
       "      <th>date</th>\n",
       "      <th>total_vaccinations</th>\n",
       "    </tr>\n",
       "  </thead>\n",
       "  <tbody>\n",
       "    <tr>\n",
       "      <th>0</th>\n",
       "      <td>0</td>\n",
       "      <td>0.0</td>\n",
       "    </tr>\n",
       "    <tr>\n",
       "      <th>1</th>\n",
       "      <td>1</td>\n",
       "      <td>112.0</td>\n",
       "    </tr>\n",
       "    <tr>\n",
       "      <th>2</th>\n",
       "      <td>2</td>\n",
       "      <td>1109.0</td>\n",
       "    </tr>\n",
       "    <tr>\n",
       "      <th>3</th>\n",
       "      <td>3</td>\n",
       "      <td>11470.0</td>\n",
       "    </tr>\n",
       "    <tr>\n",
       "      <th>4</th>\n",
       "      <td>4</td>\n",
       "      <td>28543.0</td>\n",
       "    </tr>\n",
       "    <tr>\n",
       "      <th>...</th>\n",
       "      <td>...</td>\n",
       "      <td>...</td>\n",
       "    </tr>\n",
       "    <tr>\n",
       "      <th>110</th>\n",
       "      <td>110</td>\n",
       "      <td>46542392.0</td>\n",
       "    </tr>\n",
       "    <tr>\n",
       "      <th>111</th>\n",
       "      <td>111</td>\n",
       "      <td>46875460.0</td>\n",
       "    </tr>\n",
       "    <tr>\n",
       "      <th>112</th>\n",
       "      <td>112</td>\n",
       "      <td>0.0</td>\n",
       "    </tr>\n",
       "    <tr>\n",
       "      <th>113</th>\n",
       "      <td>113</td>\n",
       "      <td>0.0</td>\n",
       "    </tr>\n",
       "    <tr>\n",
       "      <th>114</th>\n",
       "      <td>114</td>\n",
       "      <td>47365348.0</td>\n",
       "    </tr>\n",
       "  </tbody>\n",
       "</table>\n",
       "<p>115 rows × 2 columns</p>\n",
       "</div>"
      ],
      "text/plain": [
       "     date  total_vaccinations\n",
       "0       0                 0.0\n",
       "1       1               112.0\n",
       "2       2              1109.0\n",
       "3       3             11470.0\n",
       "4       4             28543.0\n",
       "..    ...                 ...\n",
       "110   110          46542392.0\n",
       "111   111          46875460.0\n",
       "112   112                 0.0\n",
       "113   113                 0.0\n",
       "114   114          47365348.0\n",
       "\n",
       "[115 rows x 2 columns]"
      ]
     },
     "execution_count": 55,
     "metadata": {},
     "output_type": "execute_result"
    }
   ],
   "source": [
    "df_BRA_CLEAN"
   ]
  },
  {
   "cell_type": "code",
   "execution_count": 56,
   "metadata": {
    "papermill": {
     "duration": null,
     "end_time": null,
     "exception": null,
     "start_time": null,
     "status": "completed"
    },
    "tags": []
   },
   "outputs": [
    {
     "data": {
      "text/plain": [
       "RandomForestRegressor(n_estimators=10, random_state=0)"
      ]
     },
     "execution_count": 56,
     "metadata": {},
     "output_type": "execute_result"
    }
   ],
   "source": [
    "#Modelo regresion\n",
    "X_BRA = df_BRA_CLEAN['date'].values.reshape(-1,1)\n",
    "y_BRA = df_BRA_CLEAN['total_vaccinations'].values.reshape(-1,1)\n",
    "reg_BRA = RandomForestRegressor(n_estimators=10, random_state=0)\n",
    "reg_BRA.fit(X_BRA, y_BRA.ravel())"
   ]
  },
  {
   "cell_type": "code",
   "execution_count": 57,
   "metadata": {
    "papermill": {
     "duration": null,
     "end_time": null,
     "exception": null,
     "start_time": null,
     "status": "completed"
    },
    "tags": []
   },
   "outputs": [
    {
     "data": {
      "image/png": "[encoded data removed]",
      "text/plain": [
       "<Figure size 576x504 with 1 Axes>"
      ]
     },
     "metadata": {
      "needs_background": "light"
     },
     "output_type": "display_data"
    }
   ],
   "source": [
    "plt.figure(figsize = (8,7))\n",
    "plt.plot(X_BRA, y_BRA, '-', label ='TOTAL VACUNADOS EN BRASIL', color='pink')\n",
    "plt.title('Vacunacion Brasil')\n",
    "plt.xlabel('Fecha ')\n",
    "plt.ylabel('# Vacunados')\n",
    "plt.legend()\n",
    "plt.show()"
   ]
  },
  {
   "cell_type": "markdown",
   "metadata": {
    "papermill": {
     "duration": null,
     "end_time": null,
     "exception": null,
     "start_time": null,
     "status": "completed"
    },
    "tags": []
   },
   "source": [
    "Como se puede observar en la grafica anterior existen caidas a 0 y esto ocurrio al momento de limpiar el total de vacunas por fechas puesto que habian fechas que no tuvieron vacunas, por lo que se igualo a cero estas fechas"
   ]
  },
  {
   "cell_type": "markdown",
   "metadata": {
    "papermill": {
     "duration": null,
     "end_time": null,
     "exception": null,
     "start_time": null,
     "status": "completed"
    },
    "tags": []
   },
   "source": [
    "Ecuador"
   ]
  },
  {
   "cell_type": "code",
   "execution_count": 58,
   "metadata": {
    "papermill": {
     "duration": null,
     "end_time": null,
     "exception": null,
     "start_time": null,
     "status": "completed"
    },
    "tags": []
   },
   "outputs": [
    {
     "data": {
      "text/html": [
       "<div>\n",
       "<style scoped>\n",
       "    .dataframe tbody tr th:only-of-type {\n",
       "        vertical-align: middle;\n",
       "    }\n",
       "\n",
       "    .dataframe tbody tr th {\n",
       "        vertical-align: top;\n",
       "    }\n",
       "\n",
       "    .dataframe thead th {\n",
       "        text-align: right;\n",
       "    }\n",
       "</style>\n",
       "<table border=\"1\" class=\"dataframe\">\n",
       "  <thead>\n",
       "    <tr style=\"text-align: right;\">\n",
       "      <th></th>\n",
       "      <th>fecha</th>\n",
       "      <th>dosis_total</th>\n",
       "      <th>primera_dosis</th>\n",
       "      <th>segunda_dosis</th>\n",
       "    </tr>\n",
       "  </thead>\n",
       "  <tbody>\n",
       "    <tr>\n",
       "      <th>0</th>\n",
       "      <td>21/01/2021</td>\n",
       "      <td>0</td>\n",
       "      <td>0</td>\n",
       "      <td>0</td>\n",
       "    </tr>\n",
       "    <tr>\n",
       "      <th>1</th>\n",
       "      <td>22/01/2021</td>\n",
       "      <td>108</td>\n",
       "      <td>108</td>\n",
       "      <td>0</td>\n",
       "    </tr>\n",
       "    <tr>\n",
       "      <th>2</th>\n",
       "      <td>27/01/2021</td>\n",
       "      <td>2982</td>\n",
       "      <td>2982</td>\n",
       "      <td>0</td>\n",
       "    </tr>\n",
       "  </tbody>\n",
       "</table>\n",
       "</div>"
      ],
      "text/plain": [
       "        fecha  dosis_total  primera_dosis  segunda_dosis\n",
       "0  21/01/2021            0              0              0\n",
       "1  22/01/2021          108            108              0\n",
       "2  27/01/2021         2982           2982              0"
      ]
     },
     "execution_count": 58,
     "metadata": {},
     "output_type": "execute_result"
    }
   ],
   "source": [
    "df_ECU.head(3)"
   ]
  },
  {
   "cell_type": "code",
   "execution_count": 59,
   "metadata": {
    "papermill": {
     "duration": null,
     "end_time": null,
     "exception": null,
     "start_time": null,
     "status": "completed"
    },
    "tags": []
   },
   "outputs": [],
   "source": [
    "# Expresar las fechas en numero de dias\n",
    "FMT = '%d/%m/%Y'\n",
    "df_ECU['fecha'] = df_ECU['fecha'].map(lambda x : (datetime.strptime(x, FMT) - datetime.strptime(\"21/01/2021\", FMT)).days)"
   ]
  },
  {
   "cell_type": "code",
   "execution_count": 60,
   "metadata": {
    "papermill": {
     "duration": null,
     "end_time": null,
     "exception": null,
     "start_time": null,
     "status": "completed"
    },
    "tags": []
   },
   "outputs": [
    {
     "data": {
      "text/plain": [
       "RandomForestRegressor(n_estimators=10, random_state=0)"
      ]
     },
     "execution_count": 60,
     "metadata": {},
     "output_type": "execute_result"
    }
   ],
   "source": [
    "#Modelo regresion\n",
    "X_ECU = df_ECU['fecha'].values.reshape(-1,1)\n",
    "y_ECU = df_ECU['dosis_total'].values.reshape(-1,1)\n",
    "reg_ECU = RandomForestRegressor(n_estimators=10, random_state=0)\n",
    "reg_ECU.fit(X_ECU, y_ECU.ravel())"
   ]
  },
  {
   "cell_type": "code",
   "execution_count": 61,
   "metadata": {
    "papermill": {
     "duration": null,
     "end_time": null,
     "exception": null,
     "start_time": null,
     "status": "completed"
    },
    "tags": []
   },
   "outputs": [
    {
     "data": {
      "image/png": "[encoded data removed]",
      "text/plain": [
       "<Figure size 576x504 with 1 Axes>"
      ]
     },
     "metadata": {
      "needs_background": "light"
     },
     "output_type": "display_data"
    }
   ],
   "source": [
    "plt.figure(figsize = (8,7))\n",
    "plt.plot(X_ECU, y_ECU, '-', label ='TOTAL VACUNADOS EN ECUADOR', color='blue')\n",
    "plt.title('Vacunacion Brasil')\n",
    "plt.xlabel('Fecha ')\n",
    "plt.ylabel('# Vacunados')\n",
    "plt.legend()\n",
    "plt.show()"
   ]
  },
  {
   "cell_type": "markdown",
   "metadata": {
    "papermill": {
     "duration": null,
     "end_time": null,
     "exception": null,
     "start_time": null,
     "status": "completed"
    },
    "tags": []
   },
   "source": [
    "Ecuador vs Brasil vs Alemania"
   ]
  },
  {
   "cell_type": "code",
   "execution_count": 62,
   "metadata": {
    "papermill": {
     "duration": null,
     "end_time": null,
     "exception": null,
     "start_time": null,
     "status": "completed"
    },
    "tags": []
   },
   "outputs": [
    {
     "data": {
      "image/png": "[encoded data removed]",
      "text/plain": [
       "<Figure size 1008x504 with 1 Axes>"
      ]
     },
     "metadata": {
      "needs_background": "light"
     },
     "output_type": "display_data"
    }
   ],
   "source": [
    "plt.figure(figsize = (14,7))\n",
    "plt.plot(X_BRA, reg_BRA.predict(X_BRA),  '-', label = 'Brasil', color='green')\n",
    "plt.plot(X_ECU, reg_ECU.predict(X_ECU),  '-', label = 'Ecuador', color='blue')\n",
    "plt.plot(X_DEU, reg_DEU.predict(X_DEU),  '-', label = 'Alemania', color='black')\n",
    "plt.title('Ecuador vs otros paises')\n",
    "plt.xlabel('Fecha en días')\n",
    "plt.ylabel('Vacunadas')\n",
    "plt.legend()\n",
    "plt.show()"
   ]
  },
  {
   "cell_type": "code",
   "execution_count": null,
   "metadata": {
    "papermill": {
     "duration": null,
     "end_time": null,
     "exception": null,
     "start_time": null,
     "status": "completed"
    },
    "tags": []
   },
   "outputs": [],
   "source": []
  }
 ],
 "metadata": {
  "kernelspec": {
   "display_name": "Python 3",
   "language": "python",
   "name": "python3"
  },
  "language_info": {
   "codemirror_mode": {
    "name": "ipython",
    "version": 3
   },
   "file_extension": ".py",
   "mimetype": "text/x-python",
   "name": "python",
   "nbconvert_exporter": "python",
   "pygments_lexer": "ipython3",
   "version": "3.8.5"
  },
  "papermill": {
   "default_parameters": {},
   "duration": 0.084794,
   "end_time": "2021-05-13T02:58:03.692952",
   "environment_variables": {},
   "exception": null,
   "input_path": "./Prueba1.ipynb",
   "output_path": "./out/output-prueba1.ipynb",
   "parameters": {
    "end_date": "2021-04-11",
    "first_date": "2021-02-11"
   },
   "start_time": "2021-05-13T02:58:03.608158",
   "version": "2.3.3"
  }
 },
 "nbformat": 4,
 "nbformat_minor": 5
}
