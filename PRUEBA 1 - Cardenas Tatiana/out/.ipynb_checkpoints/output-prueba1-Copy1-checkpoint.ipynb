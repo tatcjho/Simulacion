{
 "cells": [
  {
   "cell_type": "code",
   "execution_count": null,
   "id": "d3f9e84e",
   "metadata": {
    "papermill": {
     "duration": null,
     "end_time": null,
     "exception": null,
     "start_time": null,
     "status": "completed"
    },
    "tags": [
     "injected-parameters"
    ]
   },
   "outputs": [],
   "source": [
    "# Parameters\n",
    "first_date = \"2021-02-11\"\n",
    "end_date = \"2021-04-11\"\n"
   ]
  },
  {
   "cell_type": "markdown",
   "id": "9db7cc4c",
   "metadata": {
    "papermill": {
     "duration": null,
     "end_time": null,
     "exception": null,
     "start_time": null,
     "status": "completed"
    },
    "tags": []
   },
   "source": [
    "# Prueba interciclo #1\n",
    "Realizado por: Tatiana Cárdenas Jho"
   ]
  },
  {
   "cell_type": "code",
   "execution_count": null,
   "id": "11e1bb82",
   "metadata": {
    "papermill": {
     "duration": null,
     "end_time": null,
     "exception": null,
     "start_time": null,
     "status": "completed"
    },
    "tags": []
   },
   "outputs": [],
   "source": [
    "# Parameters\n",
    "first_date = \"2021-03-10\"\n",
    "end_date = \"2021-05-17\""
   ]
  },
  {
   "cell_type": "code",
   "execution_count": null,
   "id": "41fb7b81",
   "metadata": {
    "papermill": {
     "duration": null,
     "end_time": null,
     "exception": null,
     "start_time": null,
     "status": "completed"
    },
    "tags": []
   },
   "outputs": [],
   "source": [
    "#Problema:\n",
    "#Diseñe y desarrolle un modelo y/o script que permita simular el siguiente caso real expuesto en el documento del docente.\n",
    "\n",
    "#Importación de librerías\n",
    "import matplotlib.pyplot as plt\n",
    "import numpy as np\n",
    "import pandas as pd\n",
    "from datetime import datetime,timedelta\n",
    "import datetime as dt\n",
    "from sklearn.linear_model import LinearRegression\n",
    "from sklearn.pipeline import Pipeline\n",
    "from datetime import datetime, timedelta\n",
    "from sklearn.model_selection import train_test_split\n",
    "import time\n",
    "from sklearn.ensemble import RandomForestRegressor\n",
    "from sklearn.model_selection import train_test_split \n",
    "print('Importadas')"
   ]
  },
  {
   "cell_type": "code",
   "execution_count": null,
   "id": "4dfe2ff7",
   "metadata": {
    "papermill": {
     "duration": null,
     "end_time": null,
     "exception": null,
     "start_time": null,
     "status": "completed"
    },
    "tags": []
   },
   "outputs": [],
   "source": [
    "#Carga de datos\n",
    "\n",
    "#Vacunas\n",
    "df=pd.read_csv('in/vacunas.csv', sep = ',') \n",
    "print('Importadas csv vacunas')\n",
    "\n",
    "#Fabricantes\n",
    "df_prov=pd.read_csv('in/fabricantes.csv')\n",
    "print('Importadas csv fabricantes', sep = ',')"
   ]
  },
  {
   "cell_type": "code",
   "execution_count": null,
   "id": "eb0793fa",
   "metadata": {
    "papermill": {
     "duration": null,
     "end_time": null,
     "exception": null,
     "start_time": null,
     "status": "completed"
    },
    "tags": []
   },
   "outputs": [],
   "source": [
    "#Info y keys de CSV-Vacunas\n",
    "df.info()\n",
    "df.keys()"
   ]
  },
  {
   "cell_type": "code",
   "execution_count": null,
   "id": "1a74e707",
   "metadata": {
    "papermill": {
     "duration": null,
     "end_time": null,
     "exception": null,
     "start_time": null,
     "status": "completed"
    },
    "tags": []
   },
   "outputs": [],
   "source": [
    "#Info y keys de CSV-Fabricante\n",
    "df_prov.info()\n",
    "df_prov.keys()"
   ]
  },
  {
   "cell_type": "code",
   "execution_count": null,
   "id": "c5292136",
   "metadata": {
    "papermill": {
     "duration": null,
     "end_time": null,
     "exception": null,
     "start_time": null,
     "status": "completed"
    },
    "tags": []
   },
   "outputs": [],
   "source": [
    "df.head()"
   ]
  },
  {
   "cell_type": "code",
   "execution_count": null,
   "id": "a619cf3c",
   "metadata": {
    "papermill": {
     "duration": null,
     "end_time": null,
     "exception": null,
     "start_time": null,
     "status": "completed"
    },
    "tags": []
   },
   "outputs": [],
   "source": [
    "# Expresar las fechas en numero de dias\n",
    "#Transformacion formato fecha-Vacunas\n",
    "#df['fecha'] = pd.to_datetime(df['fecha'],format='%d/%m/%Y')\n",
    "\n",
    "#FMT = '%d/%m/%Y'\n",
    "#df['fecha'] = df['fecha'].map(lambda x : (datetime.strptime(x, FMT) - datetime.strptime(\"01/01/2021\", FMT)).days)dfab['arrived_at'] =  pd.to_datetime(dfab['arrived_at'], infer_datetime_format=True)\n",
    "\n",
    "df['fecha'] =  pd.to_datetime(df['fecha'], infer_datetime_format=True)\n"
   ]
  },
  {
   "cell_type": "code",
   "execution_count": null,
   "id": "ddfbcb84",
   "metadata": {
    "papermill": {
     "duration": null,
     "end_time": null,
     "exception": null,
     "start_time": null,
     "status": "completed"
    },
    "tags": []
   },
   "outputs": [],
   "source": [
    "#Cabecera csv vacuna con la transformacion de fecha\n",
    "df.head()"
   ]
  },
  {
   "cell_type": "code",
   "execution_count": null,
   "id": "b72b2f28",
   "metadata": {
    "papermill": {
     "duration": null,
     "end_time": null,
     "exception": null,
     "start_time": null,
     "status": "completed"
    },
    "scrolled": true,
    "tags": []
   },
   "outputs": [],
   "source": [
    "#Cabecera csv fabricante con la transformacion de fecha\n",
    "df_prov.head()\n"
   ]
  },
  {
   "cell_type": "code",
   "execution_count": null,
   "id": "df85478c",
   "metadata": {
    "papermill": {
     "duration": null,
     "end_time": null,
     "exception": null,
     "start_time": null,
     "status": "completed"
    },
    "tags": []
   },
   "outputs": [],
   "source": [
    "df_prov['arrived_at'] =  pd.to_datetime(df_prov['arrived_at'], infer_datetime_format=True)\n",
    "df_prov"
   ]
  },
  {
   "cell_type": "markdown",
   "id": "bca508b9",
   "metadata": {
    "papermill": {
     "duration": null,
     "end_time": null,
     "exception": null,
     "start_time": null,
     "status": "completed"
    },
    "tags": []
   },
   "source": [
    "# Generar gráficas:"
   ]
  },
  {
   "cell_type": "markdown",
   "id": "6370c217",
   "metadata": {
    "papermill": {
     "duration": null,
     "end_time": null,
     "exception": null,
     "start_time": null,
     "status": "completed"
    },
    "tags": []
   },
   "source": [
    "1. Personas vacunadas en Ecuador:"
   ]
  },
  {
   "cell_type": "code",
   "execution_count": null,
   "id": "52c5fb25",
   "metadata": {
    "papermill": {
     "duration": null,
     "end_time": null,
     "exception": null,
     "start_time": null,
     "status": "completed"
    },
    "tags": []
   },
   "outputs": [],
   "source": [
    "df.head()"
   ]
  },
  {
   "cell_type": "code",
   "execution_count": null,
   "id": "d8d9ac6e",
   "metadata": {
    "papermill": {
     "duration": null,
     "end_time": null,
     "exception": null,
     "start_time": null,
     "status": "completed"
    },
    "tags": []
   },
   "outputs": [],
   "source": [
    "fig = plt.figure(figsize=(15,8))\n",
    "plt.title('Total de vacunados Ecuador - COVID 19')\n",
    "plt.plot(df['fecha'],df['dosis_total'], label='Vacunas COVID Ecuador', color='green',)\n",
    "plt.xlabel('Fecha en días')\n",
    "plt.ylabel('Total de vacunados')\n"
   ]
  },
  {
   "cell_type": "markdown",
   "id": "28d6961d",
   "metadata": {
    "papermill": {
     "duration": null,
     "end_time": null,
     "exception": null,
     "start_time": null,
     "status": "completed"
    },
    "tags": []
   },
   "source": [
    "A continuación se realizará la gráfica de acuerdo a los datos ingresados en cuanto a fecha de inicio y fecha final tanto para la primera dosis como la segunda dosis"
   ]
  },
  {
   "cell_type": "code",
   "execution_count": null,
   "id": "1d7352a5",
   "metadata": {
    "papermill": {
     "duration": null,
     "end_time": null,
     "exception": null,
     "start_time": null,
     "status": "completed"
    },
    "tags": []
   },
   "outputs": [],
   "source": [
    "df=df.loc[(df['fecha'] >= first_date) & (df['fecha'] <= end_date)]\n",
    "date = df['fecha'].tolist()\n",
    "total=df['dosis_total'].tolist()"
   ]
  },
  {
   "cell_type": "code",
   "execution_count": null,
   "id": "0208014e",
   "metadata": {
    "papermill": {
     "duration": null,
     "end_time": null,
     "exception": null,
     "start_time": null,
     "status": "completed"
    },
    "tags": []
   },
   "outputs": [],
   "source": []
  },
  {
   "cell_type": "code",
   "execution_count": null,
   "id": "793b7a1a",
   "metadata": {
    "papermill": {
     "duration": null,
     "end_time": null,
     "exception": null,
     "start_time": null,
     "status": "completed"
    },
    "tags": []
   },
   "outputs": [],
   "source": [
    "fig = plt.figure(figsize=(15,8))\n",
    "plt.title('Total de vacunados Ecuador - COVID 19')\n",
    "plt.plot(date,total, label='Vacunas COVID Ecuador', color='orange')\n",
    "plt.xlabel('Fecha')\n",
    "plt.ylabel('Total de vacunados')"
   ]
  },
  {
   "cell_type": "markdown",
   "id": "1589a310",
   "metadata": {
    "papermill": {
     "duration": null,
     "end_time": null,
     "exception": null,
     "start_time": null,
     "status": "completed"
    },
    "tags": []
   },
   "source": [
    "2. Fabricante de la vacuna"
   ]
  },
  {
   "cell_type": "code",
   "execution_count": null,
   "id": "a99fe4e8",
   "metadata": {
    "papermill": {
     "duration": null,
     "end_time": null,
     "exception": null,
     "start_time": null,
     "status": "completed"
    },
    "tags": []
   },
   "outputs": [],
   "source": [
    "df_prov_ = df_prov\n",
    "df_perc = df_prov_.groupby(['vaccine'])[['total']].sum()\n",
    "df_perc['%']=(df_perc['total']/df_perc['total'].sum())*100\n",
    "\n",
    "#Readondear el porcentaje obtenido\n",
    "df_perc_r = round(df_perc)\n",
    "print(df_perc_r.shape)"
   ]
  },
  {
   "cell_type": "code",
   "execution_count": null,
   "id": "5aa89815",
   "metadata": {
    "papermill": {
     "duration": null,
     "end_time": null,
     "exception": null,
     "start_time": null,
     "status": "completed"
    },
    "tags": []
   },
   "outputs": [],
   "source": [
    "#Total de vacunas por fabricante\n",
    "df_perc_r"
   ]
  },
  {
   "cell_type": "code",
   "execution_count": null,
   "id": "ee1409c7",
   "metadata": {
    "papermill": {
     "duration": null,
     "end_time": null,
     "exception": null,
     "start_time": null,
     "status": "completed"
    },
    "tags": []
   },
   "outputs": [],
   "source": [
    "df_prov_ = df_prov\n",
    "df_perc = df_prov_.groupby(['vaccine'])[['total']].sum()\n",
    "df_perc['%']=(df_perc['total']/df_perc['total'].sum())*100\n",
    "\n",
    "#Readondear el porcentaje obtenido\n",
    "df_perc_r = round(df_perc)\n",
    "print(df_perc_r.shape)"
   ]
  },
  {
   "cell_type": "code",
   "execution_count": null,
   "id": "92edac59",
   "metadata": {
    "papermill": {
     "duration": null,
     "end_time": null,
     "exception": null,
     "start_time": null,
     "status": "completed"
    },
    "tags": []
   },
   "outputs": [],
   "source": [
    "#Grafica total de vacunas por fabricante\n",
    "fig = plt.figure(figsize=(15,8))\n",
    "plt.title(\"Total de vacunas por fabricante\")\n",
    "graph = df_perc_r['%'].head()\n",
    "graph.plot.pie()"
   ]
  },
  {
   "cell_type": "markdown",
   "id": "17f039e3",
   "metadata": {
    "papermill": {
     "duration": null,
     "end_time": null,
     "exception": null,
     "start_time": null,
     "status": "completed"
    },
    "tags": []
   },
   "source": [
    "A continuación se realizará la gráfica de acuerdo a la cantidad de fabricantes de vacunas de manera parametrizada:"
   ]
  },
  {
   "cell_type": "code",
   "execution_count": null,
   "id": "47eb719d",
   "metadata": {
    "papermill": {
     "duration": null,
     "end_time": null,
     "exception": null,
     "start_time": null,
     "status": "completed"
    },
    "tags": []
   },
   "outputs": [],
   "source": [
    "df_prov_pie = df_prov\n",
    "df_prov_pie=df_prov_pie.loc[(df_prov_pie['arrived_at'] >= first_date) & (df_prov_pie['arrived_at'] <= end_date)]\n",
    "df_prov_pie = df_prov_pie.groupby(('vaccine')).total.sum()"
   ]
  },
  {
   "cell_type": "code",
   "execution_count": null,
   "id": "64f989c2",
   "metadata": {
    "papermill": {
     "duration": null,
     "end_time": null,
     "exception": null,
     "start_time": null,
     "status": "completed"
    },
    "tags": []
   },
   "outputs": [],
   "source": [
    "#Grafica total de vacunas por fabricante parametrizado\n",
    "fig = plt.figure(figsize=(15,8))\n",
    "plt.title(\"Total de vacunas por fabricante\")\n",
    "graph = df_prov_p\n",
    "graph.plot.pie()"
   ]
  },
  {
   "cell_type": "markdown",
   "id": "daf552cc",
   "metadata": {
    "papermill": {
     "duration": null,
     "end_time": null,
     "exception": null,
     "start_time": null,
     "status": "completed"
    },
    "tags": []
   },
   "source": [
    "Vacunas por mes de llegada y fabricante"
   ]
  },
  {
   "cell_type": "code",
   "execution_count": null,
   "id": "9597f34d",
   "metadata": {
    "papermill": {
     "duration": null,
     "end_time": null,
     "exception": null,
     "start_time": null,
     "status": "completed"
    },
    "tags": []
   },
   "outputs": [],
   "source": [
    "#Cantidad de vacunas por fabricante que llegaron al Ecuador cada mes\n",
    "\n",
    "#Realizamos una copia del dataframe del fabricante\n",
    "df_prov_hist = df_prov\n",
    "df_prov_hist=df_prov_hist.loc[(df_prov_hist['arrived_at'] >= first_date) & (df_prov_hist['arrived_at'] <= end_date)]\n",
    "df_prov_hist_graph = df_prov_hist.groupby(['vaccine','arrived_at'],as_index=False)[['total']].sum()\n",
    "df_prov_hist_graph"
   ]
  },
  {
   "cell_type": "code",
   "execution_count": null,
   "id": "093efe37",
   "metadata": {
    "papermill": {
     "duration": null,
     "end_time": null,
     "exception": null,
     "start_time": null,
     "status": "completed"
    },
    "tags": []
   },
   "outputs": [],
   "source": [
    "#Grafica total de vacunas por fecha\n",
    "date = df_prov_hist['arrived_at'].tolist()\n",
    "vaccine=df_prov_hist_graph['total'].tolist()\n",
    "fig = plt.figure(figsize=(8,8))\n",
    "plt.title('Histograma de cantidad de vacunas por fecha')\n",
    "plt.bar(date, vaccine)\n",
    "plt.xlabel('Fecha')\n",
    "plt.xticks(rotation=90)\n",
    "plt.ylabel('Total de vacunas')"
   ]
  },
  {
   "cell_type": "code",
   "execution_count": null,
   "id": "54b54713",
   "metadata": {
    "papermill": {
     "duration": null,
     "end_time": null,
     "exception": null,
     "start_time": null,
     "status": "completed"
    },
    "tags": []
   },
   "outputs": [],
   "source": [
    "#Cantidad de vacunas por la fabrica de Sinovac\n",
    "df_prov_s=df_prov_hist_graph.loc[(df_prov_hist_graph['vaccine'] == 'Sinovac')]\n",
    "date = df_prov_s['arrived_at'].tolist()\n",
    "vaccine=df_prov_s['total'].tolist()\n",
    "fig = plt.figure(figsize=(8,8))\n",
    "plt.title('Histograma de cantidad de vacunas por fecha')\n",
    "plt.bar(date, vaccine)\n",
    "plt.xlabel('Fecha')\n",
    "plt.xticks(rotation=90)\n",
    "plt.ylabel('Total de vacunas')"
   ]
  },
  {
   "cell_type": "code",
   "execution_count": null,
   "id": "27312000",
   "metadata": {
    "papermill": {
     "duration": null,
     "end_time": null,
     "exception": null,
     "start_time": null,
     "status": "completed"
    },
    "tags": []
   },
   "outputs": [],
   "source": [
    "#Cantidad de vacunas por la fabrica de Pfizer\n",
    "df_prov_p=df_prov_hist_graph.loc[(df_prov_hist_graph['vaccine'] == 'Pfizer/BioNTech')]\n",
    "date = df_prov_p['arrived_at'].tolist()\n",
    "vaccine=df_prov_p['total'].tolist()\n",
    "fig = plt.figure(figsize=(8,8))\n",
    "plt.title('Histograma de cantidad de vacunas por fecha')\n",
    "plt.bar(date, vaccine)\n",
    "plt.xlabel('Fecha')\n",
    "plt.xticks(rotation=90)\n",
    "plt.ylabel('Total de vacunas')"
   ]
  },
  {
   "cell_type": "code",
   "execution_count": null,
   "id": "8afadbe1",
   "metadata": {
    "papermill": {
     "duration": null,
     "end_time": null,
     "exception": null,
     "start_time": null,
     "status": "completed"
    },
    "tags": []
   },
   "outputs": [],
   "source": [
    "#Cantidad de vacunas por la fabrica de Astrazeneca\n",
    "df_prov_o=df_prov_hist_graph.loc[(df_prov_hist_graph['vaccine'] == 'Oxford/AstraZeneca')]\n",
    "date = df_prov_o['arrived_at'].tolist()\n",
    "vaccine=df_prov_o['total'].tolist()\n",
    "fig = plt.figure(figsize=(8,8))\n",
    "plt.title('Histograma de cantidad de vacunas por fecha')\n",
    "plt.bar(date, vaccine)\n",
    "plt.xlabel('Fecha')\n",
    "plt.xticks(rotation=90)\n",
    "plt.ylabel('Total de vacunas')"
   ]
  },
  {
   "cell_type": "markdown",
   "id": "0b119bbf",
   "metadata": {
    "papermill": {
     "duration": null,
     "end_time": null,
     "exception": null,
     "start_time": null,
     "status": "completed"
    },
    "tags": []
   },
   "source": [
    "# Modelo de predicción por regresión"
   ]
  },
  {
   "cell_type": "markdown",
   "id": "f0ce7ddd",
   "metadata": {
    "papermill": {
     "duration": null,
     "end_time": null,
     "exception": null,
     "start_time": null,
     "status": "completed"
    },
    "tags": []
   },
   "source": [
    "Primera dosis:"
   ]
  },
  {
   "cell_type": "code",
   "execution_count": null,
   "id": "c2d0b08e",
   "metadata": {
    "papermill": {
     "duration": null,
     "end_time": null,
     "exception": null,
     "start_time": null,
     "status": "completed"
    },
    "tags": []
   },
   "outputs": [],
   "source": [
    "#Variables\n",
    "totaldate = df['fecha'].values.reshape(-1,1)\n",
    "primera_dosis = df['primera_dosis'].values.reshape(-1,1)"
   ]
  },
  {
   "cell_type": "code",
   "execution_count": null,
   "id": "41e3110b",
   "metadata": {
    "papermill": {
     "duration": null,
     "end_time": null,
     "exception": null,
     "start_time": null,
     "status": "completed"
    },
    "tags": []
   },
   "outputs": [],
   "source": [
    "#Split de datos\n",
    "X_train, X_test, y_train, y_test = train_test_split(totaldate, primera_dosis, test_size=0.2, random_state=42) "
   ]
  },
  {
   "cell_type": "code",
   "execution_count": null,
   "id": "5f8b09f8",
   "metadata": {
    "papermill": {
     "duration": null,
     "end_time": null,
     "exception": null,
     "start_time": null,
     "status": "completed"
    },
    "tags": []
   },
   "outputs": [],
   "source": [
    "#Entrenamiento\n",
    "linear_regressor = LinearRegression()  \n",
    "linear_regressor.fit(X_train, y_train) "
   ]
  },
  {
   "cell_type": "code",
   "execution_count": null,
   "id": "e25fb457",
   "metadata": {
    "papermill": {
     "duration": null,
     "end_time": null,
     "exception": null,
     "start_time": null,
     "status": "completed"
    },
    "tags": []
   },
   "outputs": [],
   "source": [
    "print('Pentiende:', linear_regressor.coef_)\n",
    "print('Intersección\":',  linear_regressor.intercept_)"
   ]
  },
  {
   "cell_type": "code",
   "execution_count": null,
   "id": "8a1f9fb6",
   "metadata": {
    "papermill": {
     "duration": null,
     "end_time": null,
     "exception": null,
     "start_time": null,
     "status": "completed"
    },
    "tags": []
   },
   "outputs": [],
   "source": [
    "#prediccion1_dosis = linear_regressor.predict(X_test)"
   ]
  },
  {
   "cell_type": "code",
   "execution_count": null,
   "id": "84a03188",
   "metadata": {
    "papermill": {
     "duration": null,
     "end_time": null,
     "exception": null,
     "start_time": null,
     "status": "completed"
    },
    "tags": []
   },
   "outputs": [],
   "source": [
    "#PRUEBA 1\n",
    "\n",
    "m = linear_regressor.coef_[0][0]\n",
    "c = linear_regressor.intercept_[0]\n",
    "#Prediccion de x dias desde la fecha inicial del Dataset 2020-03-01\n",
    "dias=700\n",
    "label1 = m*dias-c\n",
    "print(\"Numero de casos a los \",dias,\" de la fecha inicial del dataset, se obtiene una prediccion de : \",label1)"
   ]
  },
  {
   "cell_type": "code",
   "execution_count": null,
   "id": "1d89733d",
   "metadata": {
    "papermill": {
     "duration": null,
     "end_time": null,
     "exception": null,
     "start_time": null,
     "status": "completed"
    },
    "tags": []
   },
   "outputs": [],
   "source": [
    "#PRUEBA 2\n",
    "\n",
    "m = linear_regressor.coef_[0][0]\n",
    "c = linear_regressor.intercept_[0]\n",
    "#Prediccion de x dias desde la fecha inicial del Dataset 2020-03-01\n",
    "dias=750\n",
    "label2 = m*dias-c\n",
    "print(\"Numero de casos a los \",dias,\" de la fecha inicial del dataset, se obtiene una prediccion de : \",label2)"
   ]
  },
  {
   "cell_type": "code",
   "execution_count": null,
   "id": "a5ce5449",
   "metadata": {
    "papermill": {
     "duration": null,
     "end_time": null,
     "exception": null,
     "start_time": null,
     "status": "completed"
    },
    "tags": []
   },
   "outputs": [],
   "source": [
    "#PRUEBA 3\n",
    "\n",
    "m = linear_regressor.coef_[0][0]\n",
    "c = linear_regressor.intercept_[0]\n",
    "#Prediccion de x dias desde la fecha inicial del Dataset 2020-03-01\n",
    "dias=800\n",
    "label3 = m*dias-c\n",
    "print(\"Numero de casos a los \",dias,\" de la fecha inicial del dataset, se obtiene una prediccion de : \",label3)"
   ]
  },
  {
   "cell_type": "markdown",
   "id": "cc640f21",
   "metadata": {
    "papermill": {
     "duration": null,
     "end_time": null,
     "exception": null,
     "start_time": null,
     "status": "completed"
    },
    "tags": []
   },
   "source": [
    "Segunda dosis:"
   ]
  },
  {
   "cell_type": "code",
   "execution_count": null,
   "id": "968a26df",
   "metadata": {
    "papermill": {
     "duration": null,
     "end_time": null,
     "exception": null,
     "start_time": null,
     "status": "completed"
    },
    "tags": []
   },
   "outputs": [],
   "source": [
    "#Variables\n",
    "totaldate = df['fecha'].values.reshape(-1,1)\n",
    "segunda_dosis = df['segunda_dosis'].values.reshape(-1,1)"
   ]
  },
  {
   "cell_type": "code",
   "execution_count": null,
   "id": "66d0b198",
   "metadata": {
    "papermill": {
     "duration": null,
     "end_time": null,
     "exception": null,
     "start_time": null,
     "status": "completed"
    },
    "tags": []
   },
   "outputs": [],
   "source": [
    "#Split de datos\n",
    "X_train2, X_test2, y_train2, y_test2 = train_test_split(totaldate, segunda_dosis, test_size=0.2, random_state=42)"
   ]
  },
  {
   "cell_type": "code",
   "execution_count": null,
   "id": "e29e531a",
   "metadata": {
    "papermill": {
     "duration": null,
     "end_time": null,
     "exception": null,
     "start_time": null,
     "status": "completed"
    },
    "tags": []
   },
   "outputs": [],
   "source": [
    "#Entrenamiento\n",
    "linear_regressor2 = LinearRegression()  \n",
    "linear_regressor2.fit(X_train2, y_train2)"
   ]
  },
  {
   "cell_type": "code",
   "execution_count": null,
   "id": "9f8eade4",
   "metadata": {
    "papermill": {
     "duration": null,
     "end_time": null,
     "exception": null,
     "start_time": null,
     "status": "completed"
    },
    "tags": []
   },
   "outputs": [],
   "source": [
    "print('Pentiende:', linear_regressor2.coef_)\n",
    "print('Intersección\":',  linear_regressor2.intercept_)"
   ]
  },
  {
   "cell_type": "code",
   "execution_count": null,
   "id": "a19a3fe9",
   "metadata": {
    "papermill": {
     "duration": null,
     "end_time": null,
     "exception": null,
     "start_time": null,
     "status": "completed"
    },
    "tags": []
   },
   "outputs": [],
   "source": [
    "#prediccion2_dosis = linear_regressor2.predict(X_test2)"
   ]
  },
  {
   "cell_type": "code",
   "execution_count": null,
   "id": "84306ca8",
   "metadata": {
    "papermill": {
     "duration": null,
     "end_time": null,
     "exception": null,
     "start_time": null,
     "status": "completed"
    },
    "tags": []
   },
   "outputs": [],
   "source": [
    "#PRUEBA 1\n",
    "\n",
    "m = linear_regressor2.coef_[0][0]\n",
    "c = linear_regressor2.intercept_[0]\n",
    "#Prediccion de x dias desde la fecha inicial del Dataset 2020-03-01\n",
    "dias=700\n",
    "label1 = m*dias-c\n",
    "print(\"Numero de casos a los \",dias,\" de la fecha inicial del dataset, se obtiene una prediccion de : \",label1)"
   ]
  },
  {
   "cell_type": "code",
   "execution_count": null,
   "id": "0bfee5fc",
   "metadata": {
    "papermill": {
     "duration": null,
     "end_time": null,
     "exception": null,
     "start_time": null,
     "status": "completed"
    },
    "tags": []
   },
   "outputs": [],
   "source": [
    "#PRUEBA 2\n",
    "\n",
    "m = linear_regressor2.coef_[0][0]\n",
    "c = linear_regressor2.intercept_[0]\n",
    "#Prediccion de x dias desde la fecha inicial del Dataset 2020-03-01\n",
    "dias=750\n",
    "label2 = m*dias-c\n",
    "print(\"Numero de casos a los \",dias,\" de la fecha inicial del dataset, se obtiene una prediccion de : \",label2)"
   ]
  },
  {
   "cell_type": "code",
   "execution_count": null,
   "id": "a89ce1cf",
   "metadata": {
    "papermill": {
     "duration": null,
     "end_time": null,
     "exception": null,
     "start_time": null,
     "status": "completed"
    },
    "tags": []
   },
   "outputs": [],
   "source": [
    "#PRUEBA 3\n",
    "\n",
    "m = linear_regressor2.coef_[0][0]\n",
    "c = linear_regressor2.intercept_[0]\n",
    "#Prediccion de x dias desde la fecha inicial del Dataset 2020-03-01\n",
    "dias=800\n",
    "label3 = m*dias-c\n",
    "print(\"Numero de casos a los \",dias,\" de la fecha inicial del dataset, se obtiene una prediccion de : \",label3)"
   ]
  },
  {
   "cell_type": "markdown",
   "id": "08ae9254",
   "metadata": {
    "papermill": {
     "duration": null,
     "end_time": null,
     "exception": null,
     "start_time": null,
     "status": "completed"
    },
    "tags": []
   },
   "source": [
    "Como se puede apreciar en la prueba 1 de \"PRIMERA DOSIS\" vs \"SEGUNDA DOSIS\" existe una gran diferencia de predicción de cantidad de contagios con una dosis y con dos dosis en el Ecuador. De igual manera se puede apreciar este cambio con la prueba 2 y 3 tanto de primera dosis como de segunda dosis"
   ]
  },
  {
   "cell_type": "markdown",
   "id": "115eeb10",
   "metadata": {
    "papermill": {
     "duration": null,
     "end_time": null,
     "exception": null,
     "start_time": null,
     "status": "completed"
    },
    "tags": []
   },
   "source": [
    "# Ecuador vs otros paises"
   ]
  },
  {
   "cell_type": "markdown",
   "id": "67518dbd",
   "metadata": {
    "papermill": {
     "duration": null,
     "end_time": null,
     "exception": null,
     "start_time": null,
     "status": "completed"
    },
    "tags": []
   },
   "source": [
    "Para poder generar un proceso de comparación de los datos de COVID 19 entre los distintos paises del mundo se ha escogido a Alemania y Grecia como paises de Europa y como representante de Latinoamérica se trabajará con Brasil"
   ]
  },
  {
   "cell_type": "code",
   "execution_count": null,
   "id": "542508f5",
   "metadata": {
    "papermill": {
     "duration": null,
     "end_time": null,
     "exception": null,
     "start_time": null,
     "status": "completed"
    },
    "tags": []
   },
   "outputs": [],
   "source": [
    "#Carga de datos\n",
    "\n",
    "#Ecuador\n",
    "df_ECU = pd.read_csv('in/vacunas.csv', sep = ',')\n",
    "\n",
    "#Alemania\n",
    "df_DEU =  pd.read_csv('in/germany.csv', sep = ',')\n",
    "\n",
    "#Brasil\n",
    "df_BRA = pd.read_csv('in/BRAZIL.csv', sep = ',')\n",
    "df_BRA"
   ]
  },
  {
   "cell_type": "markdown",
   "id": "4f511be3",
   "metadata": {
    "papermill": {
     "duration": null,
     "end_time": null,
     "exception": null,
     "start_time": null,
     "status": "completed"
    },
    "tags": []
   },
   "source": [
    "Alemania"
   ]
  },
  {
   "cell_type": "code",
   "execution_count": null,
   "id": "aba85466",
   "metadata": {
    "papermill": {
     "duration": null,
     "end_time": null,
     "exception": null,
     "start_time": null,
     "status": "completed"
    },
    "tags": []
   },
   "outputs": [],
   "source": [
    "df_DEU.head()"
   ]
  },
  {
   "cell_type": "code",
   "execution_count": null,
   "id": "4aaa0994",
   "metadata": {
    "papermill": {
     "duration": null,
     "end_time": null,
     "exception": null,
     "start_time": null,
     "status": "completed"
    },
    "tags": []
   },
   "outputs": [],
   "source": [
    "df_DEU_new = df_DEU.loc[:,['date','total_vaccinations']] #Seleccionar la columna correspondiente a la información de Alemania\n",
    "df_DEU_new "
   ]
  },
  {
   "cell_type": "code",
   "execution_count": null,
   "id": "7d93e0eb",
   "metadata": {
    "papermill": {
     "duration": null,
     "end_time": null,
     "exception": null,
     "start_time": null,
     "status": "completed"
    },
    "tags": []
   },
   "outputs": [],
   "source": [
    "# Expresar las fechas en numero de dias\n",
    "FMT = '%Y-%m-%d'\n",
    "df_DEU_new['date'] = df_DEU_new['date'].map(lambda x : (datetime.strptime(x, FMT) - datetime.strptime(\"2020-12-27\", FMT)).days)"
   ]
  },
  {
   "cell_type": "code",
   "execution_count": null,
   "id": "a802ce11",
   "metadata": {
    "papermill": {
     "duration": null,
     "end_time": null,
     "exception": null,
     "start_time": null,
     "status": "completed"
    },
    "tags": []
   },
   "outputs": [],
   "source": [
    "df_DEU_new"
   ]
  },
  {
   "cell_type": "code",
   "execution_count": null,
   "id": "cf0ab3ce",
   "metadata": {
    "papermill": {
     "duration": null,
     "end_time": null,
     "exception": null,
     "start_time": null,
     "status": "completed"
    },
    "tags": []
   },
   "outputs": [],
   "source": [
    "#Modelo regresion\n",
    "X_DEU = df_DEU_new['date'].values.reshape(-1,1)\n",
    "y_DEU = df_DEU_new['total_vaccinations'].values.reshape(-1,1)\n",
    "reg_DEU = RandomForestRegressor(n_estimators=10, random_state=0)\n",
    "reg_DEU.fit(X_DEU, y_DEU.ravel())"
   ]
  },
  {
   "cell_type": "code",
   "execution_count": null,
   "id": "9debb6aa",
   "metadata": {
    "papermill": {
     "duration": null,
     "end_time": null,
     "exception": null,
     "start_time": null,
     "status": "completed"
    },
    "tags": []
   },
   "outputs": [],
   "source": [
    "plt.figure(figsize = (8,7))\n",
    "plt.plot(X_DEU, y_DEU, '-', label ='TOTAL DE VACUNAS EN ALEMANIA',color='purple')\n",
    "plt.title('Vacunacion Alemania')\n",
    "plt.xlabel('Fecha ')\n",
    "plt.ylabel('# Vacunados')\n",
    "plt.legend()\n",
    "plt.show()"
   ]
  },
  {
   "cell_type": "markdown",
   "id": "7fb04106",
   "metadata": {
    "papermill": {
     "duration": null,
     "end_time": null,
     "exception": null,
     "start_time": null,
     "status": "completed"
    },
    "tags": []
   },
   "source": [
    "Brasil"
   ]
  },
  {
   "cell_type": "code",
   "execution_count": null,
   "id": "04b94ef9",
   "metadata": {
    "papermill": {
     "duration": null,
     "end_time": null,
     "exception": null,
     "start_time": null,
     "status": "completed"
    },
    "scrolled": true,
    "tags": []
   },
   "outputs": [],
   "source": [
    "df_BRA.head()"
   ]
  },
  {
   "cell_type": "code",
   "execution_count": null,
   "id": "d50835e0",
   "metadata": {
    "papermill": {
     "duration": null,
     "end_time": null,
     "exception": null,
     "start_time": null,
     "status": "completed"
    },
    "tags": []
   },
   "outputs": [],
   "source": [
    "df_BRA_new = df_BRA.loc[:,['date','total_vaccinations']] #Seleccionar la columna correspondiente a la información de Alemania\n",
    "df_BRA_new "
   ]
  },
  {
   "cell_type": "code",
   "execution_count": null,
   "id": "cf4b75e8",
   "metadata": {
    "papermill": {
     "duration": null,
     "end_time": null,
     "exception": null,
     "start_time": null,
     "status": "completed"
    },
    "tags": []
   },
   "outputs": [],
   "source": [
    "# Expresar las fechas en numero de dias\n",
    "FMT = '%Y-%m-%d'\n",
    "df_BRA_new['date'] = df_BRA_new['date'].map(lambda x : (datetime.strptime(x, FMT) - datetime.strptime(\"2021-01-16\", FMT)).days)"
   ]
  },
  {
   "cell_type": "code",
   "execution_count": null,
   "id": "239818fe",
   "metadata": {
    "papermill": {
     "duration": null,
     "end_time": null,
     "exception": null,
     "start_time": null,
     "status": "completed"
    },
    "tags": []
   },
   "outputs": [],
   "source": [
    "df_BRA_new"
   ]
  },
  {
   "cell_type": "code",
   "execution_count": null,
   "id": "ea511fd3",
   "metadata": {
    "papermill": {
     "duration": null,
     "end_time": null,
     "exception": null,
     "start_time": null,
     "status": "completed"
    },
    "tags": []
   },
   "outputs": [],
   "source": [
    "df_BRA_CLEAN = df_BRA_new.fillna(0)"
   ]
  },
  {
   "cell_type": "code",
   "execution_count": null,
   "id": "5dc467fa",
   "metadata": {
    "papermill": {
     "duration": null,
     "end_time": null,
     "exception": null,
     "start_time": null,
     "status": "completed"
    },
    "tags": []
   },
   "outputs": [],
   "source": [
    "df_BRA_CLEAN"
   ]
  },
  {
   "cell_type": "code",
   "execution_count": null,
   "id": "131fbe78",
   "metadata": {
    "papermill": {
     "duration": null,
     "end_time": null,
     "exception": null,
     "start_time": null,
     "status": "completed"
    },
    "tags": []
   },
   "outputs": [],
   "source": [
    "#Modelo regresion\n",
    "X_BRA = df_BRA_CLEAN['date'].values.reshape(-1,1)\n",
    "y_BRA = df_BRA_CLEAN['total_vaccinations'].values.reshape(-1,1)\n",
    "reg_BRA = RandomForestRegressor(n_estimators=10, random_state=0)\n",
    "reg_BRA.fit(X_BRA, y_BRA.ravel())"
   ]
  },
  {
   "cell_type": "code",
   "execution_count": null,
   "id": "bb695f39",
   "metadata": {
    "papermill": {
     "duration": null,
     "end_time": null,
     "exception": null,
     "start_time": null,
     "status": "completed"
    },
    "tags": []
   },
   "outputs": [],
   "source": [
    "plt.figure(figsize = (8,7))\n",
    "plt.plot(X_BRA, y_BRA, '-', label ='TOTAL VACUNADOS EN BRASIL', color='pink')\n",
    "plt.title('Vacunacion Brasil')\n",
    "plt.xlabel('Fecha ')\n",
    "plt.ylabel('# Vacunados')\n",
    "plt.legend()\n",
    "plt.show()"
   ]
  },
  {
   "cell_type": "markdown",
   "id": "f5e17516",
   "metadata": {
    "papermill": {
     "duration": null,
     "end_time": null,
     "exception": null,
     "start_time": null,
     "status": "completed"
    },
    "tags": []
   },
   "source": [
    "Como se puede observar en la grafica anterior existen caidas a 0 y esto ocurrio al momento de limpiar el total de vacunas por fechas puesto que habian fechas que no tuvieron vacunas, por lo que se igualo a cero estas fechas"
   ]
  },
  {
   "cell_type": "markdown",
   "id": "903999c4",
   "metadata": {
    "papermill": {
     "duration": null,
     "end_time": null,
     "exception": null,
     "start_time": null,
     "status": "completed"
    },
    "tags": []
   },
   "source": [
    "Ecuador"
   ]
  },
  {
   "cell_type": "code",
   "execution_count": null,
   "id": "9298c27e",
   "metadata": {
    "papermill": {
     "duration": null,
     "end_time": null,
     "exception": null,
     "start_time": null,
     "status": "completed"
    },
    "tags": []
   },
   "outputs": [],
   "source": [
    "df_ECU.head(3)"
   ]
  },
  {
   "cell_type": "code",
   "execution_count": null,
   "id": "8f8dc2b5",
   "metadata": {
    "papermill": {
     "duration": null,
     "end_time": null,
     "exception": null,
     "start_time": null,
     "status": "completed"
    },
    "tags": []
   },
   "outputs": [],
   "source": [
    "# Expresar las fechas en numero de dias\n",
    "FMT = '%d/%m/%Y'\n",
    "df_ECU['fecha'] = df_ECU['fecha'].map(lambda x : (datetime.strptime(x, FMT) - datetime.strptime(\"21/01/2021\", FMT)).days)"
   ]
  },
  {
   "cell_type": "code",
   "execution_count": null,
   "id": "b4ac3037",
   "metadata": {
    "papermill": {
     "duration": null,
     "end_time": null,
     "exception": null,
     "start_time": null,
     "status": "completed"
    },
    "tags": []
   },
   "outputs": [],
   "source": [
    "#Modelo regresion\n",
    "X_ECU = df_ECU['fecha'].values.reshape(-1,1)\n",
    "y_ECU = df_ECU['dosis_total'].values.reshape(-1,1)\n",
    "reg_ECU = RandomForestRegressor(n_estimators=10, random_state=0)\n",
    "reg_ECU.fit(X_ECU, y_ECU.ravel())"
   ]
  },
  {
   "cell_type": "code",
   "execution_count": null,
   "id": "37a82c09",
   "metadata": {
    "papermill": {
     "duration": null,
     "end_time": null,
     "exception": null,
     "start_time": null,
     "status": "completed"
    },
    "tags": []
   },
   "outputs": [],
   "source": [
    "plt.figure(figsize = (8,7))\n",
    "plt.plot(X_ECU, y_ECU, '-', label ='TOTAL VACUNADOS EN ECUADOR', color='blue')\n",
    "plt.title('Vacunacion Brasil')\n",
    "plt.xlabel('Fecha ')\n",
    "plt.ylabel('# Vacunados')\n",
    "plt.legend()\n",
    "plt.show()"
   ]
  },
  {
   "cell_type": "markdown",
   "id": "da2088c2",
   "metadata": {
    "papermill": {
     "duration": null,
     "end_time": null,
     "exception": null,
     "start_time": null,
     "status": "completed"
    },
    "tags": []
   },
   "source": [
    "Ecuador vs Brasil vs Alemania"
   ]
  },
  {
   "cell_type": "code",
   "execution_count": null,
   "id": "eae22c84",
   "metadata": {
    "papermill": {
     "duration": null,
     "end_time": null,
     "exception": null,
     "start_time": null,
     "status": "completed"
    },
    "tags": []
   },
   "outputs": [],
   "source": [
    "plt.figure(figsize = (14,7))\n",
    "plt.plot(X_BRA, reg_BRA.predict(X_BRA),  '-', label = 'Brasil', color='green')\n",
    "plt.plot(X_ECU, reg_ECU.predict(X_ECU),  '-', label = 'Ecuador', color='blue')\n",
    "plt.plot(X_DEU, reg_DEU.predict(X_DEU),  '-', label = 'Alemania', color='black')\n",
    "plt.title('Ecuador vs otros paises')\n",
    "plt.xlabel('Fecha en días')\n",
    "plt.ylabel('Vacunadas')\n",
    "plt.legend()\n",
    "plt.show()"
   ]
  },
  {
   "cell_type": "code",
   "execution_count": null,
   "id": "c4f44794",
   "metadata": {
    "papermill": {
     "duration": null,
     "end_time": null,
     "exception": null,
     "start_time": null,
     "status": "completed"
    },
    "tags": []
   },
   "outputs": [],
   "source": []
  }
 ],
 "metadata": {
  "kernelspec": {
   "display_name": "Python 3",
   "language": "python",
   "name": "python3"
  },
  "language_info": {
   "codemirror_mode": {
    "name": "ipython",
    "version": 3
   },
   "file_extension": ".py",
   "mimetype": "text/x-python",
   "name": "python",
   "nbconvert_exporter": "python",
   "pygments_lexer": "ipython3",
   "version": "3.8.5"
  },
  "papermill": {
   "default_parameters": {},
   "duration": 0.084794,
   "end_time": "2021-05-13T02:58:03.692952",
   "environment_variables": {},
   "exception": null,
   "input_path": "./Prueba1.ipynb",
   "output_path": "./out/output-prueba1.ipynb",
   "parameters": {
    "end_date": "2021-04-11",
    "first_date": "2021-02-11"
   },
   "start_time": "2021-05-13T02:58:03.608158",
   "version": "2.3.3"
  }
 },
 "nbformat": 4,
 "nbformat_minor": 5
}
