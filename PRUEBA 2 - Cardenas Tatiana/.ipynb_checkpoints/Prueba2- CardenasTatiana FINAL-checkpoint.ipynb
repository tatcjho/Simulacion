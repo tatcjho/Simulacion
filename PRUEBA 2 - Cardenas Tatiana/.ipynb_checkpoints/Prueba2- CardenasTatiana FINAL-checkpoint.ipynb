{
 "cells": [
  {
   "cell_type": "markdown",
   "metadata": {},
   "source": [
    "# Prueba Unidad 2\n",
    "Realizado por: Tatiana Cárdenas"
   ]
  },
  {
   "cell_type": "code",
   "execution_count": null,
   "metadata": {},
   "outputs": [],
   "source": [
    "from IPython.display import Image"
   ]
  },
  {
   "cell_type": "markdown",
   "metadata": {},
   "source": [
    "# Análisis del problema:\n",
    "El golpe económico de la crisis sanitaria del corona virus no va a ser cosa de semanas, sino de meses. Dentro de una de las etapas importantes posteriores a las elecciones presidenciales son la re activación de los pequeños comercios y/o centros educativos. Para ello se plantea realizar  un modelo de simulación de eventos discretos que permita determinar cual son los principales factores para la re activación económica en el ingreso a las aulas de los estudiantes."
   ]
  },
  {
   "cell_type": "markdown",
   "metadata": {},
   "source": [
    "# Centro De EducaciÓn Inicial Particular \"La Cometa\"\n"
   ]
  },
  {
   "cell_type": "code",
   "execution_count": null,
   "metadata": {},
   "outputs": [],
   "source": [
    "Image(\"logo-institucion.jpg\", width=250, height=250)"
   ]
  },
  {
   "cell_type": "markdown",
   "metadata": {},
   "source": [
    "La institución educativa Centro De Educación Inicial Particular La Cometa está identificado con el Ministerio de Educacción con el código 01H00220. La institución está ubicado en la Provincia de Azuay, Cantón Cuenca, Parroquia de HUAYNACAPAC.\n",
    "La Institución Educativa es Particular Laico, el régimen escolar es Sierra, la modalidad es Presencial con jornada Matutina y Vespertina. Las instalaciones de la institución educativa Centro De EducaciÓn Inicial Particular La Cometa son Propio con acceso Terrestre.\n",
    "\n",
    "Según la estadistica del 2012 proporcionada por eñ Ministerio de Educación del Ecuador – Institución del Estado ecuatoriano que garantiza el acceso y calidad de la Educación Inicial, Básica y Bachillerato a los y las habitantes del territorio nacional, en el Centro Pre Escolar y Apoyo Integral \"La Cometa\" existe 7 docente y 23 alumnos matriculados.\n",
    "\n",
    "No obstante, en la página de Educación Ecuador, tenemos actualizada dicha estadistica del periodo lectivo 2018-2019, la cual presenta que hubieron:\n",
    "\n",
    "* Docentes Femenino: 15\n",
    "* Docentes Masculino: 2\n",
    "* --> Total Docentes: 17\n",
    "* Administrativos Femenino: 2\n",
    "* Administrativos Masculino: 0\n",
    "* --> Total Administrativos: 2\n",
    "* Estudiantes Femenino: 42\n",
    "* Estudiantes Masculino: 36\n",
    "* --> Total Estudiantes: 78"
   ]
  },
  {
   "cell_type": "markdown",
   "metadata": {},
   "source": [
    "__________________________________________________________________________________________________________________________"
   ]
  },
  {
   "cell_type": "code",
   "execution_count": null,
   "metadata": {},
   "outputs": [],
   "source": [
    "#Importación de librerías\n",
    "import matplotlib.pyplot as plt\n",
    "import simpy\n",
    "import random as rand\n",
    "import datetime \n",
    "from statistics import mean\n",
    "import math\n",
    "\n",
    "#Nueva libreria para graficas\n",
    "import seaborn as sns\n",
    "import pygal\n",
    "\n",
    "print('Importadas')"
   ]
  },
  {
   "cell_type": "code",
   "execution_count": null,
   "metadata": {},
   "outputs": [],
   "source": [
    "# Total docentes = 17\n",
    "DOCENTES = 17\n",
    "\n",
    "# Total estudiantes = 78\n",
    "ESTUDIANTES = 78\n",
    "\n",
    "#Personal a cargo de la prueba PCR\n",
    "PERSONAL_PCR = 5\n",
    "\n",
    "# Total de cursos = numEstudiantes / numDocentes\n",
    "CURSOS = math.ceil(ESTUDIANTES/DOCENTES)\n",
    "\n",
    "# Se tiene un promedio que el 90% de los docentes han sido vacunados\n",
    "TOTAL_DOCENTES = int(DOCENTES*0.9)\n",
    "\n",
    "#Dentro del procesos se tiene que alrededor del 5% - 10% de los estudiantes no podrán asistir debido a no presentar la vacuna/enfermedades.\n",
    "TOTAL_ESTUDIANTES = int(ESTUDIANTES*0.8)\n",
    "\n",
    "#Total de estudiantes contagiados en el receso\n",
    "TOTAL_ESTUDIANTES_CONTAGIADOS = 0\n",
    "\n",
    "#Periodo de prueba = 1 mes ** Se multiplica las horas de clase por 60 para obtener el total de minutos al dia \n",
    "PERIODO_PRUEBA = 30 #dias\n",
    "TIEMPO_POR_DIA = (6*60)\n",
    "\n",
    "# Tiempo Prueba PCR\n",
    "TIEMPO_TOTAL_PRUEBA_PCR = 0\n",
    "\n",
    "# Tiempo de prueba PCR de cada persona\n",
    "TIEMPO_PRUEBA_PER_PERS = {}\n",
    "\n",
    "# Distribución de estudiante por curso\n",
    "ESTUDIANTE_PER_CURSO = {}\n",
    "\n",
    "#Tienen un receso 30 minutos dentro del establecimiento \n",
    "RECESO_POR_DIA = 30\n",
    "\n",
    "#Estudiantes PCR.\n",
    "PRUEBA_PCR = 0\n",
    "\n",
    "#Estudiantes contagiados\n",
    "ESTUDIANTES_CONTAGIADOS = 0\n",
    "\n",
    "#Estudiantes que no entrar a clases por vacuna o enfermedades\n",
    "ESTUDIANTES_NO_CLASES = 0\n",
    "\n",
    "TOTAL_PERSONAS = 0\n",
    "\n",
    "#Cuantos estudiantes ingresan y salen al final del mes.\n",
    "TOTAL_ESTUDIANTES_FIN_MES = 0\n",
    "\n",
    "#Cuantos docentes ingresan y salen al final del mes.\n",
    "TOTAL_DOCENTES_FIN_MES = 0\n",
    "\n",
    "TIEMPO_SIMULACION = 40000\n",
    "\n",
    "\n",
    "#Division de horas para los dos periodos de clases teniendo en cuenta que hay 1 recreo de 30 min\n",
    "periodo1 = int(round(TIEMPO_POR_DIA-RECESO_POR_DIA)/2)\n",
    "periodo2 = int(round(TIEMPO_POR_DIA-RECESO_POR_DIA)/2)\n",
    "\n",
    "ESTUDIANTES_COMETA = {}\n",
    "\n",
    "NO_CUMPLE = []\n",
    "CONTAGIADOS_RECREO = []\n",
    "ESTUDIANTES_CONTAGIADOS_RECREO = []\n",
    "\n",
    "ESTUDIANTE_PRUEBA_10 = []\n",
    "\n",
    "\n",
    "PRUEBA_PCR= []\n",
    "\n",
    "PRUEBA_PCR_RESULTADO = []\n",
    "\n",
    "prueba_pcr_preseleccion={}\n"
   ]
  },
  {
   "cell_type": "markdown",
   "metadata": {},
   "source": [
    "Asignacion de un ID al estudiante"
   ]
  },
  {
   "cell_type": "code",
   "execution_count": null,
   "metadata": {},
   "outputs": [],
   "source": [
    "for i in range(TOTAL_ESTUDIANTES):\n",
    "    ESTUDIANTES_COMETA[i]=\"NO\",i"
   ]
  },
  {
   "cell_type": "code",
   "execution_count": null,
   "metadata": {},
   "outputs": [],
   "source": [
    "print(ESTUDIANTES_COMETA)"
   ]
  },
  {
   "cell_type": "markdown",
   "metadata": {},
   "source": [
    "Asignacion de estudiantes a un curso"
   ]
  },
  {
   "cell_type": "code",
   "execution_count": null,
   "metadata": {},
   "outputs": [],
   "source": [
    "for i in range(TOTAL_ESTUDIANTES):\n",
    "    ESTUDIANTE_PER_CURSO[i] = i, rand.randint(1,CURSOS)"
   ]
  },
  {
   "cell_type": "code",
   "execution_count": null,
   "metadata": {},
   "outputs": [],
   "source": [
    "def regresoClases(env, name, clases, **duration):\n",
    "    rnd = rand.randint(1,ESTUDIANTES)\n",
    "    no_entra_clases = 0\n",
    "    si_entra_clases_uid = []\n",
    "    if rnd <= 8:\n",
    "        no_entra_clases+=1\n",
    "        NO_CUMPLE.append(int(no_entra_clases))\n",
    "        print(f'{name} No puede entrar a clases, ENFERMO/SIN VACUNA {round(env.now, 2)}')\n",
    "        \n",
    "    else:\n",
    "        with clases.request() as req:\n",
    "            yield req \n",
    "            #1: Entra a clases\n",
    "            print(f'{name} Entra a clases a las {round(env.now)}')\n",
    "            yield env.timeout(duration['entra_clases'])\n",
    "            \n",
    "            #2: Sale al recreo\n",
    "            print(f'{name} Sale al recreo a las {round(env.now)}')\n",
    "            yield env.timeout(duration['sale_recreo'])\n",
    "            \n",
    "            for i in range(len(ESTUDIANTES_COMETA)):\n",
    "                contagio_recreo = 0\n",
    "#                 aux = []\n",
    "                \n",
    "                rnd_recreo = rand.randint(1,len(ESTUDIANTES_COMETA))            \n",
    "                if rnd_recreo < math.ceil(len(ESTUDIANTES_COMETA)*0.02):\n",
    "                    \n",
    "                    estudiante = ESTUDIANTES_COMETA[i][1]\n",
    "            \n",
    "                    contagio_recreo+=1\n",
    "\n",
    "                    ESTUDIANTES_CONTAGIADOS_RECREO.append(estudiante)\n",
    "                    CONTAGIADOS_RECREO.append(int(contagio_recreo))\n",
    "                    \n",
    "            #3: Regresa a clases\n",
    "            print(f'{name} Regresa a clases a las {round(env.now)}')\n",
    "            yield env.timeout(duration['regresa_clases'])\n",
    "\n",
    "            #4: Entra a clases\n",
    "            print(f'{name} Se va a la casa a las {round(env.now)}')\n",
    "            yield env.timeout(duration['sale_casa'])\n",
    "   \n",
    "        #---------------PRUEBA PCR----------------#\n",
    "        yield env.timeout(duration['pruebaPCR'])\n",
    "        \n",
    "        rnd_PCR = rand.randint(1,100)\n",
    "        pruebaPCR = 0\n",
    "        if rnd_PCR <= math.ceil(len(ESTUDIANTES_COMETA)*0.10):\n",
    "            print(f'{name} para prueba PCR {round(env.now, 2)}')\n",
    "            pruebaPCR=+1\n",
    "            PRUEBA_PCR.append(int(pruebaPCR))\n",
    "        \n",
    "            rnd_PCR = rand.randint(1,100)\n",
    "            rnd_resultado_pcr = 0\n",
    "            print('Hasta aqui')\n",
    "            if rnd_PCR <= math.ceil(TOTAL_ESTUDIANTES*0.02):\n",
    "                print('Hasta 1')\n",
    "                print(f'{name} RESULTADO ** CONTAGIADO {round(env.now, 2)}')\n",
    "                rnd_resultado_pcr=+1\n",
    "                PRUEBA_PCR_RESULTADO.append(int(rnd_resultado_pcr))\n",
    "        "
   ]
  },
  {
   "cell_type": "code",
   "execution_count": null,
   "metadata": {
    "scrolled": true
   },
   "outputs": [],
   "source": [
    "\n",
    "env = simpy.Environment()\n",
    "\n",
    "# Model restaurant that can only allow 2 customers at once\n",
    "clases = simpy.Resource(env, capacity=TOTAL_ESTUDIANTES)\n",
    "durations = {'entra_clases': periodo1, 'sale_recreo': RECESO_POR_DIA, 'regresa_clases': periodo2, 'sale_casa': 2, 'pruebaPCR':30}\n",
    "\n",
    "#CONTAGIOS POR PRUEBA PCR\n",
    "a = len(PRUEBA_PCR_RESULTADO)\n",
    "if a == 0:\n",
    "    print('NO HUBIERON CONTAGIADOS :) ')\n",
    "else:\n",
    "    print('Si hay contagiados,total',PRUEBA_PCR_RESULTADO)\n",
    "    \n",
    "#cursos = {}\n",
    "for i in range(TOTAL_ESTUDIANTES):\n",
    "    env.process(regresoClases(env, f'Estudiante {i}', clases, **durations))\n",
    "env.run(until=TIEMPO_SIMULACION)"
   ]
  },
  {
   "cell_type": "code",
   "execution_count": null,
   "metadata": {},
   "outputs": [],
   "source": [
    "mylist = list(set(ESTUDIANTES_CONTAGIADOS_RECREO))\n",
    "\n",
    "print(len(mylist))"
   ]
  },
  {
   "cell_type": "code",
   "execution_count": null,
   "metadata": {},
   "outputs": [],
   "source": [
    "print(PRUEBA_PCR_RESULTADO)"
   ]
  },
  {
   "cell_type": "code",
   "execution_count": null,
   "metadata": {},
   "outputs": [],
   "source": [
    "print(PRUEBA_PCR)"
   ]
  },
  {
   "cell_type": "markdown",
   "metadata": {},
   "source": [
    "# Reportes:"
   ]
  },
  {
   "cell_type": "code",
   "execution_count": null,
   "metadata": {},
   "outputs": [],
   "source": [
    "print('Total de estudiantes:',ESTUDIANTES)\n",
    "print('Total de estudiantes que ingresaron a clases:',TOTAL_ESTUDIANTES)\n",
    "print('Total de estudiantes que no ingresaron a clases:',ESTUDIANTES-TOTAL_ESTUDIANTES)\n",
    "print('Total de estudiantes que se contagiaron en el recreo:',len(mylist))\n",
    "print('Personas que salieron positivo en las pruebas PCR:', len(PRUEBA_PCR_RESULTADO))\n",
    "print('Se deben cerrar', len(PRUEBA_PCR_RESULTADO))\n"
   ]
  },
  {
   "cell_type": "markdown",
   "metadata": {},
   "source": [
    "# Gráficas representativas de los resultados:"
   ]
  },
  {
   "cell_type": "code",
   "execution_count": null,
   "metadata": {},
   "outputs": [],
   "source": [
    "print(ESTUDIANTES_COMETA)"
   ]
  },
  {
   "cell_type": "code",
   "execution_count": null,
   "metadata": {},
   "outputs": [],
   "source": [
    "# A continuación se presenta la gráfica representativa de los vacunados vs los no vacunados\n",
    "fig = plt.figure(figsize=(15,8))\n",
    "plt.title('LA COMETA')\n",
    "x = ['Ingresados', 'No Ingresados']\n",
    "y = [TOTAL_ESTUDIANTES, ESTUDIANTES-TOTAL_ESTUDIANTES]\n",
    "#current_palette = sns.color_palette()\n",
    "#Seaborn\n",
    "sns.barplot(x=x, y=y,linewidth=10, facecolor=(1, 1, 1, 0),\n",
    "                 errcolor=\".2\", edgecolor=\".2\")\n",
    "plt.xlabel('Estado')\n",
    "plt.ylabel('Total de niños')\n",
    "plt.show()"
   ]
  },
  {
   "cell_type": "markdown",
   "metadata": {},
   "source": [
    "# Resultados:\n",
    "* Al ser una institución bastante pequeña es necesario agrandar los porcentajes para poder medir a los estudiantes ya que al no tener tantos estudiantes, no se pudo encontrar un estudiante que de positivo en la prueba PCR, por ende, no se pudo cerrar un curso como tal, por tal motivo es importante ampliar los rangos de porcentaje o tener un tipo de rango de acuerdo al número de población que va a participar en la simulación.\n",
    "* En el presente modelo se ha simulado de manera exitosa una institución pequeña que es una Escuela de educación inicial, la cual se presenta el primer periodo, el recreo, el segundo periodo y después la salida. Algunas instituciones poseen 2 recreos por lo que también es importante hacer un analisis previo para poder simular un evento discreto de ese tipo."
   ]
  },
  {
   "cell_type": "markdown",
   "metadata": {},
   "source": [
    "# Referencias:\n",
    "* https://educacion.gob.ec/wp-content/uploads/downloads/2012/08/AZUAY11.pdf\n",
    "* https://educacionecuador.com/listings/centro-de-educacion-inicial-particular-la-cometa/\n"
   ]
  },
  {
   "cell_type": "markdown",
   "metadata": {},
   "source": []
  },
  {
   "cell_type": "code",
   "execution_count": null,
   "metadata": {},
   "outputs": [],
   "source": []
  },
  {
   "cell_type": "code",
   "execution_count": null,
   "metadata": {},
   "outputs": [],
   "source": [
    "\n"
   ]
  }
 ],
 "metadata": {
  "kernelspec": {
   "display_name": "Python 3",
   "language": "python",
   "name": "python3"
  },
  "language_info": {
   "codemirror_mode": {
    "name": "ipython",
    "version": 3
   },
   "file_extension": ".py",
   "mimetype": "text/x-python",
   "name": "python",
   "nbconvert_exporter": "python",
   "pygments_lexer": "ipython3",
   "version": "3.8.5"
  }
 },
 "nbformat": 4,
 "nbformat_minor": 4
}
